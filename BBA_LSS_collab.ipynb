{
 "cells": [
  {
   "cell_type": "markdown",
   "metadata": {
    "colab_type": "text",
    "id": "view-in-github"
   },
   "source": [
    "<a href=\"https://colab.research.google.com/github/mrjoness/LSS_BBA/blob/main/BBA_LSS_collab.ipynb\" target=\"_parent\"><img src=\"https://colab.research.google.com/assets/colab-badge.svg\" alt=\"Open In Colab\"/></a>"
   ]
  },
  {
   "cell_type": "markdown",
   "metadata": {
    "id": "vo3MpoRgxooK"
   },
   "source": [
    "# LSS applied to CA-backbone of BBA fast-folding protein\n"
   ]
  },
  {
   "cell_type": "code",
   "execution_count": null,
   "metadata": {
    "id": "YXMnQ8QdxooL"
   },
   "outputs": [],
   "source": [
    "import torch"
   ]
  },
  {
   "cell_type": "code",
   "execution_count": null,
   "metadata": {
    "colab": {
     "base_uri": "https://localhost:8080/"
    },
    "id": "AlnTG9hKzQhz",
    "outputId": "13c13594-10c2-4c39-ed7e-fee9845ec8ea"
   },
   "outputs": [],
   "source": [
    "if torch.cuda.is_available():\n",
    "  print('GPU available')\n",
    "else:\n",
    "  print('Please set GPU via Edit -> Notebook Settings.')"
   ]
  },
  {
   "cell_type": "code",
   "execution_count": null,
   "metadata": {
    "colab": {
     "base_uri": "https://localhost:8080/",
     "height": 36
    },
    "id": "AZYr4J42zedO",
    "outputId": "6b042775-e190-473f-9b90-fa86be55da7e"
   },
   "outputs": [],
   "source": [
    "device= 'cuda' if torch.cuda.is_available() else 'cpu'\n",
    "device"
   ]
  },
  {
   "cell_type": "markdown",
   "metadata": {
    "id": "v4sLC0mZzlJT"
   },
   "source": [
    "##Uploading files\n",
    "\n",
    "Navigate to collab_files directory and select all:\n",
    "\n",
    "(i) 1FME-0-c-alpha.pdb\n",
    "\n",
    "(ii) 1FME-0-c-alpha-00*_stride-50.dcd\n",
    "\n",
    "(iii) model_snrv-3.pth\n",
    "\n",
    "(iv) model_mdn-100.pth\n",
    "\n",
    "(v) model_ddpm-25.pth\n",
    "\n",
    "\n",
    "N.B. If file upload fails, try using alternate upload means by clicking on file icon in left menu and directly uploading to colab session storage or by uploading to and mounting Google Drive"
   ]
  },
  {
   "cell_type": "code",
   "execution_count": null,
   "metadata": {
    "colab": {
     "base_uri": "https://localhost:8080/",
     "height": 524
    },
    "id": "wXYzQFy-zpCZ",
    "outputId": "c2c9a1a6-b2b2-45b2-e6e7-fe23d1c7f660"
   },
   "outputs": [],
   "source": [
    "# should take 6-7 minutes\n",
    "\n",
    "from google.colab import files\n",
    "files.upload()"
   ]
  },
  {
   "cell_type": "code",
   "execution_count": null,
   "metadata": {
    "colab": {
     "base_uri": "https://localhost:8080/"
    },
    "id": "01xBCJX0z_jG",
    "outputId": "96ba6b2a-1ded-4e44-de08-fcb56703f079"
   },
   "outputs": [],
   "source": [
    "%pip install numpy scipy pandas scikit-learn jupyter ipywidgets==7.7.2 widgetsnbextension jupyter_contrib_nbextensions matplotlib MDTraj tqdm pytest pyemma deeptime einops torch torchvision pytorch-lightning nglview"
   ]
  },
  {
   "cell_type": "code",
   "execution_count": null,
   "metadata": {
    "colab": {
     "base_uri": "https://localhost:8080/"
    },
    "id": "Y3nhPJBV16mu",
    "outputId": "a27e945e-525d-43d4-ebae-9f34971818fa"
   },
   "outputs": [],
   "source": [
    "# enable jupyter extensions\n",
    "\n",
    "!jupyter nbextension enable --py --sys-prefix widgetsnbextension\n",
    "!jupyter nbextension enable nglview --py --sys-prefix\n",
    "!nglview enable"
   ]
  },
  {
   "cell_type": "code",
   "execution_count": null,
   "metadata": {
    "colab": {
     "base_uri": "https://localhost:8080/"
    },
    "id": "gMKPecG12DIn",
    "outputId": "f3deb779-b8ae-4ebe-8263-d6fd6bc07163"
   },
   "outputs": [],
   "source": [
    "# install each LSS component\n",
    "\n",
    "%pip install git+https://github.com/andrewlferguson/snrv.git\n",
    "%pip install git+https://github.com/Ferg-Lab/mdn_propagator.git\n",
    "%pip install git+https://github.com/Ferg-Lab/molgen.git"
   ]
  },
  {
   "cell_type": "markdown",
   "metadata": {
    "id": "59s4FKiV_Rf-"
   },
   "source": [
    "Load the different components from their respective repos"
   ]
  },
  {
   "cell_type": "code",
   "execution_count": 1,
   "metadata": {
    "id": "52nvQrpUzKaa"
   },
   "outputs": [],
   "source": [
    "from mdn_propagator.propagator import Propagator\n",
    "from molgen.models import DDPM\n",
    "from snrv import Snrv\n",
    "from snrv.utils import set_random_seed"
   ]
  },
  {
   "cell_type": "markdown",
   "metadata": {
    "id": "_9OJrpR2zkjy"
   },
   "source": []
  },
  {
   "cell_type": "code",
   "execution_count": 2,
   "metadata": {
    "id": "UkKe4_6d_evK"
   },
   "outputs": [
    {
     "data": {
      "application/vnd.jupyter.widget-view+json": {
       "model_id": "77daea2656894f2f82c0048508b139b0",
       "version_major": 2,
       "version_minor": 0
      },
      "text/plain": []
     },
     "metadata": {},
     "output_type": "display_data"
    }
   ],
   "source": [
    "import mdtraj as md\n",
    "from pathlib import Path\n",
    "import torch\n",
    "import matplotlib.pyplot as plt\n",
    "import numpy as np\n",
    "import glob\n",
    "import nglview as nv\n",
    "import random\n",
    "\n",
    "import seaborn as sns\n",
    "from scipy.stats import pearsonr\n"
   ]
  },
  {
   "cell_type": "markdown",
   "metadata": {
    "id": "y0r4U0yD_vUk"
   },
   "source": [
    "Upload all files in the \"collab_files\" directory"
   ]
  },
  {
   "cell_type": "code",
   "execution_count": null,
   "metadata": {
    "id": "hDpd8OBa_4SK"
   },
   "outputs": [],
   "source": [
    "from google.colab import output\n",
    "output.enable_custom_widget_manager()"
   ]
  },
  {
   "cell_type": "markdown",
   "metadata": {
    "id": "7KFh6EoWxooM"
   },
   "source": [
    "# Load 10 DESRES trajectories\n",
    "\n",
    "These are stride 50x compared to what was used for training, but the original trajs are also included in the GitHub."
   ]
  },
  {
   "cell_type": "code",
   "execution_count": 3,
   "metadata": {
    "id": "HlDEA2NPxooM"
   },
   "outputs": [
    {
     "name": "stdout",
     "output_type": "stream",
     "text": [
      "10\n"
     ]
    }
   ],
   "source": [
    "# only load one dcd to save time\n",
    "\n",
    "# if loading locally\n",
    "load_path = './collab_files/'\n",
    "\n",
    "# if loading from collab\n",
    "#load_path = './'\n",
    "\n",
    "trj_fnames = sorted(glob.glob(f'{load_path}/1FME-0-c-alpha-00*.dcd'))\n",
    "top_fname = f'{load_path}/1FME-0-c-alpha.pdb'\n",
    "save_freq = 200 # ps\n",
    "\n",
    "print(len(trj_fnames))"
   ]
  },
  {
   "cell_type": "code",
   "execution_count": 4,
   "metadata": {
    "id": "5Zdhu_H0xooN"
   },
   "outputs": [
    {
     "name": "stdout",
     "output_type": "stream",
     "text": [
      "10 (2000, 28, 3)\n"
     ]
    }
   ],
   "source": [
    "trjs = [md.load(t, top=top_fname).center_coordinates() for t in trj_fnames]\n",
    "print(len(trjs), trjs[0].xyz.shape)"
   ]
  },
  {
   "cell_type": "code",
   "execution_count": 5,
   "metadata": {
    "id": "5RF0lLVBxooN"
   },
   "outputs": [
    {
     "data": {
      "application/vnd.jupyter.widget-view+json": {
       "model_id": "a5ba1fea9318436e9d8978f552ba2c07",
       "version_major": 2,
       "version_minor": 0
      },
      "text/plain": [
       "NGLWidget(max_frame=1999)"
      ]
     },
     "metadata": {},
     "output_type": "display_data"
    }
   ],
   "source": [
    "# view an example trj\n",
    "\n",
    "v = nv.show_mdtraj(trjs[0])\n",
    "v.clear_representations()\n",
    "v.add_representation('ball+stick')\n",
    "v"
   ]
  },
  {
   "cell_type": "code",
   "execution_count": 6,
   "metadata": {
    "id": "g6Erd5-3xooN"
   },
   "outputs": [
    {
     "data": {
      "text/plain": [
       "(10, torch.Size([2000, 378]))"
      ]
     },
     "execution_count": 6,
     "metadata": {},
     "output_type": "execute_result"
    }
   ],
   "source": [
    "# extract all distances between CA as features -- 28 residues == 378 featurse\n",
    "\n",
    "coords_torch = list()\n",
    "for trj in trjs:\n",
    "    pdists = [torch.pdist(p)[None] for p in torch.tensor(trj.xyz)]\n",
    "    coords_torch.append(torch.cat(pdists))\n",
    "len(coords_torch), coords_torch[0].shape"
   ]
  },
  {
   "cell_type": "code",
   "execution_count": 7,
   "metadata": {
    "id": "xe4EPNF2xooN"
   },
   "outputs": [
    {
     "data": {
      "text/plain": [
       "'cuda'"
      ]
     },
     "execution_count": 7,
     "metadata": {},
     "output_type": "execute_result"
    }
   ],
   "source": [
    "device= 'cuda' if torch.cuda.is_available() else 'cpu'\n",
    "device"
   ]
  },
  {
   "cell_type": "markdown",
   "metadata": {
    "id": "zSRwccqwxooN"
   },
   "source": [
    "# SnRV (load pre-trained model)"
   ]
  },
  {
   "cell_type": "code",
   "execution_count": 8,
   "metadata": {
    "id": "oTeT0QLIxooO"
   },
   "outputs": [
    {
     "name": "stdout",
     "output_type": "stream",
     "text": [
      "Setting random seed to 42\n"
     ]
    }
   ],
   "source": [
    "set_random_seed(42)"
   ]
  },
  {
   "cell_type": "code",
   "execution_count": 10,
   "metadata": {
    "id": "YcPjmatmxooO"
   },
   "outputs": [],
   "source": [
    "# train for 3 epochs (1_000_000 frames each) to avoid overfitting\n",
    "\n",
    "input_size = coords_torch[0].size()[1]\n",
    "output_size = 7\n",
    "hidden_depth = 2\n",
    "hidden_size = 100\n",
    "batch_norm = True\n",
    "dropout_rate = 0.0\n",
    "lr = 1E-2\n",
    "weight_decay = 0.0\n",
    "val_frac = 0.05\n",
    "n_epochs = 3\n",
    "batch_size = 25000\n",
    "VAMPdegree = 2\n",
    "is_reversible = True\n",
    "num_workers = 0\n",
    "\n",
    "model_snrv = Snrv(input_size, output_size, hidden_depth=hidden_depth, hidden_size=hidden_size,\n",
    "            batch_norm=batch_norm, dropout_rate=dropout_rate, lr=lr, weight_decay=weight_decay,\n",
    "            val_frac=val_frac, n_epochs=n_epochs, batch_size=batch_size,\n",
    "            VAMPdegree=VAMPdegree,is_reversible=is_reversible, num_workers=num_workers,\n",
    "            activation=torch.nn.GELU(), device=device)\n",
    "\n",
    "model_snrv = model_snrv.to(device)"
   ]
  },
  {
   "cell_type": "code",
   "execution_count": 11,
   "metadata": {
    "id": "ldymrQU_xooO",
    "scrolled": true
   },
   "outputs": [],
   "source": [
    "# load pretrained SRV model\n",
    "\n",
    "# (10 ns lag)  selected based on previous hyperparam check\n",
    "lag_n = 50\n",
    "\n",
    "load_pretrained_snrv = True\n",
    "save_new_model = False\n",
    "model_save_path = f'{load_path}model_snrv-3.pth'\n",
    "\n",
    "if load_pretrained_snrv:\n",
    "    ckp = torch.load(model_save_path)\n",
    "    model_snrv.load_state_dict(ckp['model_state_dict'])\n",
    "    model_snrv.training_losses = ckp['training_losses']\n",
    "    model_snrv.validation_losses = ckp['validation_losses']\n",
    "    model_snrv.evals = ckp['evals']\n",
    "    model_snrv.expansion_coefficients = ckp['expansion_coefficients']\n",
    "    model_snrv.is_fitted = True\n",
    "\n",
    "else:\n",
    "    model_snrv.fit(coords_torch, lag=lag_n, scheduler=0.98)\n",
    "    if save_new_model:\n",
    "        torch.save(model_snrv.state_dict(), model_save_path)\n",
    "\n",
    "        torch.save({\n",
    "        'model_state_dict': model_snrv.state_dict(),\n",
    "        'training_losses': model_snrv.training_losses,\n",
    "        'validation_losses': model_snrv.validation_losses,\n",
    "        'evals': model_snrv.evals,\n",
    "        'expansion_coefficients': model_snrv.expansion_coefficients,\n",
    "        }, model_save_path)"
   ]
  },
  {
   "cell_type": "code",
   "execution_count": 12,
   "metadata": {
    "colab": {
     "base_uri": "https://localhost:8080/",
     "height": 487
    },
    "id": "KrgliUYxxooO",
    "outputId": "e369a5a1-b8e7-4dd1-cade-2d40e50a305f"
   },
   "outputs": [
    {
     "data": {
      "image/png": "[encoded data removed]",
      "text/plain": [
       "<Figure size 640x480 with 1 Axes>"
      ]
     },
     "metadata": {},
     "output_type": "display_data"
    }
   ],
   "source": [
    "# after 5 epochs, training di\n",
    "\n",
    "fig, ax = plt.subplots()\n",
    "ax.plot(np.arange(len(model_snrv.training_losses)), model_snrv.training_losses)\n",
    "ax.plot(np.arange(len(model_snrv.validation_losses)), model_snrv.validation_losses)\n",
    "ax.set_xlabel('epoch')\n",
    "ax.set_ylabel('loss')\n",
    "ax.legend(['training','validation'])\n",
    "fig.tight_layout()"
   ]
  },
  {
   "cell_type": "code",
   "execution_count": 13,
   "metadata": {
    "colab": {
     "base_uri": "https://localhost:8080/",
     "height": 482
    },
    "id": "XKT9h_xBxooO",
    "outputId": "5a5b7039-5567-48a8-cfd0-5552db6aaec9"
   },
   "outputs": [
    {
     "data": {
      "text/plain": [
       "<matplotlib.lines.Line2D at 0x7f1b9dc772b0>"
      ]
     },
     "execution_count": 13,
     "metadata": {},
     "output_type": "execute_result"
    },
    {
     "data": {
      "image/png": "[encoded data removed]",
      "text/plain": [
       "<Figure size 640x480 with 1 Axes>"
      ]
     },
     "metadata": {},
     "output_type": "display_data"
    }
   ],
   "source": [
    "evals = model_snrv.evals.cpu().detach().numpy()\n",
    "plt.bar(range(1, evals.size), -lag_n*save_freq/np.log(evals[1:]))  # by default use evals[1:]\n",
    "plt.ylabel('Implied timescale (ps)')\n",
    "plt.xticks(range(1, evals.size))\n",
    "plt.xlabel('Timescale index')\n",
    "plt.axhline(lag_n*save_freq, color='k', linestyle=':')"
   ]
  },
  {
   "cell_type": "code",
   "execution_count": 14,
   "metadata": {
    "colab": {
     "base_uri": "https://localhost:8080/"
    },
    "id": "i1c5t0nvxooP",
    "outputId": "d6c1bc60-1015-49f0-8368-03675c25fc81"
   },
   "outputs": [
    {
     "name": "stdout",
     "output_type": "stream",
     "text": [
      "(20000, 7)\n"
     ]
    }
   ],
   "source": [
    "evecs = model_snrv.transform(torch.cat(coords_torch)).cpu().detach().numpy()\n",
    "print(evecs.shape)"
   ]
  },
  {
   "cell_type": "code",
   "execution_count": 15,
   "metadata": {
    "id": "52WqsTTvxooP"
   },
   "outputs": [],
   "source": [
    "# lag=1 here corresponds to lag=50 in original dataset\n",
    "\n",
    "import deeptime as dt\n",
    "tica = dt.decomposition.TICA(lagtime=1, dim=2)\n",
    "TICs = tica.fit_transform([a.numpy() for a in coords_torch]).reshape(-1, 2)"
   ]
  },
  {
   "cell_type": "code",
   "execution_count": 16,
   "metadata": {
    "colab": {
     "base_uri": "https://localhost:8080/",
     "height": 247
    },
    "id": "kGXjG3iJxooP",
    "outputId": "097fcf87-1b10-4200-dca8-8cfad8c7153b"
   },
   "outputs": [
    {
     "data": {
      "image/png": "[encoded data removed]",
      "text/plain": [
       "<Figure size 1200x600 with 12 Axes>"
      ]
     },
     "metadata": {},
     "output_type": "display_data"
    }
   ],
   "source": [
    "fig, axes = plt.subplots(2, 3, figsize = (12, 6), sharey=True, sharex=True)\n",
    "axes = axes.flatten()\n",
    "stride = 1\n",
    "\n",
    "for e in range(1, evecs.shape[1]):\n",
    "    evec = evecs[::stride, e]\n",
    "    ax = axes[e-1]\n",
    "    \n",
    "    im = ax.scatter(TICs[::stride, 0], TICs[::stride, 1], c=evec, s=10, cmap='coolwarm')\n",
    "    ax.set_xlabel('$TIC_1$', fontsize=18)\n",
    "    ax.set_ylabel('$TIC_2$', fontsize=18)\n",
    "    cbar = plt.colorbar(im, ax=ax)\n",
    "    cbar.set_label(f'$\\psi_{e}$', size=18)\n",
    "\n",
    "plt.tight_layout()"
   ]
  },
  {
   "cell_type": "code",
   "execution_count": 84,
   "metadata": {
    "colab": {
     "base_uri": "https://localhost:8080/",
     "height": 439
    },
    "id": "3JHfY7vQxooP",
    "outputId": "dddcf0bd-6740-427a-b2da-83629927de3e"
   },
   "outputs": [
    {
     "data": {
      "text/plain": [
       "Text(145.72222222222223, 0.5, 'Residue index')"
      ]
     },
     "execution_count": 84,
     "metadata": {},
     "output_type": "execute_result"
    },
    {
     "data": {
      "image/png": "[encoded data removed]",
      "text/plain": [
       "<Figure size 1400x400 with 6 Axes>"
      ]
     },
     "metadata": {},
     "output_type": "display_data"
    }
   ],
   "source": [
    "# Interpret modesl by checking correlations against input features (pairwise distances)\n",
    "\n",
    "fig, axes = plt.subplots(1, 3, figsize=(14, 4))\n",
    "\n",
    "all_feats = np.concatenate(coords_torch)\n",
    "num_features = all_feats.shape[1]\n",
    "nres = trjs[0].n_residues\n",
    "\n",
    "for evec_idx, ax in enumerate(axes):\n",
    "\n",
    "    heatmap = np.zeros((nres, nres))\n",
    "    correlations = np.zeros(num_features)\n",
    "    cnt = 0\n",
    "    \n",
    "    for i in range(num_features):\n",
    "        correlations[i], _ = pearsonr(all_feats[:, i], evecs[:, evec_idx + 1])\n",
    "\n",
    "    for i in range(len(heatmap)):\n",
    "        for j in range(i+1, nres):\n",
    "            heatmap[i, j] = correlations[cnt]\n",
    "            heatmap[j, i] = correlations[cnt]\n",
    "            cnt += 1\n",
    "\n",
    "    mask = np.triu(np.ones_like(heatmap, dtype=bool))\n",
    "    sns.heatmap(heatmap, mask=mask, cmap='coolwarm', ax=ax)\n",
    "\n",
    "    ax.set_title(f'$\\psi_{evec_idx+1}$ Correlations', fontsize=18)\n",
    "    ax.set_xlabel('Residue index', fontsize=14)\n",
    "    \n",
    "    ax.set_xticklabels(1 + 2*np.arange(14))\n",
    "    ax.set_yticklabels(1 + 2*np.arange(14))\n",
    "    \n",
    "axes[0].set_ylabel('Residue index', fontsize=14)\n",
    "    "
   ]
  },
  {
   "cell_type": "code",
   "execution_count": 60,
   "metadata": {
    "colab": {
     "base_uri": "https://localhost:8080/"
    },
    "id": "oZaGauedxooQ",
    "outputId": "03202d1d-ae62-4930-f3bb-73889a9fd2b1"
   },
   "outputs": [
    {
     "data": {
      "text/plain": [
       "(torch.Size([2000, 6]), 10, (20000, 6), (20000, 7))"
      ]
     },
     "execution_count": 60,
     "metadata": {},
     "output_type": "execute_result"
    }
   ],
   "source": [
    "# convert to MDN format\n",
    "\n",
    "CVs = [model_snrv.transform(x).cpu().detach()[:, 1:] for x in coords_torch]\n",
    "CVs_cat = evecs[:, 1:]\n",
    "CVs[0].shape, len(CVs), CVs_cat.shape, evecs.shape"
   ]
  },
  {
   "cell_type": "markdown",
   "metadata": {
    "id": "5m3PTMfixooQ"
   },
   "source": [
    "# MDN propagator"
   ]
  },
  {
   "cell_type": "code",
   "execution_count": 61,
   "metadata": {
    "id": "7FIx4FKkxooQ"
   },
   "outputs": [],
   "source": [
    "model_mdn = Propagator(dim = CVs[0].size(1))"
   ]
  },
  {
   "cell_type": "code",
   "execution_count": 62,
   "metadata": {
    "id": "JfOnszmuxooQ"
   },
   "outputs": [],
   "source": [
    "lag_mdn = 50   # set to same as SRV but this does not need to be the case\n",
    "\n",
    "load_pretrained_mdn = True\n",
    "save_new_model = False\n",
    "model_save_path = f'{load_path}model_mdn-100.pth'\n",
    "\n",
    "if load_pretrained_mdn:\n",
    "    model_mdn.load_state_dict(torch.load(model_save_path))\n",
    "    model_mdn.is_fit = True\n",
    "\n",
    "else:\n",
    "    model_mdn.fit(CVs, lag = lag_mdn, max_epochs=100)\n",
    "    if save_new_model:\n",
    "        torch.save(model_mdn.state_dict(), model_save_path)\n"
   ]
  },
  {
   "cell_type": "code",
   "execution_count": 67,
   "metadata": {
    "colab": {
     "base_uri": "https://localhost:8080/",
     "height": 66,
     "referenced_widgets": [
      "a265a194da534731b6b305d9069419b0",
      "69fb463e4770463fb04b3781ace97adc",
      "4dafe92566884aeca865967db3404f6a",
      "fe676ffd006248fcaa6846696a83b2be",
      "c4c57a5ab8df4fcc927523f1974b93e4",
      "fbdbbd6f6c994cc18f3d565ffef2749b",
      "9ff65c2041b04074a9a042f4cda147c9",
      "77d8869a722e44a58202f40f02f879b6",
      "feff86c0fd374ea28783a76e578f7fde",
      "d0085ca6f27b41c789cf2f661a1e71a1",
      "8744bb0f7f1c40758d98c27ea017eb1b"
     ]
    },
    "id": "0b9rNOjLxooQ",
    "outputId": "6d27983f-873b-4277-b6af-bce9fad4067a"
   },
   "outputs": [
    {
     "data": {
      "application/vnd.jupyter.widget-view+json": {
       "model_id": "d381756419064e72ae36e12b6b860755",
       "version_major": 2,
       "version_minor": 0
      },
      "text/plain": [
       "  0%|          | 0/20000 [00:00<?, ?it/s]"
      ]
     },
     "metadata": {},
     "output_type": "display_data"
    },
    {
     "data": {
      "text/plain": [
       "torch.Size([20000, 6])"
      ]
     },
     "execution_count": 67,
     "metadata": {},
     "output_type": "execute_result"
    }
   ],
   "source": [
    "# generate 10x longer synthetic traj\n",
    "\n",
    "n_steps = len(CVs_cat) #10 * len(evecs) / lag_n\n",
    "x = CVs[0][0][None]\n",
    "synthetic_traj_CVs = model_mdn.gen_synthetic_traj(x, n_steps)\n",
    "synthetic_traj_CVs.shape"
   ]
  },
  {
   "cell_type": "code",
   "execution_count": 68,
   "metadata": {
    "colab": {
     "base_uri": "https://localhost:8080/",
     "height": 713
    },
    "id": "mv_La65_xooQ",
    "outputId": "32c0c3d4-f39c-4d19-ae33-85c1bc31a4c5"
   },
   "outputs": [
    {
     "data": {
      "text/plain": [
       "Text(0.5, 0, 'Simulation Time (ms)')"
      ]
     },
     "execution_count": 68,
     "metadata": {},
     "output_type": "execute_result"
    },
    {
     "data": {
      "image/png": "[encoded data removed]",
      "text/plain": [
       "<Figure size 800x800 with 6 Axes>"
      ]
     },
     "metadata": {},
     "output_type": "display_data"
    }
   ],
   "source": [
    "fig, axes = plt.subplots(6, figsize=(8, 8), sharex=True)\n",
    "\n",
    "x = 0.01*np.arange(len(evecs))  # convert to ms\n",
    "\n",
    "for evec_idx, ax in enumerate(axes):\n",
    "    #ax.plot(x, evecs[:, evec_idx+1], label='DES-MD')\n",
    "    ax.plot(x, CVs_cat[:, evec_idx], label='DES-MD')\n",
    "    \n",
    "    ax.plot(x, synthetic_traj_CVs[:, evec_idx], label='MDN')\n",
    "    ax.set_ylabel(f'$\\psi_{evec_idx+1}$')\n",
    "    \n",
    "axes[-1].legend(fontsize=14)\n",
    "axes[-1].set_xlabel('Simulation Time (ms)', fontsize=16)"
   ]
  },
  {
   "cell_type": "code",
   "execution_count": 71,
   "metadata": {
    "colab": {
     "base_uri": "https://localhost:8080/",
     "height": 607
    },
    "id": "MfNsPT4xxooQ",
    "outputId": "8534ac45-8897-4c87-c603-ac7f5b6a30e1"
   },
   "outputs": [
    {
     "name": "stderr",
     "output_type": "stream",
     "text": [
      "/scratch/midway2/mikejones/conda_env/torchcfm_11.8/lib/python3.10/site-packages/seaborn/_oldcore.py:1119: FutureWarning: use_inf_as_na option is deprecated and will be removed in a future version. Convert inf values to NaN before operating instead.\n",
      "  with pd.option_context('mode.use_inf_as_na', True):\n",
      "/scratch/midway2/mikejones/conda_env/torchcfm_11.8/lib/python3.10/site-packages/seaborn/_oldcore.py:1119: FutureWarning: use_inf_as_na option is deprecated and will be removed in a future version. Convert inf values to NaN before operating instead.\n",
      "  with pd.option_context('mode.use_inf_as_na', True):\n",
      "/scratch/midway2/mikejones/conda_env/torchcfm_11.8/lib/python3.10/site-packages/seaborn/_oldcore.py:1119: FutureWarning: use_inf_as_na option is deprecated and will be removed in a future version. Convert inf values to NaN before operating instead.\n",
      "  with pd.option_context('mode.use_inf_as_na', True):\n",
      "/scratch/midway2/mikejones/conda_env/torchcfm_11.8/lib/python3.10/site-packages/seaborn/_oldcore.py:1119: FutureWarning: use_inf_as_na option is deprecated and will be removed in a future version. Convert inf values to NaN before operating instead.\n",
      "  with pd.option_context('mode.use_inf_as_na', True):\n",
      "/scratch/midway2/mikejones/conda_env/torchcfm_11.8/lib/python3.10/site-packages/seaborn/_oldcore.py:1119: FutureWarning: use_inf_as_na option is deprecated and will be removed in a future version. Convert inf values to NaN before operating instead.\n",
      "  with pd.option_context('mode.use_inf_as_na', True):\n",
      "/scratch/midway2/mikejones/conda_env/torchcfm_11.8/lib/python3.10/site-packages/seaborn/_oldcore.py:1119: FutureWarning: use_inf_as_na option is deprecated and will be removed in a future version. Convert inf values to NaN before operating instead.\n",
      "  with pd.option_context('mode.use_inf_as_na', True):\n",
      "/scratch/midway2/mikejones/conda_env/torchcfm_11.8/lib/python3.10/site-packages/seaborn/_oldcore.py:1119: FutureWarning: use_inf_as_na option is deprecated and will be removed in a future version. Convert inf values to NaN before operating instead.\n",
      "  with pd.option_context('mode.use_inf_as_na', True):\n",
      "/scratch/midway2/mikejones/conda_env/torchcfm_11.8/lib/python3.10/site-packages/seaborn/_oldcore.py:1119: FutureWarning: use_inf_as_na option is deprecated and will be removed in a future version. Convert inf values to NaN before operating instead.\n",
      "  with pd.option_context('mode.use_inf_as_na', True):\n",
      "/scratch/midway2/mikejones/conda_env/torchcfm_11.8/lib/python3.10/site-packages/seaborn/_oldcore.py:1119: FutureWarning: use_inf_as_na option is deprecated and will be removed in a future version. Convert inf values to NaN before operating instead.\n",
      "  with pd.option_context('mode.use_inf_as_na', True):\n",
      "/scratch/midway2/mikejones/conda_env/torchcfm_11.8/lib/python3.10/site-packages/seaborn/_oldcore.py:1119: FutureWarning: use_inf_as_na option is deprecated and will be removed in a future version. Convert inf values to NaN before operating instead.\n",
      "  with pd.option_context('mode.use_inf_as_na', True):\n",
      "/scratch/midway2/mikejones/conda_env/torchcfm_11.8/lib/python3.10/site-packages/seaborn/_oldcore.py:1119: FutureWarning: use_inf_as_na option is deprecated and will be removed in a future version. Convert inf values to NaN before operating instead.\n",
      "  with pd.option_context('mode.use_inf_as_na', True):\n",
      "/scratch/midway2/mikejones/conda_env/torchcfm_11.8/lib/python3.10/site-packages/seaborn/_oldcore.py:1119: FutureWarning: use_inf_as_na option is deprecated and will be removed in a future version. Convert inf values to NaN before operating instead.\n",
      "  with pd.option_context('mode.use_inf_as_na', True):\n"
     ]
    },
    {
     "data": {
      "image/png": "[encoded data removed]",
      "text/plain": [
       "<Figure size 800x800 with 6 Axes>"
      ]
     },
     "metadata": {},
     "output_type": "display_data"
    }
   ],
   "source": [
    "# histograms of all evecs across time -- ensures thermodynamics are approximately reproduced\n",
    "\n",
    "fig, axes = plt.subplots(6, figsize=(8, 8), sharex=False)\n",
    "\n",
    "evecs = np.array(evecs)\n",
    "synthetic_traj_CVs = np.array(synthetic_traj_CVs)\n",
    "evecs[np.isinf(evecs)] = np.nan\n",
    "synthetic_traj_CVs[np.isinf(synthetic_traj_CVs)] = np.nan\n",
    "\n",
    "for evec_idx, ax in enumerate(axes):\n",
    "    #sns.kdeplot(evecs[:, evec_idx+1], ax=ax, label='DES', fill=True)\n",
    "    sns.kdeplot(CVs_cat[:, evec_idx], ax=ax, label='DES-MD', fill=True)\n",
    "    \n",
    "    sns.kdeplot(synthetic_traj_CVs[:, evec_idx], ax=ax, label='MDN', fill=True)\n",
    "    ax.set_ylabel('')\n",
    "    ax.set_xlabel(f'$\\psi_{evec_idx+1}$', fontsize=16)\n",
    "\n",
    "axes[0].legend(fontsize=14)\n",
    "axes[3].set_ylabel(' '*20 + 'Density', fontsize=16)\n",
    "\n",
    "plt.tight_layout()\n",
    "plt.show()\n",
    "\n"
   ]
  },
  {
   "cell_type": "markdown",
   "metadata": {
    "id": "CTJfZx-pxooQ"
   },
   "source": [
    "# DDPM Decoder"
   ]
  },
  {
   "cell_type": "code",
   "execution_count": 72,
   "metadata": {
    "colab": {
     "base_uri": "https://localhost:8080/"
    },
    "id": "PH9Dodn6xooR",
    "outputId": "9c8f5221-4e8b-42cd-8a2a-4f865aac14e1"
   },
   "outputs": [
    {
     "name": "stdout",
     "output_type": "stream",
     "text": [
      "10 torch.Size([1800, 84])\n",
      "10 torch.Size([1800, 6])\n",
      "10 torch.Size([200, 84])\n",
      "10 torch.Size([200, 6])\n"
     ]
    }
   ],
   "source": [
    "test_perc = 0.1\n",
    "n_test = int(trjs[0].xyz.shape[0]*test_perc)\n",
    "n_train = (trjs[0].xyz.shape[0] - n_test)\n",
    "\n",
    "xyz_train = [torch.tensor(trj.xyz[n_test:].reshape(n_train, -1)).float() for trj in trjs]\n",
    "CVs_train = [cv[n_test:] for cv in CVs]\n",
    "\n",
    "xyz_test = [torch.tensor(trj.xyz[:n_test].reshape(n_test, -1)).float() for trj in trjs]\n",
    "CVs_test = [cv[:n_test] for cv in CVs]\n",
    "\n",
    "print(len(xyz_train), xyz_train[0].shape)\n",
    "print(len(CVs_train), CVs_train[0].shape)\n",
    "\n",
    "print(len(xyz_test), xyz_test[0].shape)\n",
    "print(len(CVs_test), CVs_test[0].shape)"
   ]
  },
  {
   "cell_type": "code",
   "execution_count": 75,
   "metadata": {
    "id": "pSaC89gLxooR"
   },
   "outputs": [],
   "source": [
    "# uses 1000 steps by default, but 50-100 will be much faster and should work fine\n",
    "\n",
    "n_timesteps = 100\n",
    "n_epochs = 40\n",
    "\n",
    "model_ddpm = DDPM(xyz_train[0].shape[1], CVs_train[0].shape[1], timesteps=n_timesteps)"
   ]
  },
  {
   "cell_type": "code",
   "execution_count": 76,
   "metadata": {
    "colab": {
     "base_uri": "https://localhost:8080/"
    },
    "id": "3uT5DMGvxooR",
    "outputId": "12c3cbf5-b21d-4404-d069-26317dab7bf5",
    "scrolled": false
   },
   "outputs": [
    {
     "name": "stdout",
     "output_type": "stream",
     "text": [
      "CPU times: user 2 µs, sys: 0 ns, total: 2 µs\n",
      "Wall time: 4.05 µs\n"
     ]
    }
   ],
   "source": [
    "%time\n",
    "\n",
    "load_pretrained_ddpm = True\n",
    "save_new_model = False\n",
    "model_save_path = f'{load_path}model_ddpm-{n_epochs}-eps-{n_timesteps}-ts.pth'\n",
    "\n",
    "if load_pretrained_ddpm:\n",
    "    model_ddpm.load_state_dict(torch.load(model_save_path))\n",
    "    model_ddpm.is_fit = True\n",
    "    \n",
    "else:\n",
    "    model_ddpm.is_fit = False\n",
    "    model_ddpm.fit(xyz_train, CVs_train, max_epochs=n_epochs)\n",
    "    if save_new_model:\n",
    "        torch.save(model_ddpm.state_dict(), model_save_path)"
   ]
  },
  {
   "cell_type": "code",
   "execution_count": 77,
   "metadata": {
    "colab": {
     "base_uri": "https://localhost:8080/",
     "height": 49,
     "referenced_widgets": [
      "7fa14b3acfc14a80a8c9c28fdc03ef7c",
      "3ccf301a70104f39b939a3aada2a8614",
      "9c94dc0e7d764ed2af3e1e8f6aeda23e",
      "5acdce56358447e7bf53a123de02a7d5",
      "1112a927c70c410d82879db938416911",
      "d3098a065c9c4ed68372e115838e687a",
      "af27fbc17f0b4f2c84cb5143ff800be1",
      "735ccb0d548a47569c2a8ff9ed623b5a",
      "d035e64465af4d6cac797ace4fc2a743",
      "f9ee09c0f0f0444589cee9880c63a317",
      "94fff22edf7045dca380106f0ccfd78b"
     ]
    },
    "id": "WyTCVBGVxooZ",
    "outputId": "e3062188-aa1b-4198-df44-bed19e8081c2"
   },
   "outputs": [
    {
     "data": {
      "application/vnd.jupyter.widget-view+json": {
       "model_id": "575c8186cc44410da8a4edf71f2e3ffe",
       "version_major": 2,
       "version_minor": 0
      },
      "text/plain": [
       "sampling loop time step:   0%|          | 0/100 [00:00<?, ?it/s]"
      ]
     },
     "metadata": {},
     "output_type": "display_data"
    },
    {
     "name": "stdout",
     "output_type": "stream",
     "text": [
      "(2000, 28, 3) (2000, 28, 3)\n"
     ]
    }
   ],
   "source": [
    "# Decode a set of real SRV coordinates first and check adherence to conditioning\n",
    "# Decoding 10% of the total test set evenly strided (10_000 total)\n",
    "\n",
    "trj_ref = md.join([trj[:n_test] for trj in trjs])\n",
    "CVs_ref = torch.Tensor(np.concatenate([cv.numpy() for cv in CVs_test]))  #np.array([cv[0] for cv in CVs_test])\n",
    "\n",
    "xyz_gen = model_ddpm.generate(torch.Tensor(CVs_ref))\n",
    "xyz_gen = xyz_gen.reshape(xyz_gen.size(0), -1 , 3).numpy()\n",
    "\n",
    "fake_trj = md.Trajectory(xyz = xyz_gen, topology=trjs[0].top)\n",
    "fake_trj = md.join([ft.superpose(rf) for ft, rf in zip(fake_trj, trj_ref)])\n",
    "\n",
    "print(trj_ref.xyz.shape, fake_trj.xyz.shape)\n"
   ]
  },
  {
   "cell_type": "code",
   "execution_count": 78,
   "metadata": {
    "colab": {
     "base_uri": "https://localhost:8080/",
     "height": 317,
     "referenced_widgets": [
      "932a7d834bc74bba9e4ece67bfcdc125",
      "e7908a8f428a423e828749d0b98bc7a3",
      "de2da28277634e7e9cad4a30aaf78e47",
      "16d7968bd594414f9c96fad917609043",
      "b1e60d94fe6e40f2b3e4b1f7760e36ec",
      "8937091690994f00a9ef06eb205310fc",
      "091ace719fff427c9426dcd0fc154f6c",
      "bf5e77f431424098b2d7f66c49993257",
      "8a98c95c177c444d8479073cea338d1a",
      "5f78dcda1cff40efbb655e5c74a2e08d",
      "a0cf6b3f822c46268c3eb120618dcdce",
      "73e5abf2bc9d4434a450f60a8b749b30",
      "b633cc93c97143e2bc3681f14482df8c"
     ]
    },
    "id": "SVh1VbTexooZ",
    "outputId": "ed60f841-ddfb-4067-c27c-872ce21d05c8"
   },
   "outputs": [
    {
     "name": "stdout",
     "output_type": "stream",
     "text": [
      "2000 2000\n"
     ]
    }
   ],
   "source": [
    "import random\n",
    "\n",
    "rmsds_aligned = []\n",
    "for f_gen, f_ref in zip(fake_trj, trj_ref):\n",
    "    rmsds_aligned.append(md.rmsd(f_gen, f_ref)[0])\n",
    "    \n",
    "rmsds_random = []\n",
    "rand_list = list(range(len(trj_ref)))\n",
    "random.shuffle(rand_list)\n",
    "for f_gen, f_ref in zip(fake_trj, [trj_ref[i] for i in rand_list]):\n",
    "    rmsds_random.append(md.rmsd(f_gen, f_ref)[0])\n",
    "    \n",
    "print(len(rmsds_aligned), len(rmsds_random))"
   ]
  },
  {
   "cell_type": "code",
   "execution_count": 79,
   "metadata": {
    "colab": {
     "base_uri": "https://localhost:8080/",
     "height": 344
    },
    "id": "76Hh9cHLxooZ",
    "outputId": "a157336e-f953-47e7-ef47-4b1c58f4ca83"
   },
   "outputs": [
    {
     "name": "stdout",
     "output_type": "stream",
     "text": [
      "0.72823745\n",
      "0.8513487\n"
     ]
    },
    {
     "data": {
      "image/png": "[encoded data removed]",
      "text/plain": [
       "<Figure size 640x480 with 1 Axes>"
      ]
     },
     "metadata": {},
     "output_type": "display_data"
    }
   ],
   "source": [
    "x = np.arange(len(rmsds_aligned))\n",
    "plt.hist(rmsds_aligned, bins=100, alpha=0.5, color='blue', density=True)\n",
    "plt.hist(rmsds_random, bins=100, alpha=0.5, color='red', density=True)\n",
    "\n",
    "plt.axvline(np.mean(rmsds_aligned), linestyle='dashed', c='blue', label='Matched')\n",
    "plt.axvline(np.mean(rmsds_random), linestyle='dashed', c='red', label='Random')\n",
    "\n",
    "plt.legend(fontsize=16)\n",
    "plt.xlabel('RMSD to reference (nm)', fontsize=18)\n",
    "plt.ylabel('Density', fontsize=18)\n",
    "\n",
    "print(np.mean(rmsds_aligned))\n",
    "print(np.mean(rmsds_random))\n",
    "\n",
    "# values 0.658, 0.856 for 100 diffusion steps"
   ]
  },
  {
   "cell_type": "code",
   "execution_count": 80,
   "metadata": {},
   "outputs": [
    {
     "name": "stdout",
     "output_type": "stream",
     "text": [
      "0.335\n",
      "(54000,)\n"
     ]
    },
    {
     "data": {
      "image/png": "[encoded data removed]",
      "text/plain": [
       "<Figure size 1200x400 with 1 Axes>"
      ]
     },
     "metadata": {},
     "output_type": "display_data"
    }
   ],
   "source": [
    "# get the rmsd\n",
    "\n",
    "import pandas as pd\n",
    "\n",
    "fig, axes = plt.subplots(figsize=(12, 4))\n",
    "\n",
    "bonds = np.array([[i, i+1] for i in range(trj_ref.top.n_residues - 1)])\n",
    "ref_dists = md.compute_distances(trj_ref, bonds)\n",
    "gen_dists = md.compute_distances(fake_trj, bonds)\n",
    "\n",
    "ref_dists = np.concatenate(ref_dists)\n",
    "gen_dists = np.concatenate(gen_dists)\n",
    "\n",
    "plt.hist(np.abs(ref_dists - np.mean(ref_dists)), bins=100, density=True, alpha=0.4)\n",
    "plt.hist(np.abs(gen_dists - np.mean(ref_dists)), bins=100, density=True, alpha=0.4)\n",
    "\n",
    "plt.axvline(np.mean(ref_dists), linestyle='dashed', c='blue', label='Matched')\n",
    "plt.axvline(np.mean(gen_dists), linestyle='dashed', c='red', label='Random')\n",
    "\n",
    "ref_min = np.min(ref_dists)\n",
    "ref_max = np.max(ref_dists)\n",
    "\n",
    "# Check if each element in gen_dists is between ref_min and ref_max\n",
    "in_range = (ref_min < gen_dists) & (gen_dists < ref_max)\n",
    "\n",
    "# Sum the number of elements in gen_dists that are in the specified range\n",
    "num_in_range = np.sum(in_range)\n",
    "\n",
    "# Calculate the proportion of elements in the specified range\n",
    "proportion_in_range = num_in_range / np.prod(gen_dists.shape)\n",
    "print(proportion_in_range)\n",
    "\n",
    "plt.xlim(0, 0.2)\n",
    "plt.xlabel('C-C Distance (nm)')\n",
    "plt.ylabel('Density')\n",
    "\n",
    "print(ref_dists.shape)\n",
    "\n"
   ]
  },
  {
   "cell_type": "code",
   "execution_count": 81,
   "metadata": {},
   "outputs": [
    {
     "data": {
      "application/vnd.jupyter.widget-view+json": {
       "model_id": "8a5e73cd62a74d45b9215fb171290a5d",
       "version_major": 2,
       "version_minor": 0
      },
      "text/plain": [
       "NGLWidget(max_frame=1999)"
      ]
     },
     "metadata": {},
     "output_type": "display_data"
    }
   ],
   "source": [
    "v = nv.show_mdtraj(trj_ref)\n",
    "v.add_trajectory(fake_trj)\n",
    "\n",
    "v[0].clear_representations()\n",
    "v[0].add_representation('ball+stick', color='blue')\n",
    "\n",
    "v[1].clear_representations()\n",
    "v[1].add_representation('ball+stick', color='red')\n",
    "v"
   ]
  },
  {
   "cell_type": "code",
   "execution_count": 85,
   "metadata": {},
   "outputs": [
    {
     "name": "stderr",
     "output_type": "stream",
     "text": [
      "/home/mikejones/ipykernel_3196775/1119709723.py:52: UserWarning: This figure includes Axes that are not compatible with tight_layout, so results might be incorrect.\n",
      "  plt.tight_layout(rect=[0, 0, 0.9, 1])  # Adjust layout to make space for colorbar\n"
     ]
    },
    {
     "data": {
      "image/png": "[encoded data removed]",
      "text/plain": [
       "<Figure size 1500x600 with 11 Axes>"
      ]
     },
     "metadata": {},
     "output_type": "display_data"
    }
   ],
   "source": [
    "# calculate pairwise distances between each ref and gen structure\n",
    "# we should observe similar profiles between the top row and bottom row plots\n",
    "\n",
    "pdists_ref = [torch.pdist(p)[None] for p in torch.tensor(trj_ref.xyz[100::400])]\n",
    "pdists_gen = [torch.pdist(p)[None] for p in torch.tensor(fake_trj.xyz[100::400])]\n",
    "\n",
    "fig, axes = plt.subplots(2, 5, figsize=(15, 6))\n",
    "\n",
    "cmap = 'BuPu_r'\n",
    "\n",
    "global_min = np.inf\n",
    "global_max = -np.inf\n",
    "\n",
    "for p_ref, p_gen in zip(pdists_ref, pdists_gen):\n",
    "    global_min = min(global_min, p_ref.min(), p_gen.min())\n",
    "    global_max = max(global_max, p_ref.max(), p_gen.max())\n",
    "\n",
    "# Create heatmaps\n",
    "for f, (p_ref, p_gen, ax_row) in enumerate(zip(pdists_ref, pdists_gen, axes.T)):\n",
    "    heatmap_ref = np.zeros((nres, nres))\n",
    "    heatmap_gen = np.zeros((nres, nres))\n",
    "\n",
    "    cnt = 0\n",
    "    for i in range(len(heatmap_ref)):\n",
    "        for j in range(i + 1, nres):\n",
    "            heatmap_ref[j, i] = p_ref[0, cnt]\n",
    "            heatmap_gen[j, i] = p_gen[0, cnt]\n",
    "            cnt += 1\n",
    "\n",
    "    mask = np.triu(np.ones_like(heatmap_ref, dtype=bool))\n",
    "    sns.heatmap(heatmap_ref, mask=mask, cmap=cmap, ax=ax_row[0], cbar=False, vmin=global_min, vmax=global_max)\n",
    "    sns.heatmap(heatmap_gen, mask=mask, cmap=cmap, ax=ax_row[1], cbar=False, vmin=global_min, vmax=global_max)\n",
    "    ax_row[0].set_title(f'Frame {f+1}', fontsize=22)\n",
    "\n",
    "# Add the shared colorbar\n",
    "cbar_ax = fig.add_axes([0.92, 0.1, 0.02, 0.8])  # Position for the colorbar\n",
    "sm = plt.cm.ScalarMappable(cmap=cmap, norm=plt.Normalize(vmin=global_min, vmax=global_max))\n",
    "sm.set_array([])\n",
    "cbar = fig.colorbar(sm, cax=cbar_ax, label='Distance (nm)')\n",
    "\n",
    "for ax in axes.flatten():\n",
    "    ax.set_xticklabels([])\n",
    "    ax.set_yticklabels([])\n",
    "    \n",
    "# Increase tick size and font size\n",
    "cbar.ax.tick_params(labelsize=14)  # Set the tick label size\n",
    "cbar.ax.yaxis.label.set_size(18)   # Set the colorbar label font size\n",
    "\n",
    "axes[0, 0].set_ylabel('Reference\\nTrajectories', fontsize=18)\n",
    "axes[1, 0].set_ylabel('Generated\\nTrajectories', fontsize=18)\n",
    "\n",
    "plt.tight_layout(rect=[0, 0, 0.9, 1])  # Adjust layout to make space for colorbar\n",
    "plt.show()\n"
   ]
  },
  {
   "cell_type": "markdown",
   "metadata": {
    "id": "nlI2CR5lxooZ"
   },
   "source": [
    "# Decode the synthetic traj"
   ]
  },
  {
   "cell_type": "code",
   "execution_count": 86,
   "metadata": {
    "colab": {
     "base_uri": "https://localhost:8080/",
     "height": 49,
     "referenced_widgets": [
      "0503677712f245a1858dbaea23fb5cf1",
      "7c3966bc9342469fa672e095c07b15d1",
      "f35bbe4ab75c49d19f172d41e65fe58a",
      "3bb569f5430f4419bf36e622e0beb4d4",
      "5c39d56279674d56990384b19f829280",
      "439c208e22984fb9ac4d17dcf87be530",
      "ac8fd5dc72cd4a2383c4f7ec750da935",
      "e090d681494843808ff145bd2be197f0",
      "8e9f4f69016b45b79416b79eae1f02b6",
      "5207a12379d2465e8ccfdab6ff0b6160",
      "533845d9c5b64836b2a0f775cdb86b63"
     ]
    },
    "id": "_mclcATAxooZ",
    "outputId": "128c5f32-b644-46d2-f872-800fb84ac7df"
   },
   "outputs": [
    {
     "data": {
      "application/vnd.jupyter.widget-view+json": {
       "model_id": "ff2c6dea51c7484bb41eab9d94257191",
       "version_major": 2,
       "version_minor": 0
      },
      "text/plain": [
       "sampling loop time step:   0%|          | 0/100 [00:00<?, ?it/s]"
      ]
     },
     "metadata": {},
     "output_type": "display_data"
    }
   ],
   "source": [
    "xyz_gen = model_ddpm.generate(torch.Tensor(synthetic_traj_CVs[:20]))"
   ]
  },
  {
   "cell_type": "code",
   "execution_count": 87,
   "metadata": {
    "id": "yZJqz0ecxooa"
   },
   "outputs": [],
   "source": [
    "xyz_gen = xyz_gen.reshape(xyz_gen.size(0), -1 , 3).numpy()\n",
    "fake_trj = md.Trajectory(xyz = xyz_gen, topology=trjs[0].top)"
   ]
  },
  {
   "cell_type": "code",
   "execution_count": 88,
   "metadata": {
    "id": "27cYN5VNxooa"
   },
   "outputs": [],
   "source": [
    "# decode first frame of each traj (each has different embeddings)\n",
    "\n",
    "xyz_ref = [trj.xyz for trj in trjs]\n",
    "evec_ref = evecs[:10]"
   ]
  },
  {
   "cell_type": "markdown",
   "metadata": {
    "id": "7ZjipB49xooa"
   },
   "source": [
    "# Visualize results"
   ]
  },
  {
   "cell_type": "code",
   "execution_count": 89,
   "metadata": {
    "colab": {
     "base_uri": "https://localhost:8080/",
     "height": 317,
     "referenced_widgets": [
      "56e95dc83f684740992a498be4fe55df",
      "5c5d0ad9de524cf68962ffe073977180",
      "7cf4652293d44afeb352430f1b38427a",
      "e6ac99dee2894b76b2b0c4c39d722ccd",
      "3456e529ed5c464f9d5f188309e7653d",
      "b5d52d9fac524c91b5272293933a5c19",
      "7a0e5589b2634f8f9c3634226ac96148",
      "f70f324bd1ca4493a41ea0ed5e760e01",
      "42469695fb3648b4ac070934372a5e3e",
      "0145ecec683a4a9b8c8ffc163cf3bd65",
      "f07d66a59b1a4a7fae81f7d17fa12194",
      "4f47c81218ee48fc90b73e4a09f47b0d",
      "ece03433703641228b2ef0be0e36224c"
     ]
    },
    "id": "5uT8ufj7xooa",
    "outputId": "617a21bf-53ad-486f-ebaf-716b3b28a8e3"
   },
   "outputs": [
    {
     "data": {
      "application/vnd.jupyter.widget-view+json": {
       "model_id": "d0764ee27d29491b9f11c38558abf8a2",
       "version_major": 2,
       "version_minor": 0
      },
      "text/plain": [
       "NGLWidget(max_frame=19)"
      ]
     },
     "metadata": {},
     "output_type": "display_data"
    }
   ],
   "source": [
    "v = nv.show_mdtraj(fake_trj)\n",
    "v.clear_representations()\n",
    "v.add_representation('ball+stick')\n",
    "v"
   ]
  },
  {
   "cell_type": "code",
   "execution_count": null,
   "metadata": {
    "id": "qolwuPieq2PY"
   },
   "outputs": [],
   "source": []
  }
 ],
 "metadata": {
  "accelerator": "GPU",
  "colab": {
   "gpuType": "T4",
   "include_colab_link": true,
   "provenance": []
  },
  "kernelspec": {
   "display_name": "torchcfm_11.8",
   "language": "python",
   "name": "torchcfm_11.8"
  },
  "language_info": {
   "codemirror_mode": {
    "name": "ipython",
    "version": 3
   },
   "file_extension": ".py",
   "mimetype": "text/x-python",
   "name": "python",
   "nbconvert_exporter": "python",
   "pygments_lexer": "ipython3",
   "version": "3.10.13"
  },
  "widgets": {
   "application/vnd.jupyter.widget-state+json": {
    "0145ecec683a4a9b8c8ffc163cf3bd65": {
     "model_module": "@jupyter-widgets/controls",
     "model_module_version": "1.5.0",
     "model_name": "IntSliderModel",
     "state": {
      "_dom_classes": [],
      "_model_module": "@jupyter-widgets/controls",
      "_model_module_version": "1.5.0",
      "_model_name": "IntSliderModel",
      "_view_count": null,
      "_view_module": "@jupyter-widgets/controls",
      "_view_module_version": "1.5.0",
      "_view_name": "IntSliderView",
      "continuous_update": true,
      "description": "",
      "description_tooltip": null,
      "disabled": false,
      "layout": "IPY_MODEL_7a0e5589b2634f8f9c3634226ac96148",
      "max": 19,
      "min": 0,
      "orientation": "horizontal",
      "readout": true,
      "readout_format": "d",
      "step": 1,
      "style": "IPY_MODEL_f70f324bd1ca4493a41ea0ed5e760e01",
      "value": 0
     }
    },
    "0503677712f245a1858dbaea23fb5cf1": {
     "model_module": "@jupyter-widgets/controls",
     "model_module_version": "1.5.0",
     "model_name": "HBoxModel",
     "state": {
      "_dom_classes": [],
      "_model_module": "@jupyter-widgets/controls",
      "_model_module_version": "1.5.0",
      "_model_name": "HBoxModel",
      "_view_count": null,
      "_view_module": "@jupyter-widgets/controls",
      "_view_module_version": "1.5.0",
      "_view_name": "HBoxView",
      "box_style": "",
      "children": [
       "IPY_MODEL_7c3966bc9342469fa672e095c07b15d1",
       "IPY_MODEL_f35bbe4ab75c49d19f172d41e65fe58a",
       "IPY_MODEL_3bb569f5430f4419bf36e622e0beb4d4"
      ],
      "layout": "IPY_MODEL_5c39d56279674d56990384b19f829280"
     }
    },
    "091ace719fff427c9426dcd0fc154f6c": {
     "model_module": "@jupyter-widgets/base",
     "model_module_version": "1.2.0",
     "model_name": "LayoutModel",
     "state": {
      "_model_module": "@jupyter-widgets/base",
      "_model_module_version": "1.2.0",
      "_model_name": "LayoutModel",
      "_view_count": null,
      "_view_module": "@jupyter-widgets/base",
      "_view_module_version": "1.2.0",
      "_view_name": "LayoutView",
      "align_content": null,
      "align_items": null,
      "align_self": null,
      "border": null,
      "bottom": null,
      "display": null,
      "flex": null,
      "flex_flow": null,
      "grid_area": null,
      "grid_auto_columns": null,
      "grid_auto_flow": null,
      "grid_auto_rows": null,
      "grid_column": null,
      "grid_gap": null,
      "grid_row": null,
      "grid_template_areas": null,
      "grid_template_columns": null,
      "grid_template_rows": null,
      "height": null,
      "justify_content": null,
      "justify_items": null,
      "left": null,
      "margin": null,
      "max_height": null,
      "max_width": null,
      "min_height": null,
      "min_width": null,
      "object_fit": null,
      "object_position": null,
      "order": null,
      "overflow": null,
      "overflow_x": null,
      "overflow_y": null,
      "padding": null,
      "right": null,
      "top": null,
      "visibility": null,
      "width": null
     }
    },
    "1112a927c70c410d82879db938416911": {
     "model_module": "@jupyter-widgets/base",
     "model_module_version": "1.2.0",
     "model_name": "LayoutModel",
     "state": {
      "_model_module": "@jupyter-widgets/base",
      "_model_module_version": "1.2.0",
      "_model_name": "LayoutModel",
      "_view_count": null,
      "_view_module": "@jupyter-widgets/base",
      "_view_module_version": "1.2.0",
      "_view_name": "LayoutView",
      "align_content": null,
      "align_items": null,
      "align_self": null,
      "border": null,
      "bottom": null,
      "display": null,
      "flex": null,
      "flex_flow": null,
      "grid_area": null,
      "grid_auto_columns": null,
      "grid_auto_flow": null,
      "grid_auto_rows": null,
      "grid_column": null,
      "grid_gap": null,
      "grid_row": null,
      "grid_template_areas": null,
      "grid_template_columns": null,
      "grid_template_rows": null,
      "height": null,
      "justify_content": null,
      "justify_items": null,
      "left": null,
      "margin": null,
      "max_height": null,
      "max_width": null,
      "min_height": null,
      "min_width": null,
      "object_fit": null,
      "object_position": null,
      "order": null,
      "overflow": null,
      "overflow_x": null,
      "overflow_y": null,
      "padding": null,
      "right": null,
      "top": null,
      "visibility": null,
      "width": null
     }
    },
    "16d7968bd594414f9c96fad917609043": {
     "model_module": "@jupyter-widgets/controls",
     "model_module_version": "1.5.0",
     "model_name": "HBoxModel",
     "state": {
      "_dom_classes": [],
      "_model_module": "@jupyter-widgets/controls",
      "_model_module_version": "1.5.0",
      "_model_name": "HBoxModel",
      "_view_count": null,
      "_view_module": "@jupyter-widgets/controls",
      "_view_module_version": "1.5.0",
      "_view_name": "HBoxView",
      "box_style": "",
      "children": [
       "IPY_MODEL_8a98c95c177c444d8479073cea338d1a",
       "IPY_MODEL_5f78dcda1cff40efbb655e5c74a2e08d"
      ],
      "layout": "IPY_MODEL_b633cc93c97143e2bc3681f14482df8c"
     }
    },
    "3456e529ed5c464f9d5f188309e7653d": {
     "model_module": "@jupyter-widgets/base",
     "model_module_version": "1.2.0",
     "model_name": "LayoutModel",
     "state": {
      "_model_module": "@jupyter-widgets/base",
      "_model_module_version": "1.2.0",
      "_model_name": "LayoutModel",
      "_view_count": null,
      "_view_module": "@jupyter-widgets/base",
      "_view_module_version": "1.2.0",
      "_view_name": "LayoutView",
      "align_content": null,
      "align_items": null,
      "align_self": null,
      "border": null,
      "bottom": null,
      "display": null,
      "flex": null,
      "flex_flow": null,
      "grid_area": null,
      "grid_auto_columns": null,
      "grid_auto_flow": null,
      "grid_auto_rows": null,
      "grid_column": null,
      "grid_gap": null,
      "grid_row": null,
      "grid_template_areas": null,
      "grid_template_columns": null,
      "grid_template_rows": null,
      "height": null,
      "justify_content": null,
      "justify_items": null,
      "left": null,
      "margin": null,
      "max_height": null,
      "max_width": null,
      "min_height": null,
      "min_width": null,
      "object_fit": null,
      "object_position": null,
      "order": null,
      "overflow": null,
      "overflow_x": null,
      "overflow_y": null,
      "padding": null,
      "right": null,
      "top": null,
      "visibility": null,
      "width": null
     }
    },
    "3bb569f5430f4419bf36e622e0beb4d4": {
     "model_module": "@jupyter-widgets/controls",
     "model_module_version": "1.5.0",
     "model_name": "HTMLModel",
     "state": {
      "_dom_classes": [],
      "_model_module": "@jupyter-widgets/controls",
      "_model_module_version": "1.5.0",
      "_model_name": "HTMLModel",
      "_view_count": null,
      "_view_module": "@jupyter-widgets/controls",
      "_view_module_version": "1.5.0",
      "_view_name": "HTMLView",
      "description": "",
      "description_tooltip": null,
      "layout": "IPY_MODEL_5207a12379d2465e8ccfdab6ff0b6160",
      "placeholder": "​",
      "style": "IPY_MODEL_533845d9c5b64836b2a0f775cdb86b63",
      "value": " 1000/1000 [00:34&lt;00:00, 30.61it/s]"
     }
    },
    "3ccf301a70104f39b939a3aada2a8614": {
     "model_module": "@jupyter-widgets/controls",
     "model_module_version": "1.5.0",
     "model_name": "HTMLModel",
     "state": {
      "_dom_classes": [],
      "_model_module": "@jupyter-widgets/controls",
      "_model_module_version": "1.5.0",
      "_model_name": "HTMLModel",
      "_view_count": null,
      "_view_module": "@jupyter-widgets/controls",
      "_view_module_version": "1.5.0",
      "_view_name": "HTMLView",
      "description": "",
      "description_tooltip": null,
      "layout": "IPY_MODEL_d3098a065c9c4ed68372e115838e687a",
      "placeholder": "​",
      "style": "IPY_MODEL_af27fbc17f0b4f2c84cb5143ff800be1",
      "value": "sampling loop time step: 100%"
     }
    },
    "42469695fb3648b4ac070934372a5e3e": {
     "model_module": "@jupyter-widgets/controls",
     "model_module_version": "1.5.0",
     "model_name": "PlayModel",
     "state": {
      "_dom_classes": [],
      "_model_module": "@jupyter-widgets/controls",
      "_model_module_version": "1.5.0",
      "_model_name": "PlayModel",
      "_playing": false,
      "_repeat": false,
      "_view_count": null,
      "_view_module": "@jupyter-widgets/controls",
      "_view_module_version": "1.5.0",
      "_view_name": "PlayView",
      "description": "",
      "description_tooltip": null,
      "disabled": false,
      "interval": 100,
      "layout": "IPY_MODEL_3456e529ed5c464f9d5f188309e7653d",
      "max": 19,
      "min": 0,
      "playing": false,
      "show_repeat": true,
      "step": 1,
      "style": "IPY_MODEL_b5d52d9fac524c91b5272293933a5c19",
      "value": 0
     }
    },
    "439c208e22984fb9ac4d17dcf87be530": {
     "model_module": "@jupyter-widgets/base",
     "model_module_version": "1.2.0",
     "model_name": "LayoutModel",
     "state": {
      "_model_module": "@jupyter-widgets/base",
      "_model_module_version": "1.2.0",
      "_model_name": "LayoutModel",
      "_view_count": null,
      "_view_module": "@jupyter-widgets/base",
      "_view_module_version": "1.2.0",
      "_view_name": "LayoutView",
      "align_content": null,
      "align_items": null,
      "align_self": null,
      "border": null,
      "bottom": null,
      "display": null,
      "flex": null,
      "flex_flow": null,
      "grid_area": null,
      "grid_auto_columns": null,
      "grid_auto_flow": null,
      "grid_auto_rows": null,
      "grid_column": null,
      "grid_gap": null,
      "grid_row": null,
      "grid_template_areas": null,
      "grid_template_columns": null,
      "grid_template_rows": null,
      "height": null,
      "justify_content": null,
      "justify_items": null,
      "left": null,
      "margin": null,
      "max_height": null,
      "max_width": null,
      "min_height": null,
      "min_width": null,
      "object_fit": null,
      "object_position": null,
      "order": null,
      "overflow": null,
      "overflow_x": null,
      "overflow_y": null,
      "padding": null,
      "right": null,
      "top": null,
      "visibility": null,
      "width": null
     }
    },
    "4dafe92566884aeca865967db3404f6a": {
     "model_module": "@jupyter-widgets/controls",
     "model_module_version": "1.5.0",
     "model_name": "FloatProgressModel",
     "state": {
      "_dom_classes": [],
      "_model_module": "@jupyter-widgets/controls",
      "_model_module_version": "1.5.0",
      "_model_name": "FloatProgressModel",
      "_view_count": null,
      "_view_module": "@jupyter-widgets/controls",
      "_view_module_version": "1.5.0",
      "_view_name": "ProgressView",
      "bar_style": "success",
      "description": "",
      "description_tooltip": null,
      "layout": "IPY_MODEL_77d8869a722e44a58202f40f02f879b6",
      "max": 20000,
      "min": 0,
      "orientation": "horizontal",
      "style": "IPY_MODEL_feff86c0fd374ea28783a76e578f7fde",
      "value": 20000
     }
    },
    "4f47c81218ee48fc90b73e4a09f47b0d": {
     "model_module": "@jupyter-widgets/controls",
     "model_module_version": "1.5.0",
     "model_name": "ButtonStyleModel",
     "state": {
      "_model_module": "@jupyter-widgets/controls",
      "_model_module_version": "1.5.0",
      "_model_name": "ButtonStyleModel",
      "_view_count": null,
      "_view_module": "@jupyter-widgets/base",
      "_view_module_version": "1.2.0",
      "_view_name": "StyleView",
      "button_color": null,
      "font_weight": ""
     }
    },
    "5207a12379d2465e8ccfdab6ff0b6160": {
     "model_module": "@jupyter-widgets/base",
     "model_module_version": "1.2.0",
     "model_name": "LayoutModel",
     "state": {
      "_model_module": "@jupyter-widgets/base",
      "_model_module_version": "1.2.0",
      "_model_name": "LayoutModel",
      "_view_count": null,
      "_view_module": "@jupyter-widgets/base",
      "_view_module_version": "1.2.0",
      "_view_name": "LayoutView",
      "align_content": null,
      "align_items": null,
      "align_self": null,
      "border": null,
      "bottom": null,
      "display": null,
      "flex": null,
      "flex_flow": null,
      "grid_area": null,
      "grid_auto_columns": null,
      "grid_auto_flow": null,
      "grid_auto_rows": null,
      "grid_column": null,
      "grid_gap": null,
      "grid_row": null,
      "grid_template_areas": null,
      "grid_template_columns": null,
      "grid_template_rows": null,
      "height": null,
      "justify_content": null,
      "justify_items": null,
      "left": null,
      "margin": null,
      "max_height": null,
      "max_width": null,
      "min_height": null,
      "min_width": null,
      "object_fit": null,
      "object_position": null,
      "order": null,
      "overflow": null,
      "overflow_x": null,
      "overflow_y": null,
      "padding": null,
      "right": null,
      "top": null,
      "visibility": null,
      "width": null
     }
    },
    "533845d9c5b64836b2a0f775cdb86b63": {
     "model_module": "@jupyter-widgets/controls",
     "model_module_version": "1.5.0",
     "model_name": "DescriptionStyleModel",
     "state": {
      "_model_module": "@jupyter-widgets/controls",
      "_model_module_version": "1.5.0",
      "_model_name": "DescriptionStyleModel",
      "_view_count": null,
      "_view_module": "@jupyter-widgets/base",
      "_view_module_version": "1.2.0",
      "_view_name": "StyleView",
      "description_width": ""
     }
    },
    "56e95dc83f684740992a498be4fe55df": {
     "model_module": "nglview-js-widgets",
     "model_module_version": "3.0.8",
     "model_name": "NGLModel",
     "state": {
      "_camera_orientation": [
       -19.778664148143314,
       -13.351726808025392,
       22.28599061520991,
       0,
       25.975434799047008,
       -10.658302908810489,
       16.667540551830506,
       0,
       0.45910070553629495,
       27.825555022143185,
       17.07797576395631,
       0,
       -0.35915517807006836,
       -3.9142065048217773,
       0.3998878002166748,
       1
      ],
      "_camera_str": "orthographic",
      "_dom_classes": [],
      "_gui_theme": null,
      "_ibtn_fullscreen": "IPY_MODEL_7cf4652293d44afeb352430f1b38427a",
      "_igui": null,
      "_iplayer": "IPY_MODEL_e6ac99dee2894b76b2b0c4c39d722ccd",
      "_model_module": "nglview-js-widgets",
      "_model_module_version": "3.0.8",
      "_model_name": "NGLModel",
      "_ngl_color_dict": {},
      "_ngl_coordinate_resource": {},
      "_ngl_full_stage_parameters": {
       "ambientColor": 14540253,
       "ambientIntensity": 0.2,
       "backgroundColor": "white",
       "cameraEyeSep": 0.3,
       "cameraFov": 40,
       "cameraType": "perspective",
       "clipDist": 10,
       "clipFar": 100,
       "clipMode": "scene",
       "clipNear": 0,
       "clipScale": "relative",
       "fogFar": 100,
       "fogNear": 50,
       "hoverTimeout": 0,
       "impostor": true,
       "lightColor": 14540253,
       "lightIntensity": 1,
       "mousePreset": "default",
       "panSpeed": 1,
       "quality": "medium",
       "rotateSpeed": 2,
       "sampleLevel": 0,
       "tooltip": true,
       "workerDefault": true,
       "zoomSpeed": 1.2
      },
      "_ngl_msg_archive": [
       {
        "args": [
         {
          "binary": false,
          "data": "MODEL        0\nATOM      1  CA  GLU A   1       8.999 -13.148  -3.063  1.00  0.00           C  \nATOM      2  CA  GLN A   2       6.988 -12.035  -1.588  1.00  0.00           C  \nATOM      3  CA  TYR A   3       3.487  -8.980  -0.823  1.00  0.00           C  \nATOM      4  CA  THR A   4       4.419  -9.291   2.001  1.00  0.00           C  \nATOM      5  CA  ALA A   5       5.806  -2.888   0.886  1.00  0.00           C  \nATOM      6  CA  LYS A   6       5.639  -0.077  -0.602  1.00  0.00           C  \nATOM      7  CA  TYR A   7       2.234  -0.498  -3.490  1.00  0.00           C  \nATOM      8  CA  LYS A   8       3.855  -2.354  -3.903  1.00  0.00           C  \nATOM      9  CA  GLY A   9       3.966  -3.332  -5.955  1.00  0.00           C  \nATOM     10  CA  ARG A  10       2.875  -4.940  -1.981  1.00  0.00           C  \nATOM     11  CA  THR A  11       2.165  -8.454  -0.808  1.00  0.00           C  \nATOM     12  CA  PHE A  12       0.450  -9.067   2.014  1.00  0.00           C  \nATOM     13  CA  ARG A  13      -1.667  -7.981   4.924  1.00  0.00           C  \nATOM     14  CA  ASN A  14      -3.299  -3.795   4.568  1.00  0.00           C  \nATOM     15  CA  GLU A  15      -5.597  -3.027   3.742  1.00  0.00           C  \nATOM     16  CA  LYS A  16      -8.163  -2.571   3.442  1.00  0.00           C  \nATOM     17  CA  GLU A  17      -7.063  -2.718   1.303  1.00  0.00           C  \nATOM     18  CA  LEU A  18      -7.023  -1.401  -2.297  1.00  0.00           C  \nATOM     19  CA  ARG A  19      -7.174   0.965  -2.284  1.00  0.00           C  \nATOM     20  CA  ASP A  20      -4.870   1.728  -2.100  1.00  0.00           C  \nATOM     21  CA  PHE A  21      -4.024   3.409  -1.367  1.00  0.00           C  \nATOM     22  CA  ILE A  22      -3.109   3.483  -1.362  1.00  0.00           C  \nATOM     23  CA  GLU A  23      -2.309   7.615   0.531  1.00  0.00           C  \nATOM     24  CA  LYS A  24      -1.361   9.896   2.285  1.00  0.00           C  \nATOM     25  CA  PHE A  25       0.517  13.293   2.476  1.00  0.00           C  \nATOM     26  CA  LYS A  26       1.782  14.564   2.707  1.00  0.00           C  \nATOM     27  CA  GLY A  27       3.466  20.539   2.054  1.00  0.00           C  \nATOM     28  CA  ARG A  28       3.242  19.355   5.180  1.00  0.00           C  \nTER      29      ARG A  28\nENDMDL\nEND\n",
          "type": "blob"
         }
        ],
        "kwargs": {
         "defaultRepresentation": true,
         "ext": "pdb",
         "name": "nglview.adaptor.MDTrajTrajectory"
        },
        "methodName": "loadFile",
        "reconstruc_color_scheme": false,
        "target": "Stage",
        "type": "call_method"
       },
       {
        "args": [],
        "component_index": 0,
        "kwargs": {},
        "methodName": "removeAllRepresentations",
        "reconstruc_color_scheme": false,
        "target": "compList",
        "type": "call_method"
       },
       {
        "args": [
         "ball+stick"
        ],
        "component_index": 0,
        "kwargs": {
         "sele": "all"
        },
        "methodName": "addRepresentation",
        "reconstruc_color_scheme": false,
        "target": "compList",
        "type": "call_method"
       }
      ],
      "_ngl_original_stage_parameters": {
       "ambientColor": 14540253,
       "ambientIntensity": 0.2,
       "backgroundColor": "white",
       "cameraEyeSep": 0.3,
       "cameraFov": 40,
       "cameraType": "perspective",
       "clipDist": 10,
       "clipFar": 100,
       "clipMode": "scene",
       "clipNear": 0,
       "clipScale": "relative",
       "fogFar": 100,
       "fogNear": 50,
       "hoverTimeout": 0,
       "impostor": true,
       "lightColor": 14540253,
       "lightIntensity": 1,
       "mousePreset": "default",
       "panSpeed": 1,
       "quality": "medium",
       "rotateSpeed": 2,
       "sampleLevel": 0,
       "tooltip": true,
       "workerDefault": true,
       "zoomSpeed": 1.2
      },
      "_ngl_repr_dict": {
       "0": {
        "0": {
         "params": {
          "aspectRatio": 2,
          "assembly": "default",
          "bondScale": 0.4,
          "bondSpacing": 1,
          "clipCenter": {
           "x": 0,
           "y": 0,
           "z": 0
          },
          "clipNear": 0,
          "clipRadius": 0,
          "colorMode": "hcl",
          "colorReverse": false,
          "colorScale": "",
          "colorScheme": "element",
          "colorValue": 9474192,
          "cylinderOnly": false,
          "defaultAssembly": "",
          "depthWrite": true,
          "diffuse": 16777215,
          "diffuseInterior": false,
          "disableImpostor": false,
          "disablePicking": false,
          "flatShaded": false,
          "interiorColor": 2236962,
          "interiorDarkening": 0,
          "lazy": false,
          "lineOnly": false,
          "linewidth": 2,
          "matrix": {
           "elements": [
            1,
            0,
            0,
            0,
            0,
            1,
            0,
            0,
            0,
            0,
            1,
            0,
            0,
            0,
            0,
            1
           ]
          },
          "metalness": 0,
          "multipleBond": "off",
          "opacity": 1,
          "openEnded": true,
          "quality": "medium",
          "radialSegments": 10,
          "radiusData": {},
          "radiusScale": 1,
          "radiusSize": 0.15,
          "radiusType": "size",
          "roughness": 0.4,
          "sele": "all",
          "side": "double",
          "sphereDetail": 1,
          "useInteriorColor": true,
          "visible": true,
          "wireframe": false
         },
         "type": "ball+stick"
        },
        "1": {
         "params": {
          "aspectRatio": 2,
          "assembly": "default",
          "bondScale": 0.4,
          "bondSpacing": 1,
          "clipCenter": {
           "x": 0,
           "y": 0,
           "z": 0
          },
          "clipNear": 0,
          "clipRadius": 0,
          "colorMode": "hcl",
          "colorReverse": false,
          "colorScale": "",
          "colorScheme": "element",
          "colorValue": 9474192,
          "cylinderOnly": false,
          "defaultAssembly": "",
          "depthWrite": true,
          "diffuse": 16777215,
          "diffuseInterior": false,
          "disableImpostor": false,
          "disablePicking": false,
          "flatShaded": false,
          "interiorColor": 2236962,
          "interiorDarkening": 0,
          "lazy": false,
          "lineOnly": false,
          "linewidth": 2,
          "matrix": {
           "elements": [
            1,
            0,
            0,
            0,
            0,
            1,
            0,
            0,
            0,
            0,
            1,
            0,
            0,
            0,
            0,
            1
           ]
          },
          "metalness": 0,
          "multipleBond": "off",
          "opacity": 1,
          "openEnded": true,
          "quality": "medium",
          "radialSegments": 10,
          "radiusData": {},
          "radiusScale": 1,
          "radiusSize": 0.15,
          "radiusType": "size",
          "roughness": 0.4,
          "sele": "all",
          "side": "double",
          "sphereDetail": 1,
          "useInteriorColor": true,
          "visible": true,
          "wireframe": false
         },
         "type": "ball+stick"
        }
       },
       "1": {
        "0": {
         "params": {
          "aspectRatio": 5,
          "assembly": "default",
          "capped": true,
          "clipCenter": {
           "x": 0,
           "y": 0,
           "z": 0
          },
          "clipNear": 0,
          "clipRadius": 0,
          "colorMode": "hcl",
          "colorReverse": true,
          "colorScale": "spectral",
          "colorScheme": "residueindex",
          "colorValue": 9474192,
          "defaultAssembly": "",
          "depthWrite": true,
          "diffuse": 16777215,
          "diffuseInterior": false,
          "disablePicking": false,
          "flatShaded": false,
          "interiorColor": 2236962,
          "interiorDarkening": 0,
          "lazy": false,
          "matrix": {
           "elements": [
            1,
            0,
            0,
            0,
            0,
            1,
            0,
            0,
            0,
            0,
            1,
            0,
            0,
            0,
            0,
            1
           ]
          },
          "metalness": 0,
          "opacity": 1,
          "quality": "high",
          "radialSegments": 20,
          "radiusData": {},
          "radiusScale": 0.7,
          "radiusSize": 1,
          "radiusType": "sstruc",
          "roughness": 0.4,
          "sele": "",
          "side": "double",
          "smoothSheet": false,
          "subdiv": 6,
          "tension": null,
          "useInteriorColor": true,
          "visible": true,
          "wireframe": false
         },
         "type": "cartoon"
        },
        "1": {
         "params": {
          "aspectRatio": 1,
          "assembly": "default",
          "bondScale": 0.4,
          "clipCenter": {
           "x": 0,
           "y": 0,
           "z": 0
          },
          "clipNear": 0,
          "clipRadius": 0,
          "colorMode": "hcl",
          "colorReverse": true,
          "colorScale": "spectral",
          "colorScheme": "residueindex",
          "colorValue": 9474192,
          "cylinderOnly": false,
          "defaultAssembly": "",
          "depthWrite": true,
          "diffuse": 16777215,
          "diffuseInterior": false,
          "disableImpostor": false,
          "disablePicking": false,
          "flatShaded": false,
          "interiorColor": 2236962,
          "interiorDarkening": 0,
          "lazy": false,
          "lineOnly": false,
          "linewidth": 2,
          "matrix": {
           "elements": [
            1,
            0,
            0,
            0,
            0,
            1,
            0,
            0,
            0,
            0,
            1,
            0,
            0,
            0,
            0,
            1
           ]
          },
          "metalness": 0,
          "opacity": 1,
          "openEnded": true,
          "quality": "high",
          "radialSegments": 20,
          "radiusData": {},
          "radiusScale": 1,
          "radiusSize": 0.3,
          "radiusType": "size",
          "roughness": 0.4,
          "sele": "",
          "side": "double",
          "sphereDetail": 2,
          "useInteriorColor": true,
          "visible": true,
          "wireframe": false
         },
         "type": "base"
        },
        "2": {
         "params": {
          "aspectRatio": 1.5,
          "assembly": "default",
          "bondScale": 0.3,
          "bondSpacing": 0.75,
          "clipCenter": {
           "x": 0,
           "y": 0,
           "z": 0
          },
          "clipNear": 0,
          "clipRadius": 0,
          "colorMode": "hcl",
          "colorReverse": false,
          "colorScale": "",
          "colorScheme": "element",
          "colorValue": 9474192,
          "cylinderOnly": false,
          "defaultAssembly": "",
          "depthWrite": true,
          "diffuse": 16777215,
          "diffuseInterior": false,
          "disableImpostor": false,
          "disablePicking": false,
          "flatShaded": false,
          "interiorColor": 2236962,
          "interiorDarkening": 0,
          "lazy": false,
          "lineOnly": false,
          "linewidth": 2,
          "matrix": {
           "elements": [
            1,
            0,
            0,
            0,
            0,
            1,
            0,
            0,
            0,
            0,
            1,
            0,
            0,
            0,
            0,
            1
           ]
          },
          "metalness": 0,
          "multipleBond": "off",
          "opacity": 1,
          "openEnded": true,
          "quality": "high",
          "radialSegments": 20,
          "radiusData": {},
          "radiusScale": 2,
          "radiusSize": 0.15,
          "radiusType": "size",
          "roughness": 0.4,
          "sele": "ligand",
          "side": "double",
          "sphereDetail": 2,
          "useInteriorColor": true,
          "visible": true,
          "wireframe": false
         },
         "type": "ball+stick"
        }
       }
      },
      "_ngl_serialize": false,
      "_ngl_version": "2.0.0-dev.39",
      "_ngl_view_id": [
       "E5EF9248-5730-488C-9277-8BFD9316291B"
      ],
      "_player_dict": {},
      "_scene_position": {},
      "_scene_rotation": {},
      "_synced_model_ids": [],
      "_synced_repr_model_ids": [],
      "_view_count": null,
      "_view_height": "",
      "_view_module": "nglview-js-widgets",
      "_view_module_version": "3.0.8",
      "_view_name": "NGLView",
      "_view_width": "",
      "background": "white",
      "frame": 0,
      "gui_style": null,
      "layout": "IPY_MODEL_5c5d0ad9de524cf68962ffe073977180",
      "max_frame": 19,
      "n_components": 2,
      "picked": {}
     }
    },
    "5acdce56358447e7bf53a123de02a7d5": {
     "model_module": "@jupyter-widgets/controls",
     "model_module_version": "1.5.0",
     "model_name": "HTMLModel",
     "state": {
      "_dom_classes": [],
      "_model_module": "@jupyter-widgets/controls",
      "_model_module_version": "1.5.0",
      "_model_name": "HTMLModel",
      "_view_count": null,
      "_view_module": "@jupyter-widgets/controls",
      "_view_module_version": "1.5.0",
      "_view_name": "HTMLView",
      "description": "",
      "description_tooltip": null,
      "layout": "IPY_MODEL_f9ee09c0f0f0444589cee9880c63a317",
      "placeholder": "​",
      "style": "IPY_MODEL_94fff22edf7045dca380106f0ccfd78b",
      "value": " 1000/1000 [00:36&lt;00:00, 31.97it/s]"
     }
    },
    "5c39d56279674d56990384b19f829280": {
     "model_module": "@jupyter-widgets/base",
     "model_module_version": "1.2.0",
     "model_name": "LayoutModel",
     "state": {
      "_model_module": "@jupyter-widgets/base",
      "_model_module_version": "1.2.0",
      "_model_name": "LayoutModel",
      "_view_count": null,
      "_view_module": "@jupyter-widgets/base",
      "_view_module_version": "1.2.0",
      "_view_name": "LayoutView",
      "align_content": null,
      "align_items": null,
      "align_self": null,
      "border": null,
      "bottom": null,
      "display": null,
      "flex": null,
      "flex_flow": null,
      "grid_area": null,
      "grid_auto_columns": null,
      "grid_auto_flow": null,
      "grid_auto_rows": null,
      "grid_column": null,
      "grid_gap": null,
      "grid_row": null,
      "grid_template_areas": null,
      "grid_template_columns": null,
      "grid_template_rows": null,
      "height": null,
      "justify_content": null,
      "justify_items": null,
      "left": null,
      "margin": null,
      "max_height": null,
      "max_width": null,
      "min_height": null,
      "min_width": null,
      "object_fit": null,
      "object_position": null,
      "order": null,
      "overflow": null,
      "overflow_x": null,
      "overflow_y": null,
      "padding": null,
      "right": null,
      "top": null,
      "visibility": null,
      "width": null
     }
    },
    "5c5d0ad9de524cf68962ffe073977180": {
     "model_module": "@jupyter-widgets/base",
     "model_module_version": "1.2.0",
     "model_name": "LayoutModel",
     "state": {
      "_model_module": "@jupyter-widgets/base",
      "_model_module_version": "1.2.0",
      "_model_name": "LayoutModel",
      "_view_count": null,
      "_view_module": "@jupyter-widgets/base",
      "_view_module_version": "1.2.0",
      "_view_name": "LayoutView",
      "align_content": null,
      "align_items": null,
      "align_self": null,
      "border": null,
      "bottom": null,
      "display": null,
      "flex": null,
      "flex_flow": null,
      "grid_area": null,
      "grid_auto_columns": null,
      "grid_auto_flow": null,
      "grid_auto_rows": null,
      "grid_column": null,
      "grid_gap": null,
      "grid_row": null,
      "grid_template_areas": null,
      "grid_template_columns": null,
      "grid_template_rows": null,
      "height": null,
      "justify_content": null,
      "justify_items": null,
      "left": null,
      "margin": null,
      "max_height": null,
      "max_width": null,
      "min_height": null,
      "min_width": null,
      "object_fit": null,
      "object_position": null,
      "order": null,
      "overflow": null,
      "overflow_x": null,
      "overflow_y": null,
      "padding": null,
      "right": null,
      "top": null,
      "visibility": null,
      "width": null
     }
    },
    "5f78dcda1cff40efbb655e5c74a2e08d": {
     "model_module": "@jupyter-widgets/controls",
     "model_module_version": "1.5.0",
     "model_name": "IntSliderModel",
     "state": {
      "_dom_classes": [],
      "_model_module": "@jupyter-widgets/controls",
      "_model_module_version": "1.5.0",
      "_model_name": "IntSliderModel",
      "_view_count": null,
      "_view_module": "@jupyter-widgets/controls",
      "_view_module_version": "1.5.0",
      "_view_name": "IntSliderView",
      "continuous_update": true,
      "description": "",
      "description_tooltip": null,
      "disabled": false,
      "layout": "IPY_MODEL_091ace719fff427c9426dcd0fc154f6c",
      "max": 9,
      "min": 0,
      "orientation": "horizontal",
      "readout": true,
      "readout_format": "d",
      "step": 1,
      "style": "IPY_MODEL_bf5e77f431424098b2d7f66c49993257",
      "value": 8
     }
    },
    "69fb463e4770463fb04b3781ace97adc": {
     "model_module": "@jupyter-widgets/controls",
     "model_module_version": "1.5.0",
     "model_name": "HTMLModel",
     "state": {
      "_dom_classes": [],
      "_model_module": "@jupyter-widgets/controls",
      "_model_module_version": "1.5.0",
      "_model_name": "HTMLModel",
      "_view_count": null,
      "_view_module": "@jupyter-widgets/controls",
      "_view_module_version": "1.5.0",
      "_view_name": "HTMLView",
      "description": "",
      "description_tooltip": null,
      "layout": "IPY_MODEL_fbdbbd6f6c994cc18f3d565ffef2749b",
      "placeholder": "​",
      "style": "IPY_MODEL_9ff65c2041b04074a9a042f4cda147c9",
      "value": "100%"
     }
    },
    "735ccb0d548a47569c2a8ff9ed623b5a": {
     "model_module": "@jupyter-widgets/base",
     "model_module_version": "1.2.0",
     "model_name": "LayoutModel",
     "state": {
      "_model_module": "@jupyter-widgets/base",
      "_model_module_version": "1.2.0",
      "_model_name": "LayoutModel",
      "_view_count": null,
      "_view_module": "@jupyter-widgets/base",
      "_view_module_version": "1.2.0",
      "_view_name": "LayoutView",
      "align_content": null,
      "align_items": null,
      "align_self": null,
      "border": null,
      "bottom": null,
      "display": null,
      "flex": null,
      "flex_flow": null,
      "grid_area": null,
      "grid_auto_columns": null,
      "grid_auto_flow": null,
      "grid_auto_rows": null,
      "grid_column": null,
      "grid_gap": null,
      "grid_row": null,
      "grid_template_areas": null,
      "grid_template_columns": null,
      "grid_template_rows": null,
      "height": null,
      "justify_content": null,
      "justify_items": null,
      "left": null,
      "margin": null,
      "max_height": null,
      "max_width": null,
      "min_height": null,
      "min_width": null,
      "object_fit": null,
      "object_position": null,
      "order": null,
      "overflow": null,
      "overflow_x": null,
      "overflow_y": null,
      "padding": null,
      "right": null,
      "top": null,
      "visibility": null,
      "width": null
     }
    },
    "73e5abf2bc9d4434a450f60a8b749b30": {
     "model_module": "@jupyter-widgets/controls",
     "model_module_version": "1.5.0",
     "model_name": "ButtonStyleModel",
     "state": {
      "_model_module": "@jupyter-widgets/controls",
      "_model_module_version": "1.5.0",
      "_model_name": "ButtonStyleModel",
      "_view_count": null,
      "_view_module": "@jupyter-widgets/base",
      "_view_module_version": "1.2.0",
      "_view_name": "StyleView",
      "button_color": null,
      "font_weight": ""
     }
    },
    "77d8869a722e44a58202f40f02f879b6": {
     "model_module": "@jupyter-widgets/base",
     "model_module_version": "1.2.0",
     "model_name": "LayoutModel",
     "state": {
      "_model_module": "@jupyter-widgets/base",
      "_model_module_version": "1.2.0",
      "_model_name": "LayoutModel",
      "_view_count": null,
      "_view_module": "@jupyter-widgets/base",
      "_view_module_version": "1.2.0",
      "_view_name": "LayoutView",
      "align_content": null,
      "align_items": null,
      "align_self": null,
      "border": null,
      "bottom": null,
      "display": null,
      "flex": null,
      "flex_flow": null,
      "grid_area": null,
      "grid_auto_columns": null,
      "grid_auto_flow": null,
      "grid_auto_rows": null,
      "grid_column": null,
      "grid_gap": null,
      "grid_row": null,
      "grid_template_areas": null,
      "grid_template_columns": null,
      "grid_template_rows": null,
      "height": null,
      "justify_content": null,
      "justify_items": null,
      "left": null,
      "margin": null,
      "max_height": null,
      "max_width": null,
      "min_height": null,
      "min_width": null,
      "object_fit": null,
      "object_position": null,
      "order": null,
      "overflow": null,
      "overflow_x": null,
      "overflow_y": null,
      "padding": null,
      "right": null,
      "top": null,
      "visibility": null,
      "width": null
     }
    },
    "7a0e5589b2634f8f9c3634226ac96148": {
     "model_module": "@jupyter-widgets/base",
     "model_module_version": "1.2.0",
     "model_name": "LayoutModel",
     "state": {
      "_model_module": "@jupyter-widgets/base",
      "_model_module_version": "1.2.0",
      "_model_name": "LayoutModel",
      "_view_count": null,
      "_view_module": "@jupyter-widgets/base",
      "_view_module_version": "1.2.0",
      "_view_name": "LayoutView",
      "align_content": null,
      "align_items": null,
      "align_self": null,
      "border": null,
      "bottom": null,
      "display": null,
      "flex": null,
      "flex_flow": null,
      "grid_area": null,
      "grid_auto_columns": null,
      "grid_auto_flow": null,
      "grid_auto_rows": null,
      "grid_column": null,
      "grid_gap": null,
      "grid_row": null,
      "grid_template_areas": null,
      "grid_template_columns": null,
      "grid_template_rows": null,
      "height": null,
      "justify_content": null,
      "justify_items": null,
      "left": null,
      "margin": null,
      "max_height": null,
      "max_width": null,
      "min_height": null,
      "min_width": null,
      "object_fit": null,
      "object_position": null,
      "order": null,
      "overflow": null,
      "overflow_x": null,
      "overflow_y": null,
      "padding": null,
      "right": null,
      "top": null,
      "visibility": null,
      "width": null
     }
    },
    "7c3966bc9342469fa672e095c07b15d1": {
     "model_module": "@jupyter-widgets/controls",
     "model_module_version": "1.5.0",
     "model_name": "HTMLModel",
     "state": {
      "_dom_classes": [],
      "_model_module": "@jupyter-widgets/controls",
      "_model_module_version": "1.5.0",
      "_model_name": "HTMLModel",
      "_view_count": null,
      "_view_module": "@jupyter-widgets/controls",
      "_view_module_version": "1.5.0",
      "_view_name": "HTMLView",
      "description": "",
      "description_tooltip": null,
      "layout": "IPY_MODEL_439c208e22984fb9ac4d17dcf87be530",
      "placeholder": "​",
      "style": "IPY_MODEL_ac8fd5dc72cd4a2383c4f7ec750da935",
      "value": "sampling loop time step: 100%"
     }
    },
    "7cf4652293d44afeb352430f1b38427a": {
     "model_module": "@jupyter-widgets/controls",
     "model_module_version": "1.5.0",
     "model_name": "ButtonModel",
     "state": {
      "_dom_classes": [],
      "_model_module": "@jupyter-widgets/controls",
      "_model_module_version": "1.5.0",
      "_model_name": "ButtonModel",
      "_view_count": null,
      "_view_module": "@jupyter-widgets/controls",
      "_view_module_version": "1.5.0",
      "_view_name": "ButtonView",
      "button_style": "",
      "description": "",
      "disabled": false,
      "icon": "compress",
      "layout": "IPY_MODEL_f07d66a59b1a4a7fae81f7d17fa12194",
      "style": "IPY_MODEL_4f47c81218ee48fc90b73e4a09f47b0d",
      "tooltip": ""
     }
    },
    "7fa14b3acfc14a80a8c9c28fdc03ef7c": {
     "model_module": "@jupyter-widgets/controls",
     "model_module_version": "1.5.0",
     "model_name": "HBoxModel",
     "state": {
      "_dom_classes": [],
      "_model_module": "@jupyter-widgets/controls",
      "_model_module_version": "1.5.0",
      "_model_name": "HBoxModel",
      "_view_count": null,
      "_view_module": "@jupyter-widgets/controls",
      "_view_module_version": "1.5.0",
      "_view_name": "HBoxView",
      "box_style": "",
      "children": [
       "IPY_MODEL_3ccf301a70104f39b939a3aada2a8614",
       "IPY_MODEL_9c94dc0e7d764ed2af3e1e8f6aeda23e",
       "IPY_MODEL_5acdce56358447e7bf53a123de02a7d5"
      ],
      "layout": "IPY_MODEL_1112a927c70c410d82879db938416911"
     }
    },
    "8744bb0f7f1c40758d98c27ea017eb1b": {
     "model_module": "@jupyter-widgets/controls",
     "model_module_version": "1.5.0",
     "model_name": "DescriptionStyleModel",
     "state": {
      "_model_module": "@jupyter-widgets/controls",
      "_model_module_version": "1.5.0",
      "_model_name": "DescriptionStyleModel",
      "_view_count": null,
      "_view_module": "@jupyter-widgets/base",
      "_view_module_version": "1.2.0",
      "_view_name": "StyleView",
      "description_width": ""
     }
    },
    "8937091690994f00a9ef06eb205310fc": {
     "model_module": "@jupyter-widgets/controls",
     "model_module_version": "1.5.0",
     "model_name": "DescriptionStyleModel",
     "state": {
      "_model_module": "@jupyter-widgets/controls",
      "_model_module_version": "1.5.0",
      "_model_name": "DescriptionStyleModel",
      "_view_count": null,
      "_view_module": "@jupyter-widgets/base",
      "_view_module_version": "1.2.0",
      "_view_name": "StyleView",
      "description_width": ""
     }
    },
    "8a98c95c177c444d8479073cea338d1a": {
     "model_module": "@jupyter-widgets/controls",
     "model_module_version": "1.5.0",
     "model_name": "PlayModel",
     "state": {
      "_dom_classes": [],
      "_model_module": "@jupyter-widgets/controls",
      "_model_module_version": "1.5.0",
      "_model_name": "PlayModel",
      "_playing": false,
      "_repeat": false,
      "_view_count": null,
      "_view_module": "@jupyter-widgets/controls",
      "_view_module_version": "1.5.0",
      "_view_name": "PlayView",
      "description": "",
      "description_tooltip": null,
      "disabled": false,
      "interval": 100,
      "layout": "IPY_MODEL_b1e60d94fe6e40f2b3e4b1f7760e36ec",
      "max": 9,
      "min": 0,
      "playing": false,
      "show_repeat": true,
      "step": 1,
      "style": "IPY_MODEL_8937091690994f00a9ef06eb205310fc",
      "value": 8
     }
    },
    "8e9f4f69016b45b79416b79eae1f02b6": {
     "model_module": "@jupyter-widgets/controls",
     "model_module_version": "1.5.0",
     "model_name": "ProgressStyleModel",
     "state": {
      "_model_module": "@jupyter-widgets/controls",
      "_model_module_version": "1.5.0",
      "_model_name": "ProgressStyleModel",
      "_view_count": null,
      "_view_module": "@jupyter-widgets/base",
      "_view_module_version": "1.2.0",
      "_view_name": "StyleView",
      "bar_color": null,
      "description_width": ""
     }
    },
    "932a7d834bc74bba9e4ece67bfcdc125": {
     "model_module": "nglview-js-widgets",
     "model_module_version": "3.0.8",
     "model_name": "NGLModel",
     "state": {
      "_camera_orientation": [
       -1.6038866104543532,
       -54.807226379275335,
       21.761816671946303,
       0,
       -2.950654957303075,
       -21.668005952828715,
       -54.78843248226033,
       0,
       58.89569053483985,
       -2.5781068928230977,
       -2.15225040026238,
       0,
       1.557499885559082,
       -0.6630635261535645,
       0.44186830520629883,
       1
      ],
      "_camera_str": "orthographic",
      "_dom_classes": [],
      "_gui_theme": null,
      "_ibtn_fullscreen": "IPY_MODEL_de2da28277634e7e9cad4a30aaf78e47",
      "_igui": null,
      "_iplayer": "IPY_MODEL_16d7968bd594414f9c96fad917609043",
      "_model_module": "nglview-js-widgets",
      "_model_module_version": "3.0.8",
      "_model_name": "NGLModel",
      "_ngl_color_dict": {},
      "_ngl_coordinate_resource": {},
      "_ngl_full_stage_parameters": {
       "ambientColor": 14540253,
       "ambientIntensity": 0.2,
       "backgroundColor": "white",
       "cameraEyeSep": 0.3,
       "cameraFov": 40,
       "cameraType": "perspective",
       "clipDist": 10,
       "clipFar": 100,
       "clipMode": "scene",
       "clipNear": 0,
       "clipScale": "relative",
       "fogFar": 100,
       "fogNear": 50,
       "hoverTimeout": 0,
       "impostor": true,
       "lightColor": 14540253,
       "lightIntensity": 1,
       "mousePreset": "default",
       "panSpeed": 1,
       "quality": "medium",
       "rotateSpeed": 2,
       "sampleLevel": 0,
       "tooltip": true,
       "workerDefault": true,
       "zoomSpeed": 1.2
      },
      "_ngl_msg_archive": [
       {
        "args": [
         {
          "binary": false,
          "data": "REMARK   1 CREATED WITH MDTraj 1.10.0, 2024-06-11\nCRYST1   46.599   46.599   46.599  90.00  90.00  90.00 P 1           1 \nMODEL        0\nATOM      1  CA  GLU A   1     -15.943   2.140  -7.729  1.00  0.00           C  \nATOM      2  CA  GLN A   2     -12.228   1.849  -8.937  1.00  0.00           C  \nATOM      3  CA  TYR A   3     -12.193  -1.907  -9.757  1.00  0.00           C  \nATOM      4  CA  THR A   4     -14.793  -4.688 -10.544  1.00  0.00           C  \nATOM      5  CA  ALA A   5     -14.755  -6.147  -7.023  1.00  0.00           C  \nATOM      6  CA  LYS A   6     -13.800  -3.217  -4.611  1.00  0.00           C  \nATOM      7  CA  TYR A   7     -11.377  -4.104  -1.770  1.00  0.00           C  \nATOM      8  CA  LYS A   8     -10.422  -1.719   1.010  1.00  0.00           C  \nATOM      9  CA  GLY A   9      -7.076  -3.132   1.736  1.00  0.00           C  \nATOM     10  CA  ARG A  10      -3.655  -3.472   0.166  1.00  0.00           C  \nATOM     11  CA  THR A  11      -2.344  -6.323  -2.084  1.00  0.00           C  \nATOM     12  CA  PHE A  12       1.188  -4.932  -2.603  1.00  0.00           C  \nATOM     13  CA  ARG A  13       3.908  -4.288   0.143  1.00  0.00           C  \nATOM     14  CA  ASN A  14       7.660  -4.715   0.127  1.00  0.00           C  \nATOM     15  CA  GLU A  15       8.610  -6.799   3.237  1.00  0.00           C  \nATOM     16  CA  LYS A  16      12.290  -6.181   2.656  1.00  0.00           C  \nATOM     17  CA  GLU A  17      12.028  -2.390   2.839  1.00  0.00           C  \nATOM     18  CA  LEU A  18      10.646  -0.099   5.578  1.00  0.00           C  \nATOM     19  CA  ARG A  19      10.087   2.868   3.099  1.00  0.00           C  \nATOM     20  CA  ASP A  20       6.523   2.586   1.924  1.00  0.00           C  \nATOM     21  CA  PHE A  21       4.836   4.174  -1.111  1.00  0.00           C  \nATOM     22  CA  ILE A  22       1.347   4.101   0.653  1.00  0.00           C  \nATOM     23  CA  GLU A  23       2.114   5.011   4.228  1.00  0.00           C  \nATOM     24  CA  LYS A  24       4.786   7.249   2.689  1.00  0.00           C  \nATOM     25  CA  PHE A  25       4.188   9.797   5.613  1.00  0.00           C  \nATOM     26  CA  LYS A  26       6.281   7.437   7.794  1.00  0.00           C  \nATOM     27  CA  GLY A  27       9.264   8.805   5.858  1.00  0.00           C  \nATOM     28  CA  ARG A  28      12.828   8.095   6.820  1.00  0.00           C  \nTER      29      ARG A  28\nENDMDL\nEND\n",
          "type": "blob"
         }
        ],
        "kwargs": {
         "defaultRepresentation": true,
         "ext": "pdb",
         "name": "nglview.adaptor.MDTrajTrajectory"
        },
        "methodName": "loadFile",
        "reconstruc_color_scheme": false,
        "target": "Stage",
        "type": "call_method"
       },
       {
        "args": [
         {
          "binary": false,
          "data": "MODEL        0\nATOM      1  CA  GLU A   1      -8.344   0.029  -0.023  1.00  0.00           C  \nATOM      2  CA  GLN A   2     -10.125   1.195  -0.870  1.00  0.00           C  \nATOM      3  CA  TYR A   3      -8.181  -2.572  -0.327  1.00  0.00           C  \nATOM      4  CA  THR A   4      -9.992  -0.274  -0.222  1.00  0.00           C  \nATOM      5  CA  ALA A   5      -7.592  -1.397  -6.473  1.00  0.00           C  \nATOM      6  CA  LYS A   6      -4.902   0.273  -8.781  1.00  0.00           C  \nATOM      7  CA  TYR A   7      -7.328  -4.003  -6.902  1.00  0.00           C  \nATOM      8  CA  LYS A   8     -10.659  -5.863  -5.300  1.00  0.00           C  \nATOM      9  CA  GLY A   9      -8.151  -6.775  -8.101  1.00  0.00           C  \nATOM     10  CA  ARG A  10      -5.946  -6.563  -7.544  1.00  0.00           C  \nATOM     11  CA  THR A  11      -2.672  -7.986  -4.428  1.00  0.00           C  \nATOM     12  CA  PHE A  12      -0.231  -7.198  -2.956  1.00  0.00           C  \nATOM     13  CA  ARG A  13      -0.031  -9.669  -2.538  1.00  0.00           C  \nATOM     14  CA  ASN A  14       1.456 -11.962  -1.648  1.00  0.00           C  \nATOM     15  CA  GLU A  15       6.675  -9.115   2.523  1.00  0.00           C  \nATOM     16  CA  LYS A  16       7.208  -6.056   0.882  1.00  0.00           C  \nATOM     17  CA  GLU A  17       6.453  -2.719   2.189  1.00  0.00           C  \nATOM     18  CA  LEU A  18       6.123  -1.094   5.054  1.00  0.00           C  \nATOM     19  CA  ARG A  19       8.038   0.884   8.094  1.00  0.00           C  \nATOM     20  CA  ASP A  20       5.831   2.307   9.591  1.00  0.00           C  \nATOM     21  CA  PHE A  21       4.076   5.165   8.516  1.00  0.00           C  \nATOM     22  CA  ILE A  22       3.575   5.885   7.986  1.00  0.00           C  \nATOM     23  CA  GLU A  23       4.484   7.784   6.873  1.00  0.00           C  \nATOM     24  CA  LYS A  24       3.937  10.299   6.961  1.00  0.00           C  \nATOM     25  CA  PHE A  25       3.461  12.491   2.710  1.00  0.00           C  \nATOM     26  CA  LYS A  26       5.872  11.350   0.427  1.00  0.00           C  \nATOM     27  CA  GLY A  27       8.227  12.318  -0.983  1.00  0.00           C  \nATOM     28  CA  ARG A  28       8.737  13.268  -4.708  1.00  0.00           C  \nTER      29      ARG A  28\nENDMDL\nEND\n",
          "type": "blob"
         }
        ],
        "kwargs": {
         "defaultRepresentation": true,
         "ext": "pdb"
        },
        "methodName": "loadFile",
        "reconstruc_color_scheme": false,
        "target": "Stage",
        "type": "call_method"
       },
       {
        "args": [],
        "component_index": 0,
        "kwargs": {},
        "methodName": "removeAllRepresentations",
        "reconstruc_color_scheme": false,
        "target": "compList",
        "type": "call_method"
       },
       {
        "args": [
         "ball+stick"
        ],
        "component_index": 0,
        "kwargs": {
         "color": "blue",
         "sele": "all"
        },
        "methodName": "addRepresentation",
        "reconstruc_color_scheme": false,
        "target": "compList",
        "type": "call_method"
       },
       {
        "args": [],
        "component_index": 1,
        "kwargs": {},
        "methodName": "removeAllRepresentations",
        "reconstruc_color_scheme": false,
        "target": "compList",
        "type": "call_method"
       },
       {
        "args": [
         "ball+stick"
        ],
        "component_index": 1,
        "kwargs": {
         "color": "red",
         "sele": "all"
        },
        "methodName": "addRepresentation",
        "reconstruc_color_scheme": false,
        "target": "compList",
        "type": "call_method"
       }
      ],
      "_ngl_original_stage_parameters": {
       "ambientColor": 14540253,
       "ambientIntensity": 0.2,
       "backgroundColor": "white",
       "cameraEyeSep": 0.3,
       "cameraFov": 40,
       "cameraType": "perspective",
       "clipDist": 10,
       "clipFar": 100,
       "clipMode": "scene",
       "clipNear": 0,
       "clipScale": "relative",
       "fogFar": 100,
       "fogNear": 50,
       "hoverTimeout": 0,
       "impostor": true,
       "lightColor": 14540253,
       "lightIntensity": 1,
       "mousePreset": "default",
       "panSpeed": 1,
       "quality": "medium",
       "rotateSpeed": 2,
       "sampleLevel": 0,
       "tooltip": true,
       "workerDefault": true,
       "zoomSpeed": 1.2
      },
      "_ngl_repr_dict": {
       "0": {
        "0": {
         "params": {
          "aspectRatio": 2,
          "assembly": "default",
          "bondScale": 0.4,
          "bondSpacing": 1,
          "clipCenter": {
           "x": 0,
           "y": 0,
           "z": 0
          },
          "clipNear": 0,
          "clipRadius": 0,
          "colorMode": "hcl",
          "colorReverse": false,
          "colorScale": "",
          "colorScheme": "uniform",
          "colorValue": 255,
          "cylinderOnly": false,
          "defaultAssembly": "",
          "depthWrite": true,
          "diffuse": 16777215,
          "diffuseInterior": false,
          "disableImpostor": false,
          "disablePicking": false,
          "flatShaded": false,
          "interiorColor": 2236962,
          "interiorDarkening": 0,
          "lazy": false,
          "lineOnly": false,
          "linewidth": 2,
          "matrix": {
           "elements": [
            1,
            0,
            0,
            0,
            0,
            1,
            0,
            0,
            0,
            0,
            1,
            0,
            0,
            0,
            0,
            1
           ]
          },
          "metalness": 0,
          "multipleBond": "off",
          "opacity": 1,
          "openEnded": true,
          "quality": "medium",
          "radialSegments": 10,
          "radiusData": {},
          "radiusScale": 1,
          "radiusSize": 0.15,
          "radiusType": "size",
          "roughness": 0.4,
          "sele": "all",
          "side": "double",
          "sphereDetail": 1,
          "useInteriorColor": true,
          "visible": true,
          "wireframe": false
         },
         "type": "ball+stick"
        },
        "1": {
         "params": {
          "aspectRatio": 2,
          "assembly": "default",
          "bondScale": 0.4,
          "bondSpacing": 1,
          "clipCenter": {
           "x": 0,
           "y": 0,
           "z": 0
          },
          "clipNear": 0,
          "clipRadius": 0,
          "colorMode": "hcl",
          "colorReverse": false,
          "colorScale": "",
          "colorScheme": "uniform",
          "colorValue": 255,
          "cylinderOnly": false,
          "defaultAssembly": "",
          "depthWrite": true,
          "diffuse": 16777215,
          "diffuseInterior": false,
          "disableImpostor": false,
          "disablePicking": false,
          "flatShaded": false,
          "interiorColor": 2236962,
          "interiorDarkening": 0,
          "lazy": false,
          "lineOnly": false,
          "linewidth": 2,
          "matrix": {
           "elements": [
            1,
            0,
            0,
            0,
            0,
            1,
            0,
            0,
            0,
            0,
            1,
            0,
            0,
            0,
            0,
            1
           ]
          },
          "metalness": 0,
          "multipleBond": "off",
          "opacity": 1,
          "openEnded": true,
          "quality": "medium",
          "radialSegments": 10,
          "radiusData": {},
          "radiusScale": 1,
          "radiusSize": 0.15,
          "radiusType": "size",
          "roughness": 0.4,
          "sele": "all",
          "side": "double",
          "sphereDetail": 1,
          "useInteriorColor": true,
          "visible": true,
          "wireframe": false
         },
         "type": "ball+stick"
        }
       },
       "1": {
        "0": {
         "params": {
          "aspectRatio": 2,
          "assembly": "default",
          "bondScale": 0.4,
          "bondSpacing": 1,
          "clipCenter": {
           "x": 0,
           "y": 0,
           "z": 0
          },
          "clipNear": 0,
          "clipRadius": 0,
          "colorMode": "hcl",
          "colorReverse": false,
          "colorScale": "",
          "colorScheme": "uniform",
          "colorValue": 16711680,
          "cylinderOnly": false,
          "defaultAssembly": "",
          "depthWrite": true,
          "diffuse": 16777215,
          "diffuseInterior": false,
          "disableImpostor": false,
          "disablePicking": false,
          "flatShaded": false,
          "interiorColor": 2236962,
          "interiorDarkening": 0,
          "lazy": false,
          "lineOnly": false,
          "linewidth": 2,
          "matrix": {
           "elements": [
            1,
            0,
            0,
            0,
            0,
            1,
            0,
            0,
            0,
            0,
            1,
            0,
            0,
            0,
            0,
            1
           ]
          },
          "metalness": 0,
          "multipleBond": "off",
          "opacity": 1,
          "openEnded": true,
          "quality": "medium",
          "radialSegments": 10,
          "radiusData": {},
          "radiusScale": 1,
          "radiusSize": 0.15,
          "radiusType": "size",
          "roughness": 0.4,
          "sele": "all",
          "side": "double",
          "sphereDetail": 1,
          "useInteriorColor": true,
          "visible": true,
          "wireframe": false
         },
         "type": "ball+stick"
        },
        "1": {
         "params": {
          "aspectRatio": 2,
          "assembly": "default",
          "bondScale": 0.4,
          "bondSpacing": 1,
          "clipCenter": {
           "x": 0,
           "y": 0,
           "z": 0
          },
          "clipNear": 0,
          "clipRadius": 0,
          "colorMode": "hcl",
          "colorReverse": false,
          "colorScale": "",
          "colorScheme": "uniform",
          "colorValue": 16711680,
          "cylinderOnly": false,
          "defaultAssembly": "",
          "depthWrite": true,
          "diffuse": 16777215,
          "diffuseInterior": false,
          "disableImpostor": false,
          "disablePicking": false,
          "flatShaded": false,
          "interiorColor": 2236962,
          "interiorDarkening": 0,
          "lazy": false,
          "lineOnly": false,
          "linewidth": 2,
          "matrix": {
           "elements": [
            1,
            0,
            0,
            0,
            0,
            1,
            0,
            0,
            0,
            0,
            1,
            0,
            0,
            0,
            0,
            1
           ]
          },
          "metalness": 0,
          "multipleBond": "off",
          "opacity": 1,
          "openEnded": true,
          "quality": "medium",
          "radialSegments": 10,
          "radiusData": {},
          "radiusScale": 1,
          "radiusSize": 0.15,
          "radiusType": "size",
          "roughness": 0.4,
          "sele": "all",
          "side": "double",
          "sphereDetail": 1,
          "useInteriorColor": true,
          "visible": true,
          "wireframe": false
         },
         "type": "ball+stick"
        }
       },
       "2": {
        "0": {
         "params": {
          "aspectRatio": 5,
          "assembly": "default",
          "capped": true,
          "clipCenter": {
           "x": 0,
           "y": 0,
           "z": 0
          },
          "clipNear": 0,
          "clipRadius": 0,
          "colorMode": "hcl",
          "colorReverse": true,
          "colorScale": "spectral",
          "colorScheme": "residueindex",
          "colorValue": 9474192,
          "defaultAssembly": "",
          "depthWrite": true,
          "diffuse": 16777215,
          "diffuseInterior": false,
          "disablePicking": false,
          "flatShaded": false,
          "interiorColor": 2236962,
          "interiorDarkening": 0,
          "lazy": false,
          "matrix": {
           "elements": [
            1,
            0,
            0,
            0,
            0,
            1,
            0,
            0,
            0,
            0,
            1,
            0,
            0,
            0,
            0,
            1
           ]
          },
          "metalness": 0,
          "opacity": 1,
          "quality": "high",
          "radialSegments": 20,
          "radiusData": {},
          "radiusScale": 0.7,
          "radiusSize": 1,
          "radiusType": "sstruc",
          "roughness": 0.4,
          "sele": "",
          "side": "double",
          "smoothSheet": false,
          "subdiv": 6,
          "tension": null,
          "useInteriorColor": true,
          "visible": true,
          "wireframe": false
         },
         "type": "cartoon"
        },
        "1": {
         "params": {
          "aspectRatio": 1,
          "assembly": "default",
          "bondScale": 0.4,
          "clipCenter": {
           "x": 0,
           "y": 0,
           "z": 0
          },
          "clipNear": 0,
          "clipRadius": 0,
          "colorMode": "hcl",
          "colorReverse": true,
          "colorScale": "spectral",
          "colorScheme": "residueindex",
          "colorValue": 9474192,
          "cylinderOnly": false,
          "defaultAssembly": "",
          "depthWrite": true,
          "diffuse": 16777215,
          "diffuseInterior": false,
          "disableImpostor": false,
          "disablePicking": false,
          "flatShaded": false,
          "interiorColor": 2236962,
          "interiorDarkening": 0,
          "lazy": false,
          "lineOnly": false,
          "linewidth": 2,
          "matrix": {
           "elements": [
            1,
            0,
            0,
            0,
            0,
            1,
            0,
            0,
            0,
            0,
            1,
            0,
            0,
            0,
            0,
            1
           ]
          },
          "metalness": 0,
          "opacity": 1,
          "openEnded": true,
          "quality": "high",
          "radialSegments": 20,
          "radiusData": {},
          "radiusScale": 1,
          "radiusSize": 0.3,
          "radiusType": "size",
          "roughness": 0.4,
          "sele": "",
          "side": "double",
          "sphereDetail": 2,
          "useInteriorColor": true,
          "visible": true,
          "wireframe": false
         },
         "type": "base"
        },
        "2": {
         "params": {
          "aspectRatio": 1.5,
          "assembly": "default",
          "bondScale": 0.3,
          "bondSpacing": 0.75,
          "clipCenter": {
           "x": 0,
           "y": 0,
           "z": 0
          },
          "clipNear": 0,
          "clipRadius": 0,
          "colorMode": "hcl",
          "colorReverse": false,
          "colorScale": "",
          "colorScheme": "element",
          "colorValue": 9474192,
          "cylinderOnly": false,
          "defaultAssembly": "",
          "depthWrite": true,
          "diffuse": 16777215,
          "diffuseInterior": false,
          "disableImpostor": false,
          "disablePicking": false,
          "flatShaded": false,
          "interiorColor": 2236962,
          "interiorDarkening": 0,
          "lazy": false,
          "lineOnly": false,
          "linewidth": 2,
          "matrix": {
           "elements": [
            1,
            0,
            0,
            0,
            0,
            1,
            0,
            0,
            0,
            0,
            1,
            0,
            0,
            0,
            0,
            1
           ]
          },
          "metalness": 0,
          "multipleBond": "off",
          "opacity": 1,
          "openEnded": true,
          "quality": "high",
          "radialSegments": 20,
          "radiusData": {},
          "radiusScale": 2,
          "radiusSize": 0.15,
          "radiusType": "size",
          "roughness": 0.4,
          "sele": "ligand",
          "side": "double",
          "sphereDetail": 2,
          "useInteriorColor": true,
          "visible": true,
          "wireframe": false
         },
         "type": "ball+stick"
        }
       },
       "3": {
        "0": {
         "params": {
          "aspectRatio": 5,
          "assembly": "default",
          "capped": true,
          "clipCenter": {
           "x": 0,
           "y": 0,
           "z": 0
          },
          "clipNear": 0,
          "clipRadius": 0,
          "colorMode": "hcl",
          "colorReverse": true,
          "colorScale": "spectral",
          "colorScheme": "residueindex",
          "colorValue": 9474192,
          "defaultAssembly": "",
          "depthWrite": true,
          "diffuse": 16777215,
          "diffuseInterior": false,
          "disablePicking": false,
          "flatShaded": false,
          "interiorColor": 2236962,
          "interiorDarkening": 0,
          "lazy": false,
          "matrix": {
           "elements": [
            1,
            0,
            0,
            0,
            0,
            1,
            0,
            0,
            0,
            0,
            1,
            0,
            0,
            0,
            0,
            1
           ]
          },
          "metalness": 0,
          "opacity": 1,
          "quality": "high",
          "radialSegments": 20,
          "radiusData": {},
          "radiusScale": 0.7,
          "radiusSize": 1,
          "radiusType": "sstruc",
          "roughness": 0.4,
          "sele": "",
          "side": "double",
          "smoothSheet": false,
          "subdiv": 6,
          "tension": null,
          "useInteriorColor": true,
          "visible": true,
          "wireframe": false
         },
         "type": "cartoon"
        },
        "1": {
         "params": {
          "aspectRatio": 1,
          "assembly": "default",
          "bondScale": 0.4,
          "clipCenter": {
           "x": 0,
           "y": 0,
           "z": 0
          },
          "clipNear": 0,
          "clipRadius": 0,
          "colorMode": "hcl",
          "colorReverse": true,
          "colorScale": "spectral",
          "colorScheme": "residueindex",
          "colorValue": 9474192,
          "cylinderOnly": false,
          "defaultAssembly": "",
          "depthWrite": true,
          "diffuse": 16777215,
          "diffuseInterior": false,
          "disableImpostor": false,
          "disablePicking": false,
          "flatShaded": false,
          "interiorColor": 2236962,
          "interiorDarkening": 0,
          "lazy": false,
          "lineOnly": false,
          "linewidth": 2,
          "matrix": {
           "elements": [
            1,
            0,
            0,
            0,
            0,
            1,
            0,
            0,
            0,
            0,
            1,
            0,
            0,
            0,
            0,
            1
           ]
          },
          "metalness": 0,
          "opacity": 1,
          "openEnded": true,
          "quality": "high",
          "radialSegments": 20,
          "radiusData": {},
          "radiusScale": 1,
          "radiusSize": 0.3,
          "radiusType": "size",
          "roughness": 0.4,
          "sele": "",
          "side": "double",
          "sphereDetail": 2,
          "useInteriorColor": true,
          "visible": true,
          "wireframe": false
         },
         "type": "base"
        },
        "2": {
         "params": {
          "aspectRatio": 1.5,
          "assembly": "default",
          "bondScale": 0.3,
          "bondSpacing": 0.75,
          "clipCenter": {
           "x": 0,
           "y": 0,
           "z": 0
          },
          "clipNear": 0,
          "clipRadius": 0,
          "colorMode": "hcl",
          "colorReverse": false,
          "colorScale": "",
          "colorScheme": "element",
          "colorValue": 9474192,
          "cylinderOnly": false,
          "defaultAssembly": "",
          "depthWrite": true,
          "diffuse": 16777215,
          "diffuseInterior": false,
          "disableImpostor": false,
          "disablePicking": false,
          "flatShaded": false,
          "interiorColor": 2236962,
          "interiorDarkening": 0,
          "lazy": false,
          "lineOnly": false,
          "linewidth": 2,
          "matrix": {
           "elements": [
            1,
            0,
            0,
            0,
            0,
            1,
            0,
            0,
            0,
            0,
            1,
            0,
            0,
            0,
            0,
            1
           ]
          },
          "metalness": 0,
          "multipleBond": "off",
          "opacity": 1,
          "openEnded": true,
          "quality": "high",
          "radialSegments": 20,
          "radiusData": {},
          "radiusScale": 2,
          "radiusSize": 0.15,
          "radiusType": "size",
          "roughness": 0.4,
          "sele": "ligand",
          "side": "double",
          "sphereDetail": 2,
          "useInteriorColor": true,
          "visible": true,
          "wireframe": false
         },
         "type": "ball+stick"
        }
       }
      },
      "_ngl_serialize": false,
      "_ngl_version": "2.0.0-dev.39",
      "_ngl_view_id": [
       "749A1E79-9096-4D40-AE60-20DB11E0B0F8"
      ],
      "_player_dict": {},
      "_scene_position": {},
      "_scene_rotation": {},
      "_synced_model_ids": [],
      "_synced_repr_model_ids": [],
      "_view_count": null,
      "_view_height": "",
      "_view_module": "nglview-js-widgets",
      "_view_module_version": "3.0.8",
      "_view_name": "NGLView",
      "_view_width": "",
      "background": "white",
      "frame": 8,
      "gui_style": null,
      "layout": "IPY_MODEL_e7908a8f428a423e828749d0b98bc7a3",
      "max_frame": 9,
      "n_components": 4,
      "picked": {}
     }
    },
    "94fff22edf7045dca380106f0ccfd78b": {
     "model_module": "@jupyter-widgets/controls",
     "model_module_version": "1.5.0",
     "model_name": "DescriptionStyleModel",
     "state": {
      "_model_module": "@jupyter-widgets/controls",
      "_model_module_version": "1.5.0",
      "_model_name": "DescriptionStyleModel",
      "_view_count": null,
      "_view_module": "@jupyter-widgets/base",
      "_view_module_version": "1.2.0",
      "_view_name": "StyleView",
      "description_width": ""
     }
    },
    "9c94dc0e7d764ed2af3e1e8f6aeda23e": {
     "model_module": "@jupyter-widgets/controls",
     "model_module_version": "1.5.0",
     "model_name": "FloatProgressModel",
     "state": {
      "_dom_classes": [],
      "_model_module": "@jupyter-widgets/controls",
      "_model_module_version": "1.5.0",
      "_model_name": "FloatProgressModel",
      "_view_count": null,
      "_view_module": "@jupyter-widgets/controls",
      "_view_module_version": "1.5.0",
      "_view_name": "ProgressView",
      "bar_style": "success",
      "description": "",
      "description_tooltip": null,
      "layout": "IPY_MODEL_735ccb0d548a47569c2a8ff9ed623b5a",
      "max": 1000,
      "min": 0,
      "orientation": "horizontal",
      "style": "IPY_MODEL_d035e64465af4d6cac797ace4fc2a743",
      "value": 1000
     }
    },
    "9ff65c2041b04074a9a042f4cda147c9": {
     "model_module": "@jupyter-widgets/controls",
     "model_module_version": "1.5.0",
     "model_name": "DescriptionStyleModel",
     "state": {
      "_model_module": "@jupyter-widgets/controls",
      "_model_module_version": "1.5.0",
      "_model_name": "DescriptionStyleModel",
      "_view_count": null,
      "_view_module": "@jupyter-widgets/base",
      "_view_module_version": "1.2.0",
      "_view_name": "StyleView",
      "description_width": ""
     }
    },
    "a0cf6b3f822c46268c3eb120618dcdce": {
     "model_module": "@jupyter-widgets/base",
     "model_module_version": "1.2.0",
     "model_name": "LayoutModel",
     "state": {
      "_model_module": "@jupyter-widgets/base",
      "_model_module_version": "1.2.0",
      "_model_name": "LayoutModel",
      "_view_count": null,
      "_view_module": "@jupyter-widgets/base",
      "_view_module_version": "1.2.0",
      "_view_name": "LayoutView",
      "align_content": null,
      "align_items": null,
      "align_self": null,
      "border": null,
      "bottom": null,
      "display": null,
      "flex": null,
      "flex_flow": null,
      "grid_area": null,
      "grid_auto_columns": null,
      "grid_auto_flow": null,
      "grid_auto_rows": null,
      "grid_column": null,
      "grid_gap": null,
      "grid_row": null,
      "grid_template_areas": null,
      "grid_template_columns": null,
      "grid_template_rows": null,
      "height": null,
      "justify_content": null,
      "justify_items": null,
      "left": null,
      "margin": null,
      "max_height": null,
      "max_width": null,
      "min_height": null,
      "min_width": null,
      "object_fit": null,
      "object_position": null,
      "order": null,
      "overflow": null,
      "overflow_x": null,
      "overflow_y": null,
      "padding": null,
      "right": null,
      "top": null,
      "visibility": null,
      "width": "34px"
     }
    },
    "a265a194da534731b6b305d9069419b0": {
     "model_module": "@jupyter-widgets/controls",
     "model_module_version": "1.5.0",
     "model_name": "HBoxModel",
     "state": {
      "_dom_classes": [],
      "_model_module": "@jupyter-widgets/controls",
      "_model_module_version": "1.5.0",
      "_model_name": "HBoxModel",
      "_view_count": null,
      "_view_module": "@jupyter-widgets/controls",
      "_view_module_version": "1.5.0",
      "_view_name": "HBoxView",
      "box_style": "",
      "children": [
       "IPY_MODEL_69fb463e4770463fb04b3781ace97adc",
       "IPY_MODEL_4dafe92566884aeca865967db3404f6a",
       "IPY_MODEL_fe676ffd006248fcaa6846696a83b2be"
      ],
      "layout": "IPY_MODEL_c4c57a5ab8df4fcc927523f1974b93e4"
     }
    },
    "ac8fd5dc72cd4a2383c4f7ec750da935": {
     "model_module": "@jupyter-widgets/controls",
     "model_module_version": "1.5.0",
     "model_name": "DescriptionStyleModel",
     "state": {
      "_model_module": "@jupyter-widgets/controls",
      "_model_module_version": "1.5.0",
      "_model_name": "DescriptionStyleModel",
      "_view_count": null,
      "_view_module": "@jupyter-widgets/base",
      "_view_module_version": "1.2.0",
      "_view_name": "StyleView",
      "description_width": ""
     }
    },
    "af27fbc17f0b4f2c84cb5143ff800be1": {
     "model_module": "@jupyter-widgets/controls",
     "model_module_version": "1.5.0",
     "model_name": "DescriptionStyleModel",
     "state": {
      "_model_module": "@jupyter-widgets/controls",
      "_model_module_version": "1.5.0",
      "_model_name": "DescriptionStyleModel",
      "_view_count": null,
      "_view_module": "@jupyter-widgets/base",
      "_view_module_version": "1.2.0",
      "_view_name": "StyleView",
      "description_width": ""
     }
    },
    "b1e60d94fe6e40f2b3e4b1f7760e36ec": {
     "model_module": "@jupyter-widgets/base",
     "model_module_version": "1.2.0",
     "model_name": "LayoutModel",
     "state": {
      "_model_module": "@jupyter-widgets/base",
      "_model_module_version": "1.2.0",
      "_model_name": "LayoutModel",
      "_view_count": null,
      "_view_module": "@jupyter-widgets/base",
      "_view_module_version": "1.2.0",
      "_view_name": "LayoutView",
      "align_content": null,
      "align_items": null,
      "align_self": null,
      "border": null,
      "bottom": null,
      "display": null,
      "flex": null,
      "flex_flow": null,
      "grid_area": null,
      "grid_auto_columns": null,
      "grid_auto_flow": null,
      "grid_auto_rows": null,
      "grid_column": null,
      "grid_gap": null,
      "grid_row": null,
      "grid_template_areas": null,
      "grid_template_columns": null,
      "grid_template_rows": null,
      "height": null,
      "justify_content": null,
      "justify_items": null,
      "left": null,
      "margin": null,
      "max_height": null,
      "max_width": null,
      "min_height": null,
      "min_width": null,
      "object_fit": null,
      "object_position": null,
      "order": null,
      "overflow": null,
      "overflow_x": null,
      "overflow_y": null,
      "padding": null,
      "right": null,
      "top": null,
      "visibility": null,
      "width": null
     }
    },
    "b5d52d9fac524c91b5272293933a5c19": {
     "model_module": "@jupyter-widgets/controls",
     "model_module_version": "1.5.0",
     "model_name": "DescriptionStyleModel",
     "state": {
      "_model_module": "@jupyter-widgets/controls",
      "_model_module_version": "1.5.0",
      "_model_name": "DescriptionStyleModel",
      "_view_count": null,
      "_view_module": "@jupyter-widgets/base",
      "_view_module_version": "1.2.0",
      "_view_name": "StyleView",
      "description_width": ""
     }
    },
    "b633cc93c97143e2bc3681f14482df8c": {
     "model_module": "@jupyter-widgets/base",
     "model_module_version": "1.2.0",
     "model_name": "LayoutModel",
     "state": {
      "_model_module": "@jupyter-widgets/base",
      "_model_module_version": "1.2.0",
      "_model_name": "LayoutModel",
      "_view_count": null,
      "_view_module": "@jupyter-widgets/base",
      "_view_module_version": "1.2.0",
      "_view_name": "LayoutView",
      "align_content": null,
      "align_items": null,
      "align_self": null,
      "border": null,
      "bottom": null,
      "display": null,
      "flex": null,
      "flex_flow": null,
      "grid_area": null,
      "grid_auto_columns": null,
      "grid_auto_flow": null,
      "grid_auto_rows": null,
      "grid_column": null,
      "grid_gap": null,
      "grid_row": null,
      "grid_template_areas": null,
      "grid_template_columns": null,
      "grid_template_rows": null,
      "height": null,
      "justify_content": null,
      "justify_items": null,
      "left": null,
      "margin": null,
      "max_height": null,
      "max_width": null,
      "min_height": null,
      "min_width": null,
      "object_fit": null,
      "object_position": null,
      "order": null,
      "overflow": null,
      "overflow_x": null,
      "overflow_y": null,
      "padding": null,
      "right": null,
      "top": null,
      "visibility": null,
      "width": null
     }
    },
    "bf5e77f431424098b2d7f66c49993257": {
     "model_module": "@jupyter-widgets/controls",
     "model_module_version": "1.5.0",
     "model_name": "SliderStyleModel",
     "state": {
      "_model_module": "@jupyter-widgets/controls",
      "_model_module_version": "1.5.0",
      "_model_name": "SliderStyleModel",
      "_view_count": null,
      "_view_module": "@jupyter-widgets/base",
      "_view_module_version": "1.2.0",
      "_view_name": "StyleView",
      "description_width": "",
      "handle_color": null
     }
    },
    "c4c57a5ab8df4fcc927523f1974b93e4": {
     "model_module": "@jupyter-widgets/base",
     "model_module_version": "1.2.0",
     "model_name": "LayoutModel",
     "state": {
      "_model_module": "@jupyter-widgets/base",
      "_model_module_version": "1.2.0",
      "_model_name": "LayoutModel",
      "_view_count": null,
      "_view_module": "@jupyter-widgets/base",
      "_view_module_version": "1.2.0",
      "_view_name": "LayoutView",
      "align_content": null,
      "align_items": null,
      "align_self": null,
      "border": null,
      "bottom": null,
      "display": null,
      "flex": null,
      "flex_flow": null,
      "grid_area": null,
      "grid_auto_columns": null,
      "grid_auto_flow": null,
      "grid_auto_rows": null,
      "grid_column": null,
      "grid_gap": null,
      "grid_row": null,
      "grid_template_areas": null,
      "grid_template_columns": null,
      "grid_template_rows": null,
      "height": null,
      "justify_content": null,
      "justify_items": null,
      "left": null,
      "margin": null,
      "max_height": null,
      "max_width": null,
      "min_height": null,
      "min_width": null,
      "object_fit": null,
      "object_position": null,
      "order": null,
      "overflow": null,
      "overflow_x": null,
      "overflow_y": null,
      "padding": null,
      "right": null,
      "top": null,
      "visibility": null,
      "width": null
     }
    },
    "d0085ca6f27b41c789cf2f661a1e71a1": {
     "model_module": "@jupyter-widgets/base",
     "model_module_version": "1.2.0",
     "model_name": "LayoutModel",
     "state": {
      "_model_module": "@jupyter-widgets/base",
      "_model_module_version": "1.2.0",
      "_model_name": "LayoutModel",
      "_view_count": null,
      "_view_module": "@jupyter-widgets/base",
      "_view_module_version": "1.2.0",
      "_view_name": "LayoutView",
      "align_content": null,
      "align_items": null,
      "align_self": null,
      "border": null,
      "bottom": null,
      "display": null,
      "flex": null,
      "flex_flow": null,
      "grid_area": null,
      "grid_auto_columns": null,
      "grid_auto_flow": null,
      "grid_auto_rows": null,
      "grid_column": null,
      "grid_gap": null,
      "grid_row": null,
      "grid_template_areas": null,
      "grid_template_columns": null,
      "grid_template_rows": null,
      "height": null,
      "justify_content": null,
      "justify_items": null,
      "left": null,
      "margin": null,
      "max_height": null,
      "max_width": null,
      "min_height": null,
      "min_width": null,
      "object_fit": null,
      "object_position": null,
      "order": null,
      "overflow": null,
      "overflow_x": null,
      "overflow_y": null,
      "padding": null,
      "right": null,
      "top": null,
      "visibility": null,
      "width": null
     }
    },
    "d035e64465af4d6cac797ace4fc2a743": {
     "model_module": "@jupyter-widgets/controls",
     "model_module_version": "1.5.0",
     "model_name": "ProgressStyleModel",
     "state": {
      "_model_module": "@jupyter-widgets/controls",
      "_model_module_version": "1.5.0",
      "_model_name": "ProgressStyleModel",
      "_view_count": null,
      "_view_module": "@jupyter-widgets/base",
      "_view_module_version": "1.2.0",
      "_view_name": "StyleView",
      "bar_color": null,
      "description_width": ""
     }
    },
    "d3098a065c9c4ed68372e115838e687a": {
     "model_module": "@jupyter-widgets/base",
     "model_module_version": "1.2.0",
     "model_name": "LayoutModel",
     "state": {
      "_model_module": "@jupyter-widgets/base",
      "_model_module_version": "1.2.0",
      "_model_name": "LayoutModel",
      "_view_count": null,
      "_view_module": "@jupyter-widgets/base",
      "_view_module_version": "1.2.0",
      "_view_name": "LayoutView",
      "align_content": null,
      "align_items": null,
      "align_self": null,
      "border": null,
      "bottom": null,
      "display": null,
      "flex": null,
      "flex_flow": null,
      "grid_area": null,
      "grid_auto_columns": null,
      "grid_auto_flow": null,
      "grid_auto_rows": null,
      "grid_column": null,
      "grid_gap": null,
      "grid_row": null,
      "grid_template_areas": null,
      "grid_template_columns": null,
      "grid_template_rows": null,
      "height": null,
      "justify_content": null,
      "justify_items": null,
      "left": null,
      "margin": null,
      "max_height": null,
      "max_width": null,
      "min_height": null,
      "min_width": null,
      "object_fit": null,
      "object_position": null,
      "order": null,
      "overflow": null,
      "overflow_x": null,
      "overflow_y": null,
      "padding": null,
      "right": null,
      "top": null,
      "visibility": null,
      "width": null
     }
    },
    "de2da28277634e7e9cad4a30aaf78e47": {
     "model_module": "@jupyter-widgets/controls",
     "model_module_version": "1.5.0",
     "model_name": "ButtonModel",
     "state": {
      "_dom_classes": [],
      "_model_module": "@jupyter-widgets/controls",
      "_model_module_version": "1.5.0",
      "_model_name": "ButtonModel",
      "_view_count": null,
      "_view_module": "@jupyter-widgets/controls",
      "_view_module_version": "1.5.0",
      "_view_name": "ButtonView",
      "button_style": "",
      "description": "",
      "disabled": false,
      "icon": "compress",
      "layout": "IPY_MODEL_a0cf6b3f822c46268c3eb120618dcdce",
      "style": "IPY_MODEL_73e5abf2bc9d4434a450f60a8b749b30",
      "tooltip": ""
     }
    },
    "e090d681494843808ff145bd2be197f0": {
     "model_module": "@jupyter-widgets/base",
     "model_module_version": "1.2.0",
     "model_name": "LayoutModel",
     "state": {
      "_model_module": "@jupyter-widgets/base",
      "_model_module_version": "1.2.0",
      "_model_name": "LayoutModel",
      "_view_count": null,
      "_view_module": "@jupyter-widgets/base",
      "_view_module_version": "1.2.0",
      "_view_name": "LayoutView",
      "align_content": null,
      "align_items": null,
      "align_self": null,
      "border": null,
      "bottom": null,
      "display": null,
      "flex": null,
      "flex_flow": null,
      "grid_area": null,
      "grid_auto_columns": null,
      "grid_auto_flow": null,
      "grid_auto_rows": null,
      "grid_column": null,
      "grid_gap": null,
      "grid_row": null,
      "grid_template_areas": null,
      "grid_template_columns": null,
      "grid_template_rows": null,
      "height": null,
      "justify_content": null,
      "justify_items": null,
      "left": null,
      "margin": null,
      "max_height": null,
      "max_width": null,
      "min_height": null,
      "min_width": null,
      "object_fit": null,
      "object_position": null,
      "order": null,
      "overflow": null,
      "overflow_x": null,
      "overflow_y": null,
      "padding": null,
      "right": null,
      "top": null,
      "visibility": null,
      "width": null
     }
    },
    "e6ac99dee2894b76b2b0c4c39d722ccd": {
     "model_module": "@jupyter-widgets/controls",
     "model_module_version": "1.5.0",
     "model_name": "HBoxModel",
     "state": {
      "_dom_classes": [],
      "_model_module": "@jupyter-widgets/controls",
      "_model_module_version": "1.5.0",
      "_model_name": "HBoxModel",
      "_view_count": null,
      "_view_module": "@jupyter-widgets/controls",
      "_view_module_version": "1.5.0",
      "_view_name": "HBoxView",
      "box_style": "",
      "children": [
       "IPY_MODEL_42469695fb3648b4ac070934372a5e3e",
       "IPY_MODEL_0145ecec683a4a9b8c8ffc163cf3bd65"
      ],
      "layout": "IPY_MODEL_ece03433703641228b2ef0be0e36224c"
     }
    },
    "e7908a8f428a423e828749d0b98bc7a3": {
     "model_module": "@jupyter-widgets/base",
     "model_module_version": "1.2.0",
     "model_name": "LayoutModel",
     "state": {
      "_model_module": "@jupyter-widgets/base",
      "_model_module_version": "1.2.0",
      "_model_name": "LayoutModel",
      "_view_count": null,
      "_view_module": "@jupyter-widgets/base",
      "_view_module_version": "1.2.0",
      "_view_name": "LayoutView",
      "align_content": null,
      "align_items": null,
      "align_self": null,
      "border": null,
      "bottom": null,
      "display": null,
      "flex": null,
      "flex_flow": null,
      "grid_area": null,
      "grid_auto_columns": null,
      "grid_auto_flow": null,
      "grid_auto_rows": null,
      "grid_column": null,
      "grid_gap": null,
      "grid_row": null,
      "grid_template_areas": null,
      "grid_template_columns": null,
      "grid_template_rows": null,
      "height": null,
      "justify_content": null,
      "justify_items": null,
      "left": null,
      "margin": null,
      "max_height": null,
      "max_width": null,
      "min_height": null,
      "min_width": null,
      "object_fit": null,
      "object_position": null,
      "order": null,
      "overflow": null,
      "overflow_x": null,
      "overflow_y": null,
      "padding": null,
      "right": null,
      "top": null,
      "visibility": null,
      "width": null
     }
    },
    "ece03433703641228b2ef0be0e36224c": {
     "model_module": "@jupyter-widgets/base",
     "model_module_version": "1.2.0",
     "model_name": "LayoutModel",
     "state": {
      "_model_module": "@jupyter-widgets/base",
      "_model_module_version": "1.2.0",
      "_model_name": "LayoutModel",
      "_view_count": null,
      "_view_module": "@jupyter-widgets/base",
      "_view_module_version": "1.2.0",
      "_view_name": "LayoutView",
      "align_content": null,
      "align_items": null,
      "align_self": null,
      "border": null,
      "bottom": null,
      "display": null,
      "flex": null,
      "flex_flow": null,
      "grid_area": null,
      "grid_auto_columns": null,
      "grid_auto_flow": null,
      "grid_auto_rows": null,
      "grid_column": null,
      "grid_gap": null,
      "grid_row": null,
      "grid_template_areas": null,
      "grid_template_columns": null,
      "grid_template_rows": null,
      "height": null,
      "justify_content": null,
      "justify_items": null,
      "left": null,
      "margin": null,
      "max_height": null,
      "max_width": null,
      "min_height": null,
      "min_width": null,
      "object_fit": null,
      "object_position": null,
      "order": null,
      "overflow": null,
      "overflow_x": null,
      "overflow_y": null,
      "padding": null,
      "right": null,
      "top": null,
      "visibility": null,
      "width": null
     }
    },
    "f07d66a59b1a4a7fae81f7d17fa12194": {
     "model_module": "@jupyter-widgets/base",
     "model_module_version": "1.2.0",
     "model_name": "LayoutModel",
     "state": {
      "_model_module": "@jupyter-widgets/base",
      "_model_module_version": "1.2.0",
      "_model_name": "LayoutModel",
      "_view_count": null,
      "_view_module": "@jupyter-widgets/base",
      "_view_module_version": "1.2.0",
      "_view_name": "LayoutView",
      "align_content": null,
      "align_items": null,
      "align_self": null,
      "border": null,
      "bottom": null,
      "display": null,
      "flex": null,
      "flex_flow": null,
      "grid_area": null,
      "grid_auto_columns": null,
      "grid_auto_flow": null,
      "grid_auto_rows": null,
      "grid_column": null,
      "grid_gap": null,
      "grid_row": null,
      "grid_template_areas": null,
      "grid_template_columns": null,
      "grid_template_rows": null,
      "height": null,
      "justify_content": null,
      "justify_items": null,
      "left": null,
      "margin": null,
      "max_height": null,
      "max_width": null,
      "min_height": null,
      "min_width": null,
      "object_fit": null,
      "object_position": null,
      "order": null,
      "overflow": null,
      "overflow_x": null,
      "overflow_y": null,
      "padding": null,
      "right": null,
      "top": null,
      "visibility": null,
      "width": "34px"
     }
    },
    "f35bbe4ab75c49d19f172d41e65fe58a": {
     "model_module": "@jupyter-widgets/controls",
     "model_module_version": "1.5.0",
     "model_name": "FloatProgressModel",
     "state": {
      "_dom_classes": [],
      "_model_module": "@jupyter-widgets/controls",
      "_model_module_version": "1.5.0",
      "_model_name": "FloatProgressModel",
      "_view_count": null,
      "_view_module": "@jupyter-widgets/controls",
      "_view_module_version": "1.5.0",
      "_view_name": "ProgressView",
      "bar_style": "success",
      "description": "",
      "description_tooltip": null,
      "layout": "IPY_MODEL_e090d681494843808ff145bd2be197f0",
      "max": 1000,
      "min": 0,
      "orientation": "horizontal",
      "style": "IPY_MODEL_8e9f4f69016b45b79416b79eae1f02b6",
      "value": 1000
     }
    },
    "f70f324bd1ca4493a41ea0ed5e760e01": {
     "model_module": "@jupyter-widgets/controls",
     "model_module_version": "1.5.0",
     "model_name": "SliderStyleModel",
     "state": {
      "_model_module": "@jupyter-widgets/controls",
      "_model_module_version": "1.5.0",
      "_model_name": "SliderStyleModel",
      "_view_count": null,
      "_view_module": "@jupyter-widgets/base",
      "_view_module_version": "1.2.0",
      "_view_name": "StyleView",
      "description_width": "",
      "handle_color": null
     }
    },
    "f9ee09c0f0f0444589cee9880c63a317": {
     "model_module": "@jupyter-widgets/base",
     "model_module_version": "1.2.0",
     "model_name": "LayoutModel",
     "state": {
      "_model_module": "@jupyter-widgets/base",
      "_model_module_version": "1.2.0",
      "_model_name": "LayoutModel",
      "_view_count": null,
      "_view_module": "@jupyter-widgets/base",
      "_view_module_version": "1.2.0",
      "_view_name": "LayoutView",
      "align_content": null,
      "align_items": null,
      "align_self": null,
      "border": null,
      "bottom": null,
      "display": null,
      "flex": null,
      "flex_flow": null,
      "grid_area": null,
      "grid_auto_columns": null,
      "grid_auto_flow": null,
      "grid_auto_rows": null,
      "grid_column": null,
      "grid_gap": null,
      "grid_row": null,
      "grid_template_areas": null,
      "grid_template_columns": null,
      "grid_template_rows": null,
      "height": null,
      "justify_content": null,
      "justify_items": null,
      "left": null,
      "margin": null,
      "max_height": null,
      "max_width": null,
      "min_height": null,
      "min_width": null,
      "object_fit": null,
      "object_position": null,
      "order": null,
      "overflow": null,
      "overflow_x": null,
      "overflow_y": null,
      "padding": null,
      "right": null,
      "top": null,
      "visibility": null,
      "width": null
     }
    },
    "fbdbbd6f6c994cc18f3d565ffef2749b": {
     "model_module": "@jupyter-widgets/base",
     "model_module_version": "1.2.0",
     "model_name": "LayoutModel",
     "state": {
      "_model_module": "@jupyter-widgets/base",
      "_model_module_version": "1.2.0",
      "_model_name": "LayoutModel",
      "_view_count": null,
      "_view_module": "@jupyter-widgets/base",
      "_view_module_version": "1.2.0",
      "_view_name": "LayoutView",
      "align_content": null,
      "align_items": null,
      "align_self": null,
      "border": null,
      "bottom": null,
      "display": null,
      "flex": null,
      "flex_flow": null,
      "grid_area": null,
      "grid_auto_columns": null,
      "grid_auto_flow": null,
      "grid_auto_rows": null,
      "grid_column": null,
      "grid_gap": null,
      "grid_row": null,
      "grid_template_areas": null,
      "grid_template_columns": null,
      "grid_template_rows": null,
      "height": null,
      "justify_content": null,
      "justify_items": null,
      "left": null,
      "margin": null,
      "max_height": null,
      "max_width": null,
      "min_height": null,
      "min_width": null,
      "object_fit": null,
      "object_position": null,
      "order": null,
      "overflow": null,
      "overflow_x": null,
      "overflow_y": null,
      "padding": null,
      "right": null,
      "top": null,
      "visibility": null,
      "width": null
     }
    },
    "fe676ffd006248fcaa6846696a83b2be": {
     "model_module": "@jupyter-widgets/controls",
     "model_module_version": "1.5.0",
     "model_name": "HTMLModel",
     "state": {
      "_dom_classes": [],
      "_model_module": "@jupyter-widgets/controls",
      "_model_module_version": "1.5.0",
      "_model_name": "HTMLModel",
      "_view_count": null,
      "_view_module": "@jupyter-widgets/controls",
      "_view_module_version": "1.5.0",
      "_view_name": "HTMLView",
      "description": "",
      "description_tooltip": null,
      "layout": "IPY_MODEL_d0085ca6f27b41c789cf2f661a1e71a1",
      "placeholder": "​",
      "style": "IPY_MODEL_8744bb0f7f1c40758d98c27ea017eb1b",
      "value": " 20000/20000 [00:19&lt;00:00, 1137.28it/s]"
     }
    },
    "feff86c0fd374ea28783a76e578f7fde": {
     "model_module": "@jupyter-widgets/controls",
     "model_module_version": "1.5.0",
     "model_name": "ProgressStyleModel",
     "state": {
      "_model_module": "@jupyter-widgets/controls",
      "_model_module_version": "1.5.0",
      "_model_name": "ProgressStyleModel",
      "_view_count": null,
      "_view_module": "@jupyter-widgets/base",
      "_view_module_version": "1.2.0",
      "_view_name": "StyleView",
      "bar_color": null,
      "description_width": ""
     }
    }
   }
  }
 },
 "nbformat": 4,
 "nbformat_minor": 1
}
