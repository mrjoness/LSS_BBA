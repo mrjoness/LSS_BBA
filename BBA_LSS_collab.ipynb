{
  "cells": [
    {
      "cell_type": "markdown",
      "metadata": {
        "id": "view-in-github",
        "colab_type": "text"
      },
      "source": [
        "<a href=\"https://colab.research.google.com/github/mrjoness/LSS_BBA/blob/main/BBA_LSS_collab.ipynb\" target=\"_parent\"><img src=\"https://colab.research.google.com/assets/colab-badge.svg\" alt=\"Open In Colab\"/></a>"
      ]
    },
    {
      "cell_type": "markdown",
      "metadata": {
        "id": "vo3MpoRgxooK"
      },
      "source": [
        "# LSS applied to CA-backbone of BBA fast-folding protein\n"
      ]
    },
    {
      "cell_type": "code",
      "execution_count": 1,
      "metadata": {
        "id": "YXMnQ8QdxooL"
      },
      "outputs": [],
      "source": [
        "import torch"
      ]
    },
    {
      "cell_type": "code",
      "source": [
        "if torch.cuda.is_available():\n",
        "  print('GPU available')\n",
        "else:\n",
        "  print('Please set GPU via Edit -> Notebook Settings.')"
      ],
      "metadata": {
        "colab": {
          "base_uri": "https://localhost:8080/"
        },
        "id": "AlnTG9hKzQhz",
        "outputId": "13c13594-10c2-4c39-ed7e-fee9845ec8ea"
      },
      "execution_count": 2,
      "outputs": [
        {
          "output_type": "stream",
          "name": "stdout",
          "text": [
            "GPU available\n"
          ]
        }
      ]
    },
    {
      "cell_type": "code",
      "source": [
        "device= 'cuda' if torch.cuda.is_available() else 'cpu'\n",
        "device"
      ],
      "metadata": {
        "colab": {
          "base_uri": "https://localhost:8080/",
          "height": 36
        },
        "id": "AZYr4J42zedO",
        "outputId": "6b042775-e190-473f-9b90-fa86be55da7e"
      },
      "execution_count": 3,
      "outputs": [
        {
          "output_type": "execute_result",
          "data": {
            "text/plain": [
              "'cuda'"
            ],
            "application/vnd.google.colaboratory.intrinsic+json": {
              "type": "string"
            }
          },
          "metadata": {},
          "execution_count": 3
        }
      ]
    },
    {
      "cell_type": "markdown",
      "source": [
        "##Uploading files\n",
        "\n",
        "Navigate to collab_files directory and select all:\n",
        "\n",
        "(i) 1FME-0-c-alpha.pdb\n",
        "\n",
        "(ii) 1FME-0-c-alpha-00*_stride-50.dcd\n",
        "\n",
        "(iii) model_snrv-3.pth\n",
        "\n",
        "(iv) model_mdn-100.pth\n",
        "\n",
        "(v) model_ddpm-25.pth\n",
        "\n",
        "\n",
        "N.B. If file upload fails, try using alternate upload means by clicking on file icon in left menu and directly uploading to colab session storage or by uploading to and mounting Google Drive"
      ],
      "metadata": {
        "id": "v4sLC0mZzlJT"
      }
    },
    {
      "cell_type": "code",
      "source": [
        "# should take 6-7 minutes\n",
        "\n",
        "from google.colab import files\n",
        "files.upload()"
      ],
      "metadata": {
        "colab": {
          "base_uri": "https://localhost:8080/",
          "height": 524
        },
        "id": "wXYzQFy-zpCZ",
        "outputId": "c2c9a1a6-b2b2-45b2-e6e7-fe23d1c7f660"
      },
      "execution_count": 4,
      "outputs": [
        {
          "output_type": "display_data",
          "data": {
            "text/plain": [
              "<IPython.core.display.HTML object>"
            ],
            "text/html": [
              "\n",
              "     <input type=\"file\" id=\"files-15cff328-462c-40fe-b131-3e001b7b6d9a\" name=\"files[]\" multiple disabled\n",
              "        style=\"border:none\" />\n",
              "     <output id=\"result-15cff328-462c-40fe-b131-3e001b7b6d9a\">\n",
              "      Upload widget is only available when the cell has been executed in the\n",
              "      current browser session. Please rerun this cell to enable.\n",
              "      </output>\n",
              "      <script>// Copyright 2017 Google LLC\n",
              "//\n",
              "// Licensed under the Apache License, Version 2.0 (the \"License\");\n",
              "// you may not use this file except in compliance with the License.\n",
              "// You may obtain a copy of the License at\n",
              "//\n",
              "//      http://www.apache.org/licenses/LICENSE-2.0\n",
              "//\n",
              "// Unless required by applicable law or agreed to in writing, software\n",
              "// distributed under the License is distributed on an \"AS IS\" BASIS,\n",
              "// WITHOUT WARRANTIES OR CONDITIONS OF ANY KIND, either express or implied.\n",
              "// See the License for the specific language governing permissions and\n",
              "// limitations under the License.\n",
              "\n",
              "/**\n",
              " * @fileoverview Helpers for google.colab Python module.\n",
              " */\n",
              "(function(scope) {\n",
              "function span(text, styleAttributes = {}) {\n",
              "  const element = document.createElement('span');\n",
              "  element.textContent = text;\n",
              "  for (const key of Object.keys(styleAttributes)) {\n",
              "    element.style[key] = styleAttributes[key];\n",
              "  }\n",
              "  return element;\n",
              "}\n",
              "\n",
              "// Max number of bytes which will be uploaded at a time.\n",
              "const MAX_PAYLOAD_SIZE = 100 * 1024;\n",
              "\n",
              "function _uploadFiles(inputId, outputId) {\n",
              "  const steps = uploadFilesStep(inputId, outputId);\n",
              "  const outputElement = document.getElementById(outputId);\n",
              "  // Cache steps on the outputElement to make it available for the next call\n",
              "  // to uploadFilesContinue from Python.\n",
              "  outputElement.steps = steps;\n",
              "\n",
              "  return _uploadFilesContinue(outputId);\n",
              "}\n",
              "\n",
              "// This is roughly an async generator (not supported in the browser yet),\n",
              "// where there are multiple asynchronous steps and the Python side is going\n",
              "// to poll for completion of each step.\n",
              "// This uses a Promise to block the python side on completion of each step,\n",
              "// then passes the result of the previous step as the input to the next step.\n",
              "function _uploadFilesContinue(outputId) {\n",
              "  const outputElement = document.getElementById(outputId);\n",
              "  const steps = outputElement.steps;\n",
              "\n",
              "  const next = steps.next(outputElement.lastPromiseValue);\n",
              "  return Promise.resolve(next.value.promise).then((value) => {\n",
              "    // Cache the last promise value to make it available to the next\n",
              "    // step of the generator.\n",
              "    outputElement.lastPromiseValue = value;\n",
              "    return next.value.response;\n",
              "  });\n",
              "}\n",
              "\n",
              "/**\n",
              " * Generator function which is called between each async step of the upload\n",
              " * process.\n",
              " * @param {string} inputId Element ID of the input file picker element.\n",
              " * @param {string} outputId Element ID of the output display.\n",
              " * @return {!Iterable<!Object>} Iterable of next steps.\n",
              " */\n",
              "function* uploadFilesStep(inputId, outputId) {\n",
              "  const inputElement = document.getElementById(inputId);\n",
              "  inputElement.disabled = false;\n",
              "\n",
              "  const outputElement = document.getElementById(outputId);\n",
              "  outputElement.innerHTML = '';\n",
              "\n",
              "  const pickedPromise = new Promise((resolve) => {\n",
              "    inputElement.addEventListener('change', (e) => {\n",
              "      resolve(e.target.files);\n",
              "    });\n",
              "  });\n",
              "\n",
              "  const cancel = document.createElement('button');\n",
              "  inputElement.parentElement.appendChild(cancel);\n",
              "  cancel.textContent = 'Cancel upload';\n",
              "  const cancelPromise = new Promise((resolve) => {\n",
              "    cancel.onclick = () => {\n",
              "      resolve(null);\n",
              "    };\n",
              "  });\n",
              "\n",
              "  // Wait for the user to pick the files.\n",
              "  const files = yield {\n",
              "    promise: Promise.race([pickedPromise, cancelPromise]),\n",
              "    response: {\n",
              "      action: 'starting',\n",
              "    }\n",
              "  };\n",
              "\n",
              "  cancel.remove();\n",
              "\n",
              "  // Disable the input element since further picks are not allowed.\n",
              "  inputElement.disabled = true;\n",
              "\n",
              "  if (!files) {\n",
              "    return {\n",
              "      response: {\n",
              "        action: 'complete',\n",
              "      }\n",
              "    };\n",
              "  }\n",
              "\n",
              "  for (const file of files) {\n",
              "    const li = document.createElement('li');\n",
              "    li.append(span(file.name, {fontWeight: 'bold'}));\n",
              "    li.append(span(\n",
              "        `(${file.type || 'n/a'}) - ${file.size} bytes, ` +\n",
              "        `last modified: ${\n",
              "            file.lastModifiedDate ? file.lastModifiedDate.toLocaleDateString() :\n",
              "                                    'n/a'} - `));\n",
              "    const percent = span('0% done');\n",
              "    li.appendChild(percent);\n",
              "\n",
              "    outputElement.appendChild(li);\n",
              "\n",
              "    const fileDataPromise = new Promise((resolve) => {\n",
              "      const reader = new FileReader();\n",
              "      reader.onload = (e) => {\n",
              "        resolve(e.target.result);\n",
              "      };\n",
              "      reader.readAsArrayBuffer(file);\n",
              "    });\n",
              "    // Wait for the data to be ready.\n",
              "    let fileData = yield {\n",
              "      promise: fileDataPromise,\n",
              "      response: {\n",
              "        action: 'continue',\n",
              "      }\n",
              "    };\n",
              "\n",
              "    // Use a chunked sending to avoid message size limits. See b/62115660.\n",
              "    let position = 0;\n",
              "    do {\n",
              "      const length = Math.min(fileData.byteLength - position, MAX_PAYLOAD_SIZE);\n",
              "      const chunk = new Uint8Array(fileData, position, length);\n",
              "      position += length;\n",
              "\n",
              "      const base64 = btoa(String.fromCharCode.apply(null, chunk));\n",
              "      yield {\n",
              "        response: {\n",
              "          action: 'append',\n",
              "          file: file.name,\n",
              "          data: base64,\n",
              "        },\n",
              "      };\n",
              "\n",
              "      let percentDone = fileData.byteLength === 0 ?\n",
              "          100 :\n",
              "          Math.round((position / fileData.byteLength) * 100);\n",
              "      percent.textContent = `${percentDone}% done`;\n",
              "\n",
              "    } while (position < fileData.byteLength);\n",
              "  }\n",
              "\n",
              "  // All done.\n",
              "  yield {\n",
              "    response: {\n",
              "      action: 'complete',\n",
              "    }\n",
              "  };\n",
              "}\n",
              "\n",
              "scope.google = scope.google || {};\n",
              "scope.google.colab = scope.google.colab || {};\n",
              "scope.google.colab._files = {\n",
              "  _uploadFiles,\n",
              "  _uploadFilesContinue,\n",
              "};\n",
              "})(self);\n",
              "</script> "
            ]
          },
          "metadata": {}
        },
        {
          "output_type": "stream",
          "name": "stdout",
          "text": [
            "Saving 1FME-0-c-alpha.pdb to 1FME-0-c-alpha.pdb\n",
            "Saving 1FME-0-c-alpha-000_stride-50.dcd to 1FME-0-c-alpha-000_stride-50.dcd\n",
            "Saving 1FME-0-c-alpha-001_stride-50.dcd to 1FME-0-c-alpha-001_stride-50.dcd\n",
            "Saving 1FME-0-c-alpha-002_stride-50.dcd to 1FME-0-c-alpha-002_stride-50.dcd\n",
            "Saving 1FME-0-c-alpha-003_stride-50.dcd to 1FME-0-c-alpha-003_stride-50.dcd\n",
            "Saving 1FME-0-c-alpha-004_stride-50.dcd to 1FME-0-c-alpha-004_stride-50.dcd\n",
            "Saving 1FME-0-c-alpha-005_stride-50.dcd to 1FME-0-c-alpha-005_stride-50.dcd\n",
            "Saving 1FME-0-c-alpha-006_stride-50.dcd to 1FME-0-c-alpha-006_stride-50.dcd\n",
            "Saving 1FME-0-c-alpha-007_stride-50.dcd to 1FME-0-c-alpha-007_stride-50.dcd\n",
            "Saving 1FME-0-c-alpha-008_stride-50.dcd to 1FME-0-c-alpha-008_stride-50.dcd\n",
            "Saving 1FME-0-c-alpha-009_stride-50.dcd to 1FME-0-c-alpha-009_stride-50.dcd\n",
            "Saving model_ddpm-25.pth to model_ddpm-25.pth\n",
            "Saving model_mdn-100.pth to model_mdn-100.pth\n",
            "Saving model_snrv-3.pth to model_snrv-3.pth\n"
          ]
        }
      ]
    },
    {
      "cell_type": "code",
      "source": [
        "%pip install numpy scipy pandas scikit-learn jupyter ipywidgets==7.7.2 widgetsnbextension jupyter_contrib_nbextensions matplotlib MDTraj tqdm pytest pyemma deeptime einops torch torchvision pytorch-lightning nglview"
      ],
      "metadata": {
        "id": "01xBCJX0z_jG",
        "colab": {
          "base_uri": "https://localhost:8080/"
        },
        "outputId": "96ba6b2a-1ded-4e44-de08-fcb56703f079"
      },
      "execution_count": 18,
      "outputs": [
        {
          "output_type": "stream",
          "name": "stdout",
          "text": [
            "Requirement already satisfied: numpy in /usr/local/lib/python3.10/dist-packages (1.25.2)\n",
            "Requirement already satisfied: scipy in /usr/local/lib/python3.10/dist-packages (1.11.4)\n",
            "Requirement already satisfied: pandas in /usr/local/lib/python3.10/dist-packages (2.0.3)\n",
            "Requirement already satisfied: scikit-learn in /usr/local/lib/python3.10/dist-packages (1.2.2)\n",
            "Requirement already satisfied: jupyter in /usr/local/lib/python3.10/dist-packages (1.0.0)\n",
            "Requirement already satisfied: ipywidgets==7.7.2 in /usr/local/lib/python3.10/dist-packages (7.7.2)\n",
            "Requirement already satisfied: widgetsnbextension in /usr/local/lib/python3.10/dist-packages (3.6.6)\n",
            "Requirement already satisfied: jupyter_contrib_nbextensions in /usr/local/lib/python3.10/dist-packages (0.7.0)\n",
            "Requirement already satisfied: matplotlib in /usr/local/lib/python3.10/dist-packages (3.7.1)\n",
            "Requirement already satisfied: MDTraj in /usr/local/lib/python3.10/dist-packages (1.10.0)\n",
            "Requirement already satisfied: tqdm in /usr/local/lib/python3.10/dist-packages (4.66.4)\n",
            "Requirement already satisfied: pytest in /usr/local/lib/python3.10/dist-packages (7.4.4)\n",
            "Requirement already satisfied: pyemma in /usr/local/lib/python3.10/dist-packages (2.5.12)\n",
            "Requirement already satisfied: deeptime in /usr/local/lib/python3.10/dist-packages (0.4.4)\n",
            "Requirement already satisfied: einops in /usr/local/lib/python3.10/dist-packages (0.8.0)\n",
            "Requirement already satisfied: torch in /usr/local/lib/python3.10/dist-packages (2.3.0+cu121)\n",
            "Requirement already satisfied: torchvision in /usr/local/lib/python3.10/dist-packages (0.18.0+cu121)\n",
            "Requirement already satisfied: pytorch-lightning in /usr/local/lib/python3.10/dist-packages (2.2.5)\n",
            "Requirement already satisfied: nglview in /usr/local/lib/python3.10/dist-packages (3.0.8)\n",
            "Requirement already satisfied: ipykernel>=4.5.1 in /usr/local/lib/python3.10/dist-packages (from ipywidgets==7.7.2) (5.5.6)\n",
            "Requirement already satisfied: ipython-genutils~=0.2.0 in /usr/local/lib/python3.10/dist-packages (from ipywidgets==7.7.2) (0.2.0)\n",
            "Requirement already satisfied: traitlets>=4.3.1 in /usr/local/lib/python3.10/dist-packages (from ipywidgets==7.7.2) (5.7.1)\n",
            "Requirement already satisfied: ipython>=4.0.0 in /usr/local/lib/python3.10/dist-packages (from ipywidgets==7.7.2) (7.34.0)\n",
            "Requirement already satisfied: jupyterlab-widgets<3,>=1.0.0 in /usr/local/lib/python3.10/dist-packages (from ipywidgets==7.7.2) (1.1.7)\n",
            "Requirement already satisfied: python-dateutil>=2.8.2 in /usr/local/lib/python3.10/dist-packages (from pandas) (2.8.2)\n",
            "Requirement already satisfied: pytz>=2020.1 in /usr/local/lib/python3.10/dist-packages (from pandas) (2023.4)\n",
            "Requirement already satisfied: tzdata>=2022.1 in /usr/local/lib/python3.10/dist-packages (from pandas) (2024.1)\n",
            "Requirement already satisfied: joblib>=1.1.1 in /usr/local/lib/python3.10/dist-packages (from scikit-learn) (1.4.2)\n",
            "Requirement already satisfied: threadpoolctl>=2.0.0 in /usr/local/lib/python3.10/dist-packages (from scikit-learn) (3.5.0)\n",
            "Requirement already satisfied: notebook in /usr/local/lib/python3.10/dist-packages (from jupyter) (6.5.5)\n",
            "Requirement already satisfied: qtconsole in /usr/local/lib/python3.10/dist-packages (from jupyter) (5.5.2)\n",
            "Requirement already satisfied: jupyter-console in /usr/local/lib/python3.10/dist-packages (from jupyter) (6.1.0)\n",
            "Requirement already satisfied: nbconvert in /usr/local/lib/python3.10/dist-packages (from jupyter) (6.5.4)\n",
            "Requirement already satisfied: jupyter-contrib-core>=0.3.3 in /usr/local/lib/python3.10/dist-packages (from jupyter_contrib_nbextensions) (0.4.2)\n",
            "Requirement already satisfied: jupyter-core in /usr/local/lib/python3.10/dist-packages (from jupyter_contrib_nbextensions) (5.7.2)\n",
            "Requirement already satisfied: jupyter-highlight-selected-word>=0.1.1 in /usr/local/lib/python3.10/dist-packages (from jupyter_contrib_nbextensions) (0.2.0)\n",
            "Requirement already satisfied: jupyter-nbextensions-configurator>=0.4.0 in /usr/local/lib/python3.10/dist-packages (from jupyter_contrib_nbextensions) (0.6.4)\n",
            "Requirement already satisfied: tornado in /usr/local/lib/python3.10/dist-packages (from jupyter_contrib_nbextensions) (6.3.3)\n",
            "Requirement already satisfied: lxml in /usr/local/lib/python3.10/dist-packages (from jupyter_contrib_nbextensions) (4.9.4)\n",
            "Requirement already satisfied: contourpy>=1.0.1 in /usr/local/lib/python3.10/dist-packages (from matplotlib) (1.2.1)\n",
            "Requirement already satisfied: cycler>=0.10 in /usr/local/lib/python3.10/dist-packages (from matplotlib) (0.12.1)\n",
            "Requirement already satisfied: fonttools>=4.22.0 in /usr/local/lib/python3.10/dist-packages (from matplotlib) (4.53.0)\n",
            "Requirement already satisfied: kiwisolver>=1.0.1 in /usr/local/lib/python3.10/dist-packages (from matplotlib) (1.4.5)\n",
            "Requirement already satisfied: packaging>=20.0 in /usr/local/lib/python3.10/dist-packages (from matplotlib) (24.0)\n",
            "Requirement already satisfied: pillow>=6.2.0 in /usr/local/lib/python3.10/dist-packages (from matplotlib) (9.4.0)\n",
            "Requirement already satisfied: pyparsing>=2.3.1 in /usr/local/lib/python3.10/dist-packages (from matplotlib) (3.1.2)\n",
            "Requirement already satisfied: astunparse in /usr/local/lib/python3.10/dist-packages (from MDTraj) (1.6.3)\n",
            "Requirement already satisfied: iniconfig in /usr/local/lib/python3.10/dist-packages (from pytest) (2.0.0)\n",
            "Requirement already satisfied: pluggy<2.0,>=0.12 in /usr/local/lib/python3.10/dist-packages (from pytest) (1.5.0)\n",
            "Requirement already satisfied: exceptiongroup>=1.0.0rc8 in /usr/local/lib/python3.10/dist-packages (from pytest) (1.2.1)\n",
            "Requirement already satisfied: tomli>=1.0.0 in /usr/local/lib/python3.10/dist-packages (from pytest) (2.0.1)\n",
            "Requirement already satisfied: decorator>=4.0.0 in /usr/local/lib/python3.10/dist-packages (from pyemma) (4.4.2)\n",
            "Requirement already satisfied: h5py>=2.7.1 in /usr/local/lib/python3.10/dist-packages (from pyemma) (3.9.0)\n",
            "Requirement already satisfied: pathos in /usr/local/lib/python3.10/dist-packages (from pyemma) (0.3.2)\n",
            "Requirement already satisfied: psutil>=3.1.1 in /usr/local/lib/python3.10/dist-packages (from pyemma) (5.9.5)\n",
            "Requirement already satisfied: pyyaml in /usr/local/lib/python3.10/dist-packages (from pyemma) (6.0.1)\n",
            "Requirement already satisfied: filelock in /usr/local/lib/python3.10/dist-packages (from torch) (3.14.0)\n",
            "Requirement already satisfied: typing-extensions>=4.8.0 in /usr/local/lib/python3.10/dist-packages (from torch) (4.12.1)\n",
            "Requirement already satisfied: sympy in /usr/local/lib/python3.10/dist-packages (from torch) (1.12.1)\n",
            "Requirement already satisfied: networkx in /usr/local/lib/python3.10/dist-packages (from torch) (3.3)\n",
            "Requirement already satisfied: jinja2 in /usr/local/lib/python3.10/dist-packages (from torch) (3.1.4)\n",
            "Requirement already satisfied: fsspec in /usr/local/lib/python3.10/dist-packages (from torch) (2023.6.0)\n",
            "Requirement already satisfied: nvidia-cuda-nvrtc-cu12==12.1.105 in /usr/local/lib/python3.10/dist-packages (from torch) (12.1.105)\n",
            "Requirement already satisfied: nvidia-cuda-runtime-cu12==12.1.105 in /usr/local/lib/python3.10/dist-packages (from torch) (12.1.105)\n",
            "Requirement already satisfied: nvidia-cuda-cupti-cu12==12.1.105 in /usr/local/lib/python3.10/dist-packages (from torch) (12.1.105)\n",
            "Requirement already satisfied: nvidia-cudnn-cu12==8.9.2.26 in /usr/local/lib/python3.10/dist-packages (from torch) (8.9.2.26)\n",
            "Requirement already satisfied: nvidia-cublas-cu12==12.1.3.1 in /usr/local/lib/python3.10/dist-packages (from torch) (12.1.3.1)\n",
            "Requirement already satisfied: nvidia-cufft-cu12==11.0.2.54 in /usr/local/lib/python3.10/dist-packages (from torch) (11.0.2.54)\n",
            "Requirement already satisfied: nvidia-curand-cu12==10.3.2.106 in /usr/local/lib/python3.10/dist-packages (from torch) (10.3.2.106)\n",
            "Requirement already satisfied: nvidia-cusolver-cu12==11.4.5.107 in /usr/local/lib/python3.10/dist-packages (from torch) (11.4.5.107)\n",
            "Requirement already satisfied: nvidia-cusparse-cu12==12.1.0.106 in /usr/local/lib/python3.10/dist-packages (from torch) (12.1.0.106)\n",
            "Requirement already satisfied: nvidia-nccl-cu12==2.20.5 in /usr/local/lib/python3.10/dist-packages (from torch) (2.20.5)\n",
            "Requirement already satisfied: nvidia-nvtx-cu12==12.1.105 in /usr/local/lib/python3.10/dist-packages (from torch) (12.1.105)\n",
            "Requirement already satisfied: triton==2.3.0 in /usr/local/lib/python3.10/dist-packages (from torch) (2.3.0)\n",
            "Requirement already satisfied: nvidia-nvjitlink-cu12 in /usr/local/lib/python3.10/dist-packages (from nvidia-cusolver-cu12==11.4.5.107->torch) (12.5.40)\n",
            "Requirement already satisfied: torchmetrics>=0.7.0 in /usr/local/lib/python3.10/dist-packages (from pytorch-lightning) (1.4.0.post0)\n",
            "Requirement already satisfied: lightning-utilities>=0.8.0 in /usr/local/lib/python3.10/dist-packages (from pytorch-lightning) (0.11.2)\n",
            "Requirement already satisfied: requests in /usr/local/lib/python3.10/dist-packages (from fsspec->torch) (2.31.0)\n",
            "Requirement already satisfied: aiohttp!=4.0.0a0,!=4.0.0a1 in /usr/local/lib/python3.10/dist-packages (from fsspec->torch) (3.9.5)\n",
            "Requirement already satisfied: jupyter-client in /usr/local/lib/python3.10/dist-packages (from ipykernel>=4.5.1->ipywidgets==7.7.2) (6.1.12)\n",
            "Requirement already satisfied: setuptools>=18.5 in /usr/local/lib/python3.10/dist-packages (from ipython>=4.0.0->ipywidgets==7.7.2) (67.7.2)\n",
            "Requirement already satisfied: jedi>=0.16 in /usr/local/lib/python3.10/dist-packages (from ipython>=4.0.0->ipywidgets==7.7.2) (0.19.1)\n",
            "Requirement already satisfied: pickleshare in /usr/local/lib/python3.10/dist-packages (from ipython>=4.0.0->ipywidgets==7.7.2) (0.7.5)\n",
            "Requirement already satisfied: prompt-toolkit!=3.0.0,!=3.0.1,<3.1.0,>=2.0.0 in /usr/local/lib/python3.10/dist-packages (from ipython>=4.0.0->ipywidgets==7.7.2) (3.0.45)\n",
            "Requirement already satisfied: pygments in /usr/local/lib/python3.10/dist-packages (from ipython>=4.0.0->ipywidgets==7.7.2) (2.16.1)\n",
            "Requirement already satisfied: backcall in /usr/local/lib/python3.10/dist-packages (from ipython>=4.0.0->ipywidgets==7.7.2) (0.2.0)\n",
            "Requirement already satisfied: matplotlib-inline in /usr/local/lib/python3.10/dist-packages (from ipython>=4.0.0->ipywidgets==7.7.2) (0.1.7)\n",
            "Requirement already satisfied: pexpect>4.3 in /usr/local/lib/python3.10/dist-packages (from ipython>=4.0.0->ipywidgets==7.7.2) (4.9.0)\n",
            "Requirement already satisfied: jupyter-server in /usr/local/lib/python3.10/dist-packages (from jupyter-nbextensions-configurator>=0.4.0->jupyter_contrib_nbextensions) (1.24.0)\n",
            "Requirement already satisfied: beautifulsoup4 in /usr/local/lib/python3.10/dist-packages (from nbconvert->jupyter) (4.12.3)\n",
            "Requirement already satisfied: bleach in /usr/local/lib/python3.10/dist-packages (from nbconvert->jupyter) (6.1.0)\n",
            "Requirement already satisfied: defusedxml in /usr/local/lib/python3.10/dist-packages (from nbconvert->jupyter) (0.7.1)\n",
            "Requirement already satisfied: entrypoints>=0.2.2 in /usr/local/lib/python3.10/dist-packages (from nbconvert->jupyter) (0.4)\n",
            "Requirement already satisfied: jupyterlab-pygments in /usr/local/lib/python3.10/dist-packages (from nbconvert->jupyter) (0.3.0)\n",
            "Requirement already satisfied: MarkupSafe>=2.0 in /usr/local/lib/python3.10/dist-packages (from nbconvert->jupyter) (2.1.5)\n",
            "Requirement already satisfied: mistune<2,>=0.8.1 in /usr/local/lib/python3.10/dist-packages (from nbconvert->jupyter) (0.8.4)\n",
            "Requirement already satisfied: nbclient>=0.5.0 in /usr/local/lib/python3.10/dist-packages (from nbconvert->jupyter) (0.10.0)\n",
            "Requirement already satisfied: nbformat>=5.1 in /usr/local/lib/python3.10/dist-packages (from nbconvert->jupyter) (5.10.4)\n",
            "Requirement already satisfied: pandocfilters>=1.4.1 in /usr/local/lib/python3.10/dist-packages (from nbconvert->jupyter) (1.5.1)\n",
            "Requirement already satisfied: tinycss2 in /usr/local/lib/python3.10/dist-packages (from nbconvert->jupyter) (1.3.0)\n",
            "Requirement already satisfied: platformdirs>=2.5 in /usr/local/lib/python3.10/dist-packages (from jupyter-core->jupyter_contrib_nbextensions) (4.2.2)\n",
            "Requirement already satisfied: pyzmq<25,>=17 in /usr/local/lib/python3.10/dist-packages (from notebook->jupyter) (24.0.1)\n",
            "Requirement already satisfied: argon2-cffi in /usr/local/lib/python3.10/dist-packages (from notebook->jupyter) (23.1.0)\n",
            "Requirement already satisfied: nest-asyncio>=1.5 in /usr/local/lib/python3.10/dist-packages (from notebook->jupyter) (1.6.0)\n",
            "Requirement already satisfied: Send2Trash>=1.8.0 in /usr/local/lib/python3.10/dist-packages (from notebook->jupyter) (1.8.3)\n",
            "Requirement already satisfied: terminado>=0.8.3 in /usr/local/lib/python3.10/dist-packages (from notebook->jupyter) (0.18.1)\n",
            "Requirement already satisfied: prometheus-client in /usr/local/lib/python3.10/dist-packages (from notebook->jupyter) (0.20.0)\n",
            "Requirement already satisfied: nbclassic>=0.4.7 in /usr/local/lib/python3.10/dist-packages (from notebook->jupyter) (1.1.0)\n",
            "Requirement already satisfied: six>=1.5 in /usr/local/lib/python3.10/dist-packages (from python-dateutil>=2.8.2->pandas) (1.16.0)\n",
            "Requirement already satisfied: wheel<1.0,>=0.23.0 in /usr/local/lib/python3.10/dist-packages (from astunparse->MDTraj) (0.43.0)\n",
            "Requirement already satisfied: ppft>=1.7.6.8 in /usr/local/lib/python3.10/dist-packages (from pathos->pyemma) (1.7.6.8)\n",
            "Requirement already satisfied: dill>=0.3.8 in /usr/local/lib/python3.10/dist-packages (from pathos->pyemma) (0.3.8)\n",
            "Requirement already satisfied: pox>=0.3.4 in /usr/local/lib/python3.10/dist-packages (from pathos->pyemma) (0.3.4)\n",
            "Requirement already satisfied: multiprocess>=0.70.16 in /usr/local/lib/python3.10/dist-packages (from pathos->pyemma) (0.70.16)\n",
            "Requirement already satisfied: qtpy>=2.4.0 in /usr/local/lib/python3.10/dist-packages (from qtconsole->jupyter) (2.4.1)\n",
            "Requirement already satisfied: mpmath<1.4.0,>=1.1.0 in /usr/local/lib/python3.10/dist-packages (from sympy->torch) (1.3.0)\n",
            "Requirement already satisfied: aiosignal>=1.1.2 in /usr/local/lib/python3.10/dist-packages (from aiohttp!=4.0.0a0,!=4.0.0a1->fsspec->torch) (1.3.1)\n",
            "Requirement already satisfied: attrs>=17.3.0 in /usr/local/lib/python3.10/dist-packages (from aiohttp!=4.0.0a0,!=4.0.0a1->fsspec->torch) (23.2.0)\n",
            "Requirement already satisfied: frozenlist>=1.1.1 in /usr/local/lib/python3.10/dist-packages (from aiohttp!=4.0.0a0,!=4.0.0a1->fsspec->torch) (1.4.1)\n",
            "Requirement already satisfied: multidict<7.0,>=4.5 in /usr/local/lib/python3.10/dist-packages (from aiohttp!=4.0.0a0,!=4.0.0a1->fsspec->torch) (6.0.5)\n",
            "Requirement already satisfied: yarl<2.0,>=1.0 in /usr/local/lib/python3.10/dist-packages (from aiohttp!=4.0.0a0,!=4.0.0a1->fsspec->torch) (1.9.4)\n",
            "Requirement already satisfied: async-timeout<5.0,>=4.0 in /usr/local/lib/python3.10/dist-packages (from aiohttp!=4.0.0a0,!=4.0.0a1->fsspec->torch) (4.0.3)\n",
            "Requirement already satisfied: parso<0.9.0,>=0.8.3 in /usr/local/lib/python3.10/dist-packages (from jedi>=0.16->ipython>=4.0.0->ipywidgets==7.7.2) (0.8.4)\n",
            "Requirement already satisfied: notebook-shim>=0.2.3 in /usr/local/lib/python3.10/dist-packages (from nbclassic>=0.4.7->notebook->jupyter) (0.2.4)\n",
            "Requirement already satisfied: fastjsonschema>=2.15 in /usr/local/lib/python3.10/dist-packages (from nbformat>=5.1->nbconvert->jupyter) (2.19.1)\n",
            "Requirement already satisfied: jsonschema>=2.6 in /usr/local/lib/python3.10/dist-packages (from nbformat>=5.1->nbconvert->jupyter) (4.19.2)\n",
            "Requirement already satisfied: ptyprocess>=0.5 in /usr/local/lib/python3.10/dist-packages (from pexpect>4.3->ipython>=4.0.0->ipywidgets==7.7.2) (0.7.0)\n",
            "Requirement already satisfied: wcwidth in /usr/local/lib/python3.10/dist-packages (from prompt-toolkit!=3.0.0,!=3.0.1,<3.1.0,>=2.0.0->ipython>=4.0.0->ipywidgets==7.7.2) (0.2.13)\n",
            "Requirement already satisfied: argon2-cffi-bindings in /usr/local/lib/python3.10/dist-packages (from argon2-cffi->notebook->jupyter) (21.2.0)\n",
            "Requirement already satisfied: soupsieve>1.2 in /usr/local/lib/python3.10/dist-packages (from beautifulsoup4->nbconvert->jupyter) (2.5)\n",
            "Requirement already satisfied: webencodings in /usr/local/lib/python3.10/dist-packages (from bleach->nbconvert->jupyter) (0.5.1)\n",
            "Requirement already satisfied: anyio<4,>=3.1.0 in /usr/local/lib/python3.10/dist-packages (from jupyter-server->jupyter-nbextensions-configurator>=0.4.0->jupyter_contrib_nbextensions) (3.7.1)\n",
            "Requirement already satisfied: websocket-client in /usr/local/lib/python3.10/dist-packages (from jupyter-server->jupyter-nbextensions-configurator>=0.4.0->jupyter_contrib_nbextensions) (1.8.0)\n",
            "Requirement already satisfied: charset-normalizer<4,>=2 in /usr/local/lib/python3.10/dist-packages (from requests->fsspec->torch) (3.3.2)\n",
            "Requirement already satisfied: idna<4,>=2.5 in /usr/local/lib/python3.10/dist-packages (from requests->fsspec->torch) (3.7)\n",
            "Requirement already satisfied: urllib3<3,>=1.21.1 in /usr/local/lib/python3.10/dist-packages (from requests->fsspec->torch) (2.0.7)\n",
            "Requirement already satisfied: certifi>=2017.4.17 in /usr/local/lib/python3.10/dist-packages (from requests->fsspec->torch) (2024.6.2)\n",
            "Requirement already satisfied: sniffio>=1.1 in /usr/local/lib/python3.10/dist-packages (from anyio<4,>=3.1.0->jupyter-server->jupyter-nbextensions-configurator>=0.4.0->jupyter_contrib_nbextensions) (1.3.1)\n",
            "Requirement already satisfied: jsonschema-specifications>=2023.03.6 in /usr/local/lib/python3.10/dist-packages (from jsonschema>=2.6->nbformat>=5.1->nbconvert->jupyter) (2023.12.1)\n",
            "Requirement already satisfied: referencing>=0.28.4 in /usr/local/lib/python3.10/dist-packages (from jsonschema>=2.6->nbformat>=5.1->nbconvert->jupyter) (0.35.1)\n",
            "Requirement already satisfied: rpds-py>=0.7.1 in /usr/local/lib/python3.10/dist-packages (from jsonschema>=2.6->nbformat>=5.1->nbconvert->jupyter) (0.18.1)\n",
            "Requirement already satisfied: cffi>=1.0.1 in /usr/local/lib/python3.10/dist-packages (from argon2-cffi-bindings->argon2-cffi->notebook->jupyter) (1.16.0)\n",
            "Requirement already satisfied: pycparser in /usr/local/lib/python3.10/dist-packages (from cffi>=1.0.1->argon2-cffi-bindings->argon2-cffi->notebook->jupyter) (2.22)\n"
          ]
        }
      ]
    },
    {
      "cell_type": "code",
      "source": [
        "# enable jupyter extensions\n",
        "\n",
        "!jupyter nbextension enable --py --sys-prefix widgetsnbextension\n",
        "!jupyter nbextension enable nglview --py --sys-prefix\n",
        "!nglview enable"
      ],
      "metadata": {
        "colab": {
          "base_uri": "https://localhost:8080/"
        },
        "id": "Y3nhPJBV16mu",
        "outputId": "a27e945e-525d-43d4-ebae-9f34971818fa"
      },
      "execution_count": 19,
      "outputs": [
        {
          "output_type": "stream",
          "name": "stdout",
          "text": [
            "Enabling notebook extension jupyter-js-widgets/extension...\n",
            "Paths used for configuration of notebook: \n",
            "    \t/usr/etc/jupyter/nbconfig/notebook.json\n",
            "Paths used for configuration of notebook: \n",
            "    \t\n",
            "      - Validating: \u001b[32mOK\u001b[0m\n",
            "Paths used for configuration of notebook: \n",
            "    \t/usr/etc/jupyter/nbconfig/notebook.json\n",
            "Enabling notebook extension nglview-js-widgets/extension...\n",
            "Paths used for configuration of notebook: \n",
            "    \t/usr/etc/jupyter/nbconfig/notebook.json\n",
            "Paths used for configuration of notebook: \n",
            "    \t\n",
            "      - Validating: \u001b[32mOK\u001b[0m\n",
            "Paths used for configuration of notebook: \n",
            "    \t/usr/etc/jupyter/nbconfig/notebook.json\n",
            "Enabling notebook extension nglview-js-widgets/extension...\n",
            "Paths used for configuration of notebook: \n",
            "    \t/usr/etc/jupyter/nbconfig/notebook.json\n",
            "Paths used for configuration of notebook: \n",
            "    \t\n",
            "      - Validating: \u001b[32mOK\u001b[0m\n",
            "Paths used for configuration of notebook: \n",
            "    \t/usr/etc/jupyter/nbconfig/notebook.json\n"
          ]
        }
      ]
    },
    {
      "cell_type": "code",
      "source": [
        "# install each LSS component\n",
        "\n",
        "%pip install git+https://github.com/andrewlferguson/snrv.git\n",
        "%pip install git+https://github.com/Ferg-Lab/mdn_propagator.git\n",
        "%pip install git+https://github.com/Ferg-Lab/molgen.git"
      ],
      "metadata": {
        "colab": {
          "base_uri": "https://localhost:8080/"
        },
        "id": "gMKPecG12DIn",
        "outputId": "f3deb779-b8ae-4ebe-8263-d6fd6bc07163"
      },
      "execution_count": 20,
      "outputs": [
        {
          "output_type": "stream",
          "name": "stdout",
          "text": [
            "Collecting git+https://github.com/andrewlferguson/snrv.git\n",
            "  Cloning https://github.com/andrewlferguson/snrv.git to /tmp/pip-req-build-mplqqlfd\n",
            "  Running command git clone --filter=blob:none --quiet https://github.com/andrewlferguson/snrv.git /tmp/pip-req-build-mplqqlfd\n",
            "  Resolved https://github.com/andrewlferguson/snrv.git to commit 63aeebc2f0253bec9f5e0ab03615c107256bf34f\n",
            "  Preparing metadata (setup.py) ... \u001b[?25l\u001b[?25hdone\n",
            "Collecting git+https://github.com/Ferg-Lab/mdn_propagator.git\n",
            "  Cloning https://github.com/Ferg-Lab/mdn_propagator.git to /tmp/pip-req-build-oz_u5jnb\n",
            "  Running command git clone --filter=blob:none --quiet https://github.com/Ferg-Lab/mdn_propagator.git /tmp/pip-req-build-oz_u5jnb\n",
            "  Resolved https://github.com/Ferg-Lab/mdn_propagator.git to commit ad8fd32faf84908b2c4f58bf7e16195a7c4f29e8\n",
            "  Installing build dependencies ... \u001b[?25l\u001b[?25hdone\n",
            "  Getting requirements to build wheel ... \u001b[?25l\u001b[?25hdone\n",
            "  Installing backend dependencies ... \u001b[?25l\u001b[?25hdone\n",
            "  Preparing metadata (pyproject.toml) ... \u001b[?25l\u001b[?25hdone\n",
            "Collecting git+https://github.com/Ferg-Lab/molgen.git\n",
            "  Cloning https://github.com/Ferg-Lab/molgen.git to /tmp/pip-req-build-q2vl1qk6\n",
            "  Running command git clone --filter=blob:none --quiet https://github.com/Ferg-Lab/molgen.git /tmp/pip-req-build-q2vl1qk6\n",
            "  Resolved https://github.com/Ferg-Lab/molgen.git to commit 533a1ccbcd5d59d5beea36d26a68ff4e6c28816c\n",
            "  Installing build dependencies ... \u001b[?25l\u001b[?25hdone\n",
            "  Getting requirements to build wheel ... \u001b[?25l\u001b[?25hdone\n",
            "  Installing backend dependencies ... \u001b[?25l\u001b[?25hdone\n",
            "  Preparing metadata (pyproject.toml) ... \u001b[?25l\u001b[?25hdone\n"
          ]
        }
      ]
    },
    {
      "cell_type": "markdown",
      "source": [
        "Load the different components from their respective repos"
      ],
      "metadata": {
        "id": "59s4FKiV_Rf-"
      }
    },
    {
      "cell_type": "code",
      "source": [
        "from mdn_propagator.propagator import Propagator\n",
        "from molgen.models import DDPM\n",
        "from snrv import Snrv\n",
        "from snrv.utils import set_random_seed"
      ],
      "metadata": {
        "id": "52nvQrpUzKaa"
      },
      "execution_count": 21,
      "outputs": []
    },
    {
      "cell_type": "markdown",
      "source": [],
      "metadata": {
        "id": "_9OJrpR2zkjy"
      }
    },
    {
      "cell_type": "code",
      "source": [
        "import mdtraj as md\n",
        "from pathlib import Path\n",
        "import torch\n",
        "import matplotlib.pyplot as plt\n",
        "import numpy as np\n",
        "import glob\n",
        "import nglview as nv\n",
        "\n",
        "import seaborn as sns\n",
        "from scipy.stats import pearsonr"
      ],
      "metadata": {
        "id": "UkKe4_6d_evK"
      },
      "execution_count": null,
      "outputs": []
    },
    {
      "cell_type": "markdown",
      "source": [
        "Upload all files in the \"collab_files\" directory"
      ],
      "metadata": {
        "id": "y0r4U0yD_vUk"
      }
    },
    {
      "cell_type": "code",
      "source": [
        "from google.colab import output\n",
        "output.enable_custom_widget_manager()"
      ],
      "metadata": {
        "id": "hDpd8OBa_4SK"
      },
      "execution_count": null,
      "outputs": []
    },
    {
      "cell_type": "markdown",
      "metadata": {
        "id": "7KFh6EoWxooM"
      },
      "source": [
        "# Load 10 DESRES trajectories\n",
        "\n",
        "These are stride 50x compared to what was used for training, but the original trajs are also included in the GitHub."
      ]
    },
    {
      "cell_type": "code",
      "source": [],
      "metadata": {
        "id": "kx1L_UiD_tog"
      },
      "execution_count": null,
      "outputs": []
    },
    {
      "cell_type": "code",
      "execution_count": null,
      "metadata": {
        "id": "HlDEA2NPxooM"
      },
      "outputs": [],
      "source": [
        "# only load one dcd to save time\n",
        "\n",
        "#load_path = '/project/andrewferguson/DESRES/DESRES-Trajectory_1FME-0-c-alpha/1FME-0-c-alpha'\n",
        "load_path = './'\n",
        "\n",
        "trj_fnames = sorted(glob.glob(f'{load_path}/1FME-0-c-alpha-00*_stride-50.dcd'))\n",
        "top_fname = f'{load_path}/1FME-0-c-alpha.pdb'\n",
        "save_freq = 200 # ps\n",
        "\n",
        "print(trj_fnames)"
      ]
    },
    {
      "cell_type": "code",
      "execution_count": null,
      "metadata": {
        "id": "5Zdhu_H0xooN"
      },
      "outputs": [],
      "source": [
        "\n",
        "trjs = [md.load(t, top=top_fname).center_coordinates() for t in trj_fnames]\n",
        "print(len(trjs), trjs[0].xyz.shape)"
      ]
    },
    {
      "cell_type": "code",
      "source": [],
      "metadata": {
        "id": "oL4RFQrTC5DI"
      },
      "execution_count": null,
      "outputs": []
    },
    {
      "cell_type": "code",
      "execution_count": null,
      "metadata": {
        "id": "5RF0lLVBxooN"
      },
      "outputs": [],
      "source": [
        "# view an example trj\n",
        "\n",
        "v = nv.show_mdtraj(trjs[0])\n",
        "v.clear_representations()\n",
        "v.add_representation('ball+stick')\n",
        "v"
      ]
    },
    {
      "cell_type": "code",
      "execution_count": null,
      "metadata": {
        "id": "g6Erd5-3xooN"
      },
      "outputs": [],
      "source": [
        "# extract all distances between CA as features -- 28 residues == 378 featurse\n",
        "\n",
        "coords_torch = list()\n",
        "for trj in trjs:\n",
        "    pdists = [torch.pdist(p)[None] for p in torch.tensor(trj.xyz)]\n",
        "    coords_torch.append(torch.cat(pdists))\n",
        "len(coords_torch), coords_torch[0].shape"
      ]
    },
    {
      "cell_type": "code",
      "execution_count": null,
      "metadata": {
        "id": "xe4EPNF2xooN"
      },
      "outputs": [],
      "source": [
        "device= 'cuda' if torch.cuda.is_available() else 'cpu'\n",
        "device"
      ]
    },
    {
      "cell_type": "markdown",
      "metadata": {
        "id": "zSRwccqwxooN"
      },
      "source": [
        "# SnRV (load pre-trained model)"
      ]
    },
    {
      "cell_type": "code",
      "execution_count": null,
      "metadata": {
        "id": "oTeT0QLIxooO"
      },
      "outputs": [],
      "source": [
        "set_random_seed(42)"
      ]
    },
    {
      "cell_type": "code",
      "execution_count": null,
      "metadata": {
        "id": "YcPjmatmxooO"
      },
      "outputs": [],
      "source": [
        "# train for 3 epochs (1_000_000 frames each) to avoid overfitting\n",
        "\n",
        "input_size = coords_torch[0].size()[1]\n",
        "output_size = 7\n",
        "hidden_depth = 2\n",
        "hidden_size = 100\n",
        "batch_norm = True\n",
        "dropout_rate = 0.0\n",
        "lr = 1E-2\n",
        "weight_decay = 0.0\n",
        "val_frac = 0.05\n",
        "n_epochs = 3\n",
        "batch_size = 25000\n",
        "VAMPdegree = 2\n",
        "is_reversible = True\n",
        "num_workers = 0\n",
        "\n",
        "model_snrv = Snrv(input_size, output_size, hidden_depth=hidden_depth, hidden_size=hidden_size,\n",
        "            batch_norm=batch_norm, dropout_rate=dropout_rate, lr=lr, weight_decay=weight_decay,\n",
        "            val_frac=val_frac, n_epochs=n_epochs, batch_size=batch_size,\n",
        "            VAMPdegree=VAMPdegree,is_reversible=is_reversible, num_workers=num_workers,\n",
        "            activation=torch.nn.GELU(), device=device)\n",
        "\n",
        "model_snrv = model_snrv.to(device)"
      ]
    },
    {
      "cell_type": "code",
      "execution_count": 22,
      "metadata": {
        "scrolled": true,
        "id": "ldymrQU_xooO"
      },
      "outputs": [],
      "source": [
        "# load pretrained SRV model\n",
        "\n",
        "# (10 ns lag)  selected based on previous hyperparam check\n",
        "lag_n = 50\n",
        "\n",
        "load_pretrained_snrv = True\n",
        "save_new_model = False\n",
        "model_save_path = './model_snrv-3.pth'\n",
        "\n",
        "if load_pretrained_snrv:\n",
        "    ckp = torch.load(model_save_path)\n",
        "    model_snrv.load_state_dict(ckp['model_state_dict'])\n",
        "    model_snrv.training_losses = ckp['training_losses']\n",
        "    model_snrv.validation_losses = ckp['validation_losses']\n",
        "    model_snrv.evals = ckp['evals']\n",
        "    model_snrv.expansion_coefficients = ckp['expansion_coefficients']\n",
        "    model_snrv.is_fitted = True\n",
        "\n",
        "else:\n",
        "    model_snrv.fit(coords_torch, lag=lag_n, scheduler=0.98)\n",
        "    if save_new_model:\n",
        "        torch.save(model_snrv.state_dict(), model_save_path)\n",
        "\n",
        "        torch.save({\n",
        "        'model_state_dict': model_snrv.state_dict(),\n",
        "        'training_losses': model_snrv.training_losses,\n",
        "        'validation_losses': model_snrv.validation_losses,\n",
        "        'evals': model_snrv.evals,\n",
        "        'expansion_coefficients': model_snrv.expansion_coefficients,\n",
        "        }, model_save_path)"
      ]
    },
    {
      "cell_type": "code",
      "execution_count": 23,
      "metadata": {
        "colab": {
          "base_uri": "https://localhost:8080/",
          "height": 487
        },
        "id": "KrgliUYxxooO",
        "outputId": "e369a5a1-b8e7-4dd1-cade-2d40e50a305f"
      },
      "outputs": [
        {
          "output_type": "display_data",
          "data": {
            "text/plain": [
              "<Figure size 640x480 with 1 Axes>"
            ],
            "image/png": "[encoded data removed]"
          },
          "metadata": {}
        }
      ],
      "source": [
        "# after 5 epochs, training di\n",
        "\n",
        "fig, ax = plt.subplots()\n",
        "ax.plot(np.arange(len(model_snrv.training_losses)), model_snrv.training_losses)\n",
        "ax.plot(np.arange(len(model_snrv.validation_losses)), model_snrv.validation_losses)\n",
        "ax.set_xlabel('epoch')\n",
        "ax.set_ylabel('loss')\n",
        "ax.legend(['training','validation'])\n",
        "fig.tight_layout()"
      ]
    },
    {
      "cell_type": "code",
      "execution_count": 24,
      "metadata": {
        "colab": {
          "base_uri": "https://localhost:8080/",
          "height": 482
        },
        "id": "XKT9h_xBxooO",
        "outputId": "5a5b7039-5567-48a8-cfd0-5552db6aaec9"
      },
      "outputs": [
        {
          "output_type": "execute_result",
          "data": {
            "text/plain": [
              "<matplotlib.lines.Line2D at 0x7bb705919d50>"
            ]
          },
          "metadata": {},
          "execution_count": 24
        },
        {
          "output_type": "display_data",
          "data": {
            "text/plain": [
              "<Figure size 640x480 with 1 Axes>"
            ],
            "image/png": "[encoded data removed]"
          },
          "metadata": {}
        }
      ],
      "source": [
        "evals = model_snrv.evals.cpu().detach().numpy()\n",
        "plt.bar(range(1, evals.size), -lag_n*save_freq/np.log(evals[1:]))  # by default use evals[1:]\n",
        "plt.ylabel('Implied timescale (ps)')\n",
        "plt.xticks(range(1, evals.size))\n",
        "plt.xlabel('Timescale index')\n",
        "plt.axhline(lag_n*save_freq, color='k', linestyle=':')"
      ]
    },
    {
      "cell_type": "code",
      "execution_count": 25,
      "metadata": {
        "colab": {
          "base_uri": "https://localhost:8080/"
        },
        "id": "i1c5t0nvxooP",
        "outputId": "d6c1bc60-1015-49f0-8368-03675c25fc81"
      },
      "outputs": [
        {
          "output_type": "stream",
          "name": "stdout",
          "text": [
            "(20000, 7)\n"
          ]
        }
      ],
      "source": [
        "evecs = model_snrv.transform(torch.cat(coords_torch)).cpu().detach().numpy()\n",
        "print(evecs.shape)"
      ]
    },
    {
      "cell_type": "code",
      "execution_count": 28,
      "metadata": {
        "id": "52WqsTTvxooP"
      },
      "outputs": [],
      "source": [
        "# lag=1 here corresponds to lag=50 in original dataset\n",
        "\n",
        "import deeptime as dt\n",
        "tica = dt.decomposition.TICA(lagtime=1, dim=2)\n",
        "TICs = tica.fit_transform([a.numpy() for a in coords_torch]).reshape(-1, 2)"
      ]
    },
    {
      "cell_type": "code",
      "execution_count": 29,
      "metadata": {
        "colab": {
          "base_uri": "https://localhost:8080/",
          "height": 247
        },
        "id": "kGXjG3iJxooP",
        "outputId": "097fcf87-1b10-4200-dca8-8cfad8c7153b"
      },
      "outputs": [
        {
          "output_type": "display_data",
          "data": {
            "text/plain": [
              "<Figure size 1800x300 with 12 Axes>"
            ],
            "image/png": "[encoded data removed]"
          },
          "metadata": {}
        }
      ],
      "source": [
        "fig, axes = plt.subplots(1, 6, figsize = (18, 3), sharey=True, sharex=True)\n",
        "axes = axes.flatten()\n",
        "stride = 1\n",
        "\n",
        "for e in range(1, evecs.shape[1]):\n",
        "    evec = evecs[::stride, e]\n",
        "    ax = axes[e-1]\n",
        "\n",
        "    im = ax.scatter(TICs[::stride, 0], TICs[::stride, 1], c=evec, s=10, cmap='coolwarm')\n",
        "    ax.set_xlabel('$TIC_0$', fontsize=18)\n",
        "    ax.set_ylabel('$TIC_1$', fontsize=18)\n",
        "    cbar = plt.colorbar(im, ax=ax)\n",
        "    cbar.set_label(f'EV$_{e}$', size=18)\n",
        "\n",
        "plt.tight_layout()"
      ]
    },
    {
      "cell_type": "code",
      "execution_count": 33,
      "metadata": {
        "colab": {
          "base_uri": "https://localhost:8080/",
          "height": 807
        },
        "id": "APtCmz3gxooP",
        "outputId": "411bd453-a625-493b-e515-4e4e564971a1"
      },
      "outputs": [
        {
          "output_type": "display_data",
          "data": {
            "text/plain": [
              "<Figure size 800x800 with 6 Axes>"
            ],
            "image/png": "[encoded data removed]"
          },
          "metadata": {}
        }
      ],
      "source": [
        "# check distributions over each evec\n",
        "\n",
        "nbins = 50\n",
        "fig, axes = plt.subplots(6, figsize=(8, 8), sharex=True)\n",
        "\n",
        "for evec_idx, ax in enumerate(axes):\n",
        "    bins = np.linspace(np.min(evecs[:, evec_idx+1]), np.max(evecs[:, evec_idx+1]), nbins)\n",
        "    counts, bin_edges = np.histogram(evecs[:, evec_idx+1], bins=bins, density=True)\n",
        "\n",
        "    bin_centers = (bin_edges[:-1] + bin_edges[1:]) / 2\n",
        "    free_energy = -np.log(counts + 1e-10)\n",
        "\n",
        "    #ax.plot(bin_centers, free_energy, drawstyle='steps-mid')\n",
        "    ax.plot(bin_centers, counts, drawstyle='steps-mid')\n",
        "    ax.set_xlabel(f'$\\psi{evec_idx+1}$', fontsize=14)\n",
        "    ax.set_yscale('log')\n",
        "\n",
        "fig.text(0.0, 0.5, 'Density', va='center', rotation='vertical', fontsize=14)\n",
        "plt.tight_layout()\n"
      ]
    },
    {
      "cell_type": "code",
      "execution_count": 34,
      "metadata": {
        "colab": {
          "base_uri": "https://localhost:8080/",
          "height": 439
        },
        "id": "3JHfY7vQxooP",
        "outputId": "dddcf0bd-6740-427a-b2da-83629927de3e"
      },
      "outputs": [
        {
          "output_type": "execute_result",
          "data": {
            "text/plain": [
              "Text(145.72222222222223, 0.5, 'Residue index')"
            ]
          },
          "metadata": {},
          "execution_count": 34
        },
        {
          "output_type": "display_data",
          "data": {
            "text/plain": [
              "<Figure size 1400x400 with 6 Axes>"
            ],
            "image/png": "[encoded data removed]"
          },
          "metadata": {}
        }
      ],
      "source": [
        "# Interpret evecs by checking correlations against input features (pairwise distances)\n",
        "\n",
        "fig, axes = plt.subplots(1, 3, figsize=(14, 4))\n",
        "\n",
        "all_feats = np.concatenate(coords_torch)\n",
        "num_features = all_feats.shape[1]\n",
        "nres = trjs[0].n_residues\n",
        "\n",
        "for evec_idx, ax in enumerate(axes):\n",
        "\n",
        "    heatmap = np.zeros((nres, nres))\n",
        "    correlations = np.zeros(num_features)\n",
        "    cnt = 0\n",
        "\n",
        "    for i in range(num_features):\n",
        "        correlations[i], _ = pearsonr(all_feats[:, i], evecs[:, evec_idx])\n",
        "\n",
        "    for i in range(len(heatmap)):\n",
        "        for j in range(i+1, nres):\n",
        "            heatmap[i, j] = correlations[cnt]\n",
        "            heatmap[j, i] = correlations[cnt]\n",
        "            cnt += 1\n",
        "\n",
        "    mask = np.triu(np.ones_like(heatmap, dtype=bool))\n",
        "    sns.heatmap(heatmap, mask=mask, cmap='bwr', ax=ax)\n",
        "\n",
        "    ax.set_title(f'$\\psi_{evec_idx}$ Correlations', fontsize=18)\n",
        "    ax.set_xlabel('Residue index', fontsize=14)\n",
        "\n",
        "axes[0].set_ylabel('Residue index', fontsize=14)\n"
      ]
    },
    {
      "cell_type": "code",
      "execution_count": 35,
      "metadata": {
        "colab": {
          "base_uri": "https://localhost:8080/",
          "height": 815
        },
        "id": "nLuxx7I1xooP",
        "outputId": "2c9c69e8-8425-4cdc-c584-3fb8a923171a"
      },
      "outputs": [
        {
          "output_type": "execute_result",
          "data": {
            "text/plain": [
              "Text(0.08, 0.5, 'Residue Index')"
            ]
          },
          "metadata": {},
          "execution_count": 35
        },
        {
          "output_type": "display_data",
          "data": {
            "text/plain": [
              "<Figure size 1400x800 with 12 Axes>"
            ],
            "image/png": "[encoded data removed]"
          },
          "metadata": {}
        }
      ],
      "source": [
        "# identify and visualize different metastable states\n",
        "# average over the 1000 highest and lowest values that eahc thetevenc\n",
        "\n",
        "fig, axes = plt.subplots(2, 3, figsize=(14, 8))\n",
        "max_frames = 100\n",
        "\n",
        "for evec_idx, ax_row in enumerate(axes.T):\n",
        "\n",
        "    evec_mins = np.argsort(evecs[:, evec_idx])[-max_frames:]\n",
        "    evec_maxs = np.argsort(evecs[:, evec_idx])[:max_frames]\n",
        "    ref_means = np.mean(all_feats, axis=0)\n",
        "\n",
        "    heatmap_mins = np.zeros((nres, nres))\n",
        "    heatmap_maxs = np.zeros((nres, nres))\n",
        "\n",
        "    cnt = 0\n",
        "    for i in range(len(heatmap)):\n",
        "        for j in range(i+1, nres):\n",
        "            heatmap_mins[j, i] = np.mean(all_feats[evec_mins, cnt]) - ref_means[cnt]\n",
        "            heatmap_maxs[j, i] = np.mean(all_feats[evec_maxs, cnt]) - ref_means[cnt]\n",
        "            cnt += 1\n",
        "\n",
        "    mask = np.triu(np.ones_like(heatmap_mins, dtype=bool))\n",
        "    sns.heatmap(heatmap_mins, mask=mask, ax=ax_row[0])\n",
        "    sns.heatmap(heatmap_maxs, mask=mask, ax=ax_row[1])\n",
        "\n",
        "    ax_row[0].set_title(f'$\\psi_{evec_idx}$ (Min)', fontsize=16)\n",
        "    ax_row[1].set_title(f'$\\psi_{evec_idx}$ (Max)', fontsize=16)\n",
        "\n",
        "fig.suptitle('Mean Difference with average features', fontsize=18)\n",
        "fig.text(0.5, 0.04, 'Residue Index', ha='center', va='center', fontsize=16)\n",
        "fig.text(0.08, 0.5, 'Residue Index', ha='center', va='center', rotation='vertical', fontsize=16)\n"
      ]
    },
    {
      "cell_type": "code",
      "execution_count": 36,
      "metadata": {
        "colab": {
          "base_uri": "https://localhost:8080/"
        },
        "id": "oZaGauedxooQ",
        "outputId": "03202d1d-ae62-4930-f3bb-73889a9fd2b1"
      },
      "outputs": [
        {
          "output_type": "execute_result",
          "data": {
            "text/plain": [
              "(torch.Size([2000, 6]), 10)"
            ]
          },
          "metadata": {},
          "execution_count": 36
        }
      ],
      "source": [
        "# convert to thet\n",
        "\n",
        "CVs = [model_snrv.transform(x).cpu().detach()[:, 1:] for x in coords_torch]\n",
        "CVs[0].shape, len(CVs)"
      ]
    },
    {
      "cell_type": "markdown",
      "metadata": {
        "id": "5m3PTMfixooQ"
      },
      "source": [
        "# MDN propagator"
      ]
    },
    {
      "cell_type": "code",
      "execution_count": 37,
      "metadata": {
        "id": "7FIx4FKkxooQ"
      },
      "outputs": [],
      "source": [
        "model_mdn = Propagator(dim = CVs[0].size(1))"
      ]
    },
    {
      "cell_type": "code",
      "execution_count": 41,
      "metadata": {
        "id": "JfOnszmuxooQ"
      },
      "outputs": [],
      "source": [
        "lag_mdn = 50   # set to same as SRV but this does not need to be the case\n",
        "\n",
        "load_pretrained_mdn = True\n",
        "save_new_model = False\n",
        "model_save_path = './model_mdn-100.pth'\n",
        "\n",
        "if load_pretrained_mdn:\n",
        "    model_mdn.load_state_dict(torch.load(model_save_path))\n",
        "    model_mdn.is_fit = True\n",
        "\n",
        "else:\n",
        "    model_mdn.fit(CVs, lag = lag_mdn, max_epochs=100)\n",
        "    if save_new_model:\n",
        "        torch.save(model_mdn.state_dict(), model_save_path)\n"
      ]
    },
    {
      "cell_type": "code",
      "execution_count": 39,
      "metadata": {
        "colab": {
          "base_uri": "https://localhost:8080/",
          "height": 66,
          "referenced_widgets": [
            "a265a194da534731b6b305d9069419b0",
            "69fb463e4770463fb04b3781ace97adc",
            "4dafe92566884aeca865967db3404f6a",
            "fe676ffd006248fcaa6846696a83b2be",
            "c4c57a5ab8df4fcc927523f1974b93e4",
            "fbdbbd6f6c994cc18f3d565ffef2749b",
            "9ff65c2041b04074a9a042f4cda147c9",
            "77d8869a722e44a58202f40f02f879b6",
            "feff86c0fd374ea28783a76e578f7fde",
            "d0085ca6f27b41c789cf2f661a1e71a1",
            "8744bb0f7f1c40758d98c27ea017eb1b"
          ]
        },
        "id": "0b9rNOjLxooQ",
        "outputId": "6d27983f-873b-4277-b6af-bce9fad4067a"
      },
      "outputs": [
        {
          "output_type": "display_data",
          "data": {
            "text/plain": [
              "  0%|          | 0/20000 [00:00<?, ?it/s]"
            ],
            "application/vnd.jupyter.widget-view+json": {
              "version_major": 2,
              "version_minor": 0,
              "model_id": "a265a194da534731b6b305d9069419b0"
            }
          },
          "metadata": {
            "application/vnd.jupyter.widget-view+json": {
              "colab": {
                "custom_widget_manager": {
                  "url": "https://ssl.gstatic.com/colaboratory-static/widgets/colab-cdn-widget-manager/2b70e893a8ba7c0f/manager.min.js"
                }
              }
            }
          }
        },
        {
          "output_type": "execute_result",
          "data": {
            "text/plain": [
              "torch.Size([20000, 6])"
            ]
          },
          "metadata": {},
          "execution_count": 39
        }
      ],
      "source": [
        "# generate 10x longer synthetic traj\n",
        "\n",
        "n_steps = len(evecs) #10 * len(evecs) / lag_n\n",
        "x = CVs[0][0][None]\n",
        "synthetic_traj_CVs = model_mdn.gen_synthetic_traj(x, n_steps)\n",
        "synthetic_traj_CVs.shape"
      ]
    },
    {
      "cell_type": "code",
      "execution_count": 42,
      "metadata": {
        "colab": {
          "base_uri": "https://localhost:8080/",
          "height": 713
        },
        "id": "mv_La65_xooQ",
        "outputId": "32c0c3d4-f39c-4d19-ae33-85c1bc31a4c5"
      },
      "outputs": [
        {
          "output_type": "execute_result",
          "data": {
            "text/plain": [
              "Text(0.5, 0, 'N lag times (10 ns)')"
            ]
          },
          "metadata": {},
          "execution_count": 42
        },
        {
          "output_type": "display_data",
          "data": {
            "text/plain": [
              "<Figure size 800x800 with 6 Axes>"
            ],
            "image/png": "[encoded data removed]"
          },
          "metadata": {}
        }
      ],
      "source": [
        "fig, axes = plt.subplots(6, figsize=(8, 8), sharex=True)\n",
        "\n",
        "for evec_idx, ax in enumerate(axes):\n",
        "    ax.plot(evecs[:, evec_idx+1], label='DES')\n",
        "    ax.plot(synthetic_traj_CVs[:, evec_idx], label='MDN')\n",
        "    ax.set_ylabel(f'$\\psi_{evec_idx+1}$')\n",
        "\n",
        "axes[0].legend()\n",
        "axes[-1].set_xlabel('N lag times (10 ns)')"
      ]
    },
    {
      "cell_type": "code",
      "execution_count": 46,
      "metadata": {
        "colab": {
          "base_uri": "https://localhost:8080/",
          "height": 607
        },
        "id": "MfNsPT4xxooQ",
        "outputId": "8534ac45-8897-4c87-c603-ac7f5b6a30e1"
      },
      "outputs": [
        {
          "output_type": "display_data",
          "data": {
            "text/plain": [
              "<Figure size 800x600 with 6 Axes>"
            ],
            "image/png": "[encoded data removed]"
          },
          "metadata": {}
        }
      ],
      "source": [
        "# histograms of all evecs across time -- ensures thermodynamics are approximately reproduced\n",
        "\n",
        "fig, axes = plt.subplots(6, figsize=(8, 6), sharex=False)\n",
        "\n",
        "evecs = np.array(evecs)\n",
        "synthetic_traj_CVs = np.array(synthetic_traj_CVs)\n",
        "evecs[np.isinf(evecs)] = np.nan\n",
        "synthetic_traj_CVs[np.isinf(synthetic_traj_CVs)] = np.nan\n",
        "\n",
        "for evec_idx, ax in enumerate(axes):\n",
        "    sns.kdeplot(evecs[:, evec_idx+1], ax=ax, label='DES', fill=True)\n",
        "    sns.kdeplot(synthetic_traj_CVs[:, evec_idx], ax=ax, label='MDN', fill=True)\n",
        "    ax.set_ylabel(f'Density\\n($\\psi_{evec_idx+1}$)')\n",
        "\n",
        "axes[0].legend()\n",
        "axes[-1].set_xlabel('$\\psi$')\n",
        "\n",
        "\n",
        "plt.tight_layout()\n",
        "plt.show()\n"
      ]
    },
    {
      "cell_type": "markdown",
      "metadata": {
        "id": "CTJfZx-pxooQ"
      },
      "source": [
        "# DDPM Decoder"
      ]
    },
    {
      "cell_type": "code",
      "execution_count": 47,
      "metadata": {
        "colab": {
          "base_uri": "https://localhost:8080/"
        },
        "id": "PH9Dodn6xooR",
        "outputId": "9c8f5221-4e8b-42cd-8a2a-4f865aac14e1"
      },
      "outputs": [
        {
          "output_type": "stream",
          "name": "stdout",
          "text": [
            "torch.Size([2000, 84])\n"
          ]
        }
      ],
      "source": [
        "# flatten coordiantes before passing to DDPM\n",
        "\n",
        "n = trjs[0].xyz.shape[0]\n",
        "xyz = [torch.tensor(trj.xyz.reshape(n, -1)).float() for trj in trjs]\n",
        "\n",
        "print(xyz[0].shape)"
      ]
    },
    {
      "cell_type": "code",
      "execution_count": 48,
      "metadata": {
        "id": "pSaC89gLxooR"
      },
      "outputs": [],
      "source": [
        "# uses 1000 steps by default, but 50-100 will be much faster and should work fine\n",
        "\n",
        "model_ddpm = DDPM(xyz[0].shape[1], CVs[0].shape[1])"
      ]
    },
    {
      "cell_type": "code",
      "execution_count": 49,
      "metadata": {
        "scrolled": false,
        "colab": {
          "base_uri": "https://localhost:8080/"
        },
        "id": "3uT5DMGvxooR",
        "outputId": "12c3cbf5-b21d-4404-d069-26317dab7bf5"
      },
      "outputs": [
        {
          "output_type": "stream",
          "name": "stdout",
          "text": [
            "CPU times: user 3 µs, sys: 0 ns, total: 3 µs\n",
            "Wall time: 7.63 µs\n"
          ]
        }
      ],
      "source": [
        "%time\n",
        "\n",
        "load_pretrained_ddpm = True\n",
        "save_new_model = False\n",
        "model_save_path = './model_ddpm-25.pth'\n",
        "\n",
        "if load_pretrained_ddpm:\n",
        "    model_ddpm.load_state_dict(torch.load(model_save_path))\n",
        "    model_ddpm.is_fit = True\n",
        "\n",
        "else:\n",
        "    model_ddpm.fit(xyz, CVs, max_epochs=25)\n",
        "    if save_new_model:\n",
        "        torch.save(model_ddpm.state_dict(), model_save_path)"
      ]
    },
    {
      "cell_type": "code",
      "execution_count": 51,
      "metadata": {
        "colab": {
          "base_uri": "https://localhost:8080/",
          "height": 49,
          "referenced_widgets": [
            "7fa14b3acfc14a80a8c9c28fdc03ef7c",
            "3ccf301a70104f39b939a3aada2a8614",
            "9c94dc0e7d764ed2af3e1e8f6aeda23e",
            "5acdce56358447e7bf53a123de02a7d5",
            "1112a927c70c410d82879db938416911",
            "d3098a065c9c4ed68372e115838e687a",
            "af27fbc17f0b4f2c84cb5143ff800be1",
            "735ccb0d548a47569c2a8ff9ed623b5a",
            "d035e64465af4d6cac797ace4fc2a743",
            "f9ee09c0f0f0444589cee9880c63a317",
            "94fff22edf7045dca380106f0ccfd78b"
          ]
        },
        "id": "WyTCVBGVxooZ",
        "outputId": "e3062188-aa1b-4198-df44-bed19e8081c2"
      },
      "outputs": [
        {
          "output_type": "display_data",
          "data": {
            "text/plain": [
              "sampling loop time step:   0%|          | 0/1000 [00:00<?, ?it/s]"
            ],
            "application/vnd.jupyter.widget-view+json": {
              "version_major": 2,
              "version_minor": 0,
              "model_id": "7fa14b3acfc14a80a8c9c28fdc03ef7c"
            }
          },
          "metadata": {
            "application/vnd.jupyter.widget-view+json": {
              "colab": {
                "custom_widget_manager": {
                  "url": "https://ssl.gstatic.com/colaboratory-static/widgets/colab-cdn-widget-manager/2b70e893a8ba7c0f/manager.min.js"
                }
              }
            }
          }
        }
      ],
      "source": [
        "# Decode a set of real SRV coordinates first and check adherence to conditioning\n",
        "\n",
        "# each xyz idx should correspond to trj idx\n",
        "trj_ref = md.join([trj[0] for trj in trjs])\n",
        "evecs_ref = evecs[::2_000, 1:]\n",
        "\n",
        "xyz_gen = model_ddpm.generate(torch.Tensor(evecs_ref))\n",
        "xyz_gen = xyz_gen.reshape(xyz_gen.size(0), -1 , 3).numpy()\n",
        "fake_trj = md.Trajectory(xyz = xyz_gen, topology=trjs[0].top)\n",
        "fake_trj = md.join([ft.superpose(rf) for ft, rf in zip(fake_trj, trj_ref)])"
      ]
    },
    {
      "cell_type": "code",
      "execution_count": 52,
      "metadata": {
        "id": "SVh1VbTexooZ",
        "colab": {
          "base_uri": "https://localhost:8080/",
          "height": 317,
          "referenced_widgets": [
            "932a7d834bc74bba9e4ece67bfcdc125",
            "e7908a8f428a423e828749d0b98bc7a3",
            "de2da28277634e7e9cad4a30aaf78e47",
            "16d7968bd594414f9c96fad917609043",
            "b1e60d94fe6e40f2b3e4b1f7760e36ec",
            "8937091690994f00a9ef06eb205310fc",
            "091ace719fff427c9426dcd0fc154f6c",
            "bf5e77f431424098b2d7f66c49993257",
            "8a98c95c177c444d8479073cea338d1a",
            "5f78dcda1cff40efbb655e5c74a2e08d",
            "a0cf6b3f822c46268c3eb120618dcdce",
            "73e5abf2bc9d4434a450f60a8b749b30",
            "b633cc93c97143e2bc3681f14482df8c"
          ]
        },
        "outputId": "ed60f841-ddfb-4067-c27c-872ce21d05c8"
      },
      "outputs": [
        {
          "output_type": "display_data",
          "data": {
            "text/plain": [
              "NGLWidget(max_frame=9)"
            ],
            "application/vnd.jupyter.widget-view+json": {
              "version_major": 2,
              "version_minor": 0,
              "model_id": "932a7d834bc74bba9e4ece67bfcdc125"
            }
          },
          "metadata": {
            "application/vnd.jupyter.widget-view+json": {
              "colab": {
                "custom_widget_manager": {
                  "url": "https://ssl.gstatic.com/colaboratory-static/widgets/colab-cdn-widget-manager/2b70e893a8ba7c0f/manager.min.js"
                }
              }
            }
          }
        }
      ],
      "source": [
        "v = nv.show_mdtraj(trj_ref)\n",
        "v.add_trajectory(fake_trj)\n",
        "\n",
        "v[0].clear_representations()\n",
        "v[0].add_representation('ball+stick', color='blue')\n",
        "\n",
        "v[1].clear_representations()\n",
        "v[1].add_representation('ball+stick', color='red')\n",
        "v"
      ]
    },
    {
      "cell_type": "code",
      "execution_count": 54,
      "metadata": {
        "id": "76Hh9cHLxooZ",
        "colab": {
          "base_uri": "https://localhost:8080/",
          "height": 344
        },
        "outputId": "a157336e-f953-47e7-ef47-4b1c58f4ca83"
      },
      "outputs": [
        {
          "output_type": "execute_result",
          "data": {
            "text/plain": [
              "Text(374.59934086629, 0.5, 'Fake Traj')"
            ]
          },
          "metadata": {},
          "execution_count": 54
        },
        {
          "output_type": "display_data",
          "data": {
            "text/plain": [
              "<Figure size 2000x400 with 20 Axes>"
            ],
            "image/png": "[encoded data removed]"
          },
          "metadata": {}
        }
      ],
      "source": [
        "# calculate pairwise distances between each ref and gen structure\n",
        "# we should observe similar profiles between the top row and bottom row plots\n",
        "\n",
        "pdists_ref = [torch.pdist(p)[None] for p in torch.tensor(trj_ref.xyz)]\n",
        "pdists_gen = [torch.pdist(p)[None] for p in torch.tensor(fake_trj.xyz)]\n",
        "\n",
        "fig, axes = plt.subplots(2, 10, figsize=(20, 4))\n",
        "\n",
        "for f, (p_ref, p_gen, ax_row) in enumerate(zip(pdists_ref, pdists_gen, axes.T)):\n",
        "\n",
        "    heatmap_ref = np.zeros((nres, nres))\n",
        "    heatmap_gen = np.zeros((nres, nres))\n",
        "\n",
        "    cnt = 0\n",
        "    for i in range(len(heatmap)):\n",
        "        for j in range(i+1, nres):\n",
        "            heatmap_ref[j, i] = p_ref[0, cnt].numpy()\n",
        "            heatmap_gen[j, i] = p_gen[0, cnt].numpy()\n",
        "            cnt += 1\n",
        "\n",
        "    mask = np.triu(np.ones_like(heatmap_ref, dtype=bool))\n",
        "    sns.heatmap(heatmap_ref, mask=mask, cmap='Reds', ax=ax_row[0], cbar=False)\n",
        "    sns.heatmap(heatmap_gen, mask=mask, cmap='Reds', ax=ax_row[1], cbar=False)\n",
        "    ax_row[0].set_title(f'Frame {f*2_000}')\n",
        "\n",
        "for ax in axes.flatten():\n",
        "    ax.set_xticklabels([])\n",
        "    ax.set_yticklabels([])\n",
        "\n",
        "axes[0, 0].set_ylabel('Real Traj')\n",
        "axes[0, 1].set_ylabel('Fake Traj')\n"
      ]
    },
    {
      "cell_type": "markdown",
      "metadata": {
        "id": "nlI2CR5lxooZ"
      },
      "source": [
        "# Decode the synthetic traj"
      ]
    },
    {
      "cell_type": "code",
      "execution_count": 55,
      "metadata": {
        "id": "_mclcATAxooZ",
        "colab": {
          "base_uri": "https://localhost:8080/",
          "height": 49,
          "referenced_widgets": [
            "0503677712f245a1858dbaea23fb5cf1",
            "7c3966bc9342469fa672e095c07b15d1",
            "f35bbe4ab75c49d19f172d41e65fe58a",
            "3bb569f5430f4419bf36e622e0beb4d4",
            "5c39d56279674d56990384b19f829280",
            "439c208e22984fb9ac4d17dcf87be530",
            "ac8fd5dc72cd4a2383c4f7ec750da935",
            "e090d681494843808ff145bd2be197f0",
            "8e9f4f69016b45b79416b79eae1f02b6",
            "5207a12379d2465e8ccfdab6ff0b6160",
            "533845d9c5b64836b2a0f775cdb86b63"
          ]
        },
        "outputId": "128c5f32-b644-46d2-f872-800fb84ac7df"
      },
      "outputs": [
        {
          "output_type": "display_data",
          "data": {
            "text/plain": [
              "sampling loop time step:   0%|          | 0/1000 [00:00<?, ?it/s]"
            ],
            "application/vnd.jupyter.widget-view+json": {
              "version_major": 2,
              "version_minor": 0,
              "model_id": "0503677712f245a1858dbaea23fb5cf1"
            }
          },
          "metadata": {
            "application/vnd.jupyter.widget-view+json": {
              "colab": {
                "custom_widget_manager": {
                  "url": "https://ssl.gstatic.com/colaboratory-static/widgets/colab-cdn-widget-manager/2b70e893a8ba7c0f/manager.min.js"
                }
              }
            }
          }
        }
      ],
      "source": [
        "xyz_gen = model_ddpm.generate(torch.Tensor(synthetic_traj_CVs[:20]))"
      ]
    },
    {
      "cell_type": "code",
      "execution_count": 56,
      "metadata": {
        "id": "yZJqz0ecxooa"
      },
      "outputs": [],
      "source": [
        "xyz_gen = xyz_gen.reshape(xyz_gen.size(0), -1 , 3).numpy()\n",
        "fake_trj = md.Trajectory(xyz = xyz_gen, topology=trjs[0].top)"
      ]
    },
    {
      "cell_type": "code",
      "execution_count": 57,
      "metadata": {
        "id": "27cYN5VNxooa"
      },
      "outputs": [],
      "source": [
        "# decode first frame of each traj (each has different embeddings)\n",
        "\n",
        "xyz_ref = [trj.xyz for trj in trjs]\n",
        "evec_ref = evecs[:10]"
      ]
    },
    {
      "cell_type": "markdown",
      "metadata": {
        "id": "7ZjipB49xooa"
      },
      "source": [
        "# Visualize results"
      ]
    },
    {
      "cell_type": "code",
      "execution_count": 59,
      "metadata": {
        "colab": {
          "referenced_widgets": [
            "56e95dc83f684740992a498be4fe55df",
            "5c5d0ad9de524cf68962ffe073977180",
            "7cf4652293d44afeb352430f1b38427a",
            "e6ac99dee2894b76b2b0c4c39d722ccd",
            "3456e529ed5c464f9d5f188309e7653d",
            "b5d52d9fac524c91b5272293933a5c19",
            "7a0e5589b2634f8f9c3634226ac96148",
            "f70f324bd1ca4493a41ea0ed5e760e01",
            "42469695fb3648b4ac070934372a5e3e",
            "0145ecec683a4a9b8c8ffc163cf3bd65",
            "f07d66a59b1a4a7fae81f7d17fa12194",
            "4f47c81218ee48fc90b73e4a09f47b0d",
            "ece03433703641228b2ef0be0e36224c"
          ],
          "base_uri": "https://localhost:8080/",
          "height": 317
        },
        "id": "5uT8ufj7xooa",
        "outputId": "617a21bf-53ad-486f-ebaf-716b3b28a8e3"
      },
      "outputs": [
        {
          "output_type": "display_data",
          "data": {
            "text/plain": [
              "NGLWidget(max_frame=19)"
            ],
            "application/vnd.jupyter.widget-view+json": {
              "version_major": 2,
              "version_minor": 0,
              "model_id": "56e95dc83f684740992a498be4fe55df"
            }
          },
          "metadata": {
            "application/vnd.jupyter.widget-view+json": {
              "colab": {
                "custom_widget_manager": {
                  "url": "https://ssl.gstatic.com/colaboratory-static/widgets/colab-cdn-widget-manager/2b70e893a8ba7c0f/manager.min.js"
                }
              }
            }
          }
        }
      ],
      "source": [
        "v = nv.show_mdtraj(fake_trj)\n",
        "v.clear_representations()\n",
        "v.add_representation('ball+stick')\n",
        "v"
      ]
    },
    {
      "cell_type": "code",
      "source": [],
      "metadata": {
        "id": "qolwuPieq2PY"
      },
      "execution_count": null,
      "outputs": []
    }
  ],
  "metadata": {
    "kernelspec": {
      "display_name": "torchcfm_11.8",
      "language": "python",
      "name": "torchcfm_11.8"
    },
    "language_info": {
      "codemirror_mode": {
        "name": "ipython",
        "version": 3
      },
      "file_extension": ".py",
      "mimetype": "text/x-python",
      "name": "python",
      "nbconvert_exporter": "python",
      "pygments_lexer": "ipython3",
      "version": "3.10.13"
    },
    "colab": {
      "provenance": [],
      "gpuType": "T4",
      "include_colab_link": true
    },
    "accelerator": "GPU",
    "widgets": {
      "application/vnd.jupyter.widget-state+json": {
        "a265a194da534731b6b305d9069419b0": {
          "model_module": "@jupyter-widgets/controls",
          "model_name": "HBoxModel",
          "model_module_version": "1.5.0",
          "state": {
            "_dom_classes": [],
            "_model_module": "@jupyter-widgets/controls",
            "_model_module_version": "1.5.0",
            "_model_name": "HBoxModel",
            "_view_count": null,
            "_view_module": "@jupyter-widgets/controls",
            "_view_module_version": "1.5.0",
            "_view_name": "HBoxView",
            "box_style": "",
            "children": [
              "IPY_MODEL_69fb463e4770463fb04b3781ace97adc",
              "IPY_MODEL_4dafe92566884aeca865967db3404f6a",
              "IPY_MODEL_fe676ffd006248fcaa6846696a83b2be"
            ],
            "layout": "IPY_MODEL_c4c57a5ab8df4fcc927523f1974b93e4"
          }
        },
        "69fb463e4770463fb04b3781ace97adc": {
          "model_module": "@jupyter-widgets/controls",
          "model_name": "HTMLModel",
          "model_module_version": "1.5.0",
          "state": {
            "_dom_classes": [],
            "_model_module": "@jupyter-widgets/controls",
            "_model_module_version": "1.5.0",
            "_model_name": "HTMLModel",
            "_view_count": null,
            "_view_module": "@jupyter-widgets/controls",
            "_view_module_version": "1.5.0",
            "_view_name": "HTMLView",
            "description": "",
            "description_tooltip": null,
            "layout": "IPY_MODEL_fbdbbd6f6c994cc18f3d565ffef2749b",
            "placeholder": "​",
            "style": "IPY_MODEL_9ff65c2041b04074a9a042f4cda147c9",
            "value": "100%"
          }
        },
        "4dafe92566884aeca865967db3404f6a": {
          "model_module": "@jupyter-widgets/controls",
          "model_name": "FloatProgressModel",
          "model_module_version": "1.5.0",
          "state": {
            "_dom_classes": [],
            "_model_module": "@jupyter-widgets/controls",
            "_model_module_version": "1.5.0",
            "_model_name": "FloatProgressModel",
            "_view_count": null,
            "_view_module": "@jupyter-widgets/controls",
            "_view_module_version": "1.5.0",
            "_view_name": "ProgressView",
            "bar_style": "success",
            "description": "",
            "description_tooltip": null,
            "layout": "IPY_MODEL_77d8869a722e44a58202f40f02f879b6",
            "max": 20000,
            "min": 0,
            "orientation": "horizontal",
            "style": "IPY_MODEL_feff86c0fd374ea28783a76e578f7fde",
            "value": 20000
          }
        },
        "fe676ffd006248fcaa6846696a83b2be": {
          "model_module": "@jupyter-widgets/controls",
          "model_name": "HTMLModel",
          "model_module_version": "1.5.0",
          "state": {
            "_dom_classes": [],
            "_model_module": "@jupyter-widgets/controls",
            "_model_module_version": "1.5.0",
            "_model_name": "HTMLModel",
            "_view_count": null,
            "_view_module": "@jupyter-widgets/controls",
            "_view_module_version": "1.5.0",
            "_view_name": "HTMLView",
            "description": "",
            "description_tooltip": null,
            "layout": "IPY_MODEL_d0085ca6f27b41c789cf2f661a1e71a1",
            "placeholder": "​",
            "style": "IPY_MODEL_8744bb0f7f1c40758d98c27ea017eb1b",
            "value": " 20000/20000 [00:19&lt;00:00, 1137.28it/s]"
          }
        },
        "c4c57a5ab8df4fcc927523f1974b93e4": {
          "model_module": "@jupyter-widgets/base",
          "model_name": "LayoutModel",
          "model_module_version": "1.2.0",
          "state": {
            "_model_module": "@jupyter-widgets/base",
            "_model_module_version": "1.2.0",
            "_model_name": "LayoutModel",
            "_view_count": null,
            "_view_module": "@jupyter-widgets/base",
            "_view_module_version": "1.2.0",
            "_view_name": "LayoutView",
            "align_content": null,
            "align_items": null,
            "align_self": null,
            "border": null,
            "bottom": null,
            "display": null,
            "flex": null,
            "flex_flow": null,
            "grid_area": null,
            "grid_auto_columns": null,
            "grid_auto_flow": null,
            "grid_auto_rows": null,
            "grid_column": null,
            "grid_gap": null,
            "grid_row": null,
            "grid_template_areas": null,
            "grid_template_columns": null,
            "grid_template_rows": null,
            "height": null,
            "justify_content": null,
            "justify_items": null,
            "left": null,
            "margin": null,
            "max_height": null,
            "max_width": null,
            "min_height": null,
            "min_width": null,
            "object_fit": null,
            "object_position": null,
            "order": null,
            "overflow": null,
            "overflow_x": null,
            "overflow_y": null,
            "padding": null,
            "right": null,
            "top": null,
            "visibility": null,
            "width": null
          }
        },
        "fbdbbd6f6c994cc18f3d565ffef2749b": {
          "model_module": "@jupyter-widgets/base",
          "model_name": "LayoutModel",
          "model_module_version": "1.2.0",
          "state": {
            "_model_module": "@jupyter-widgets/base",
            "_model_module_version": "1.2.0",
            "_model_name": "LayoutModel",
            "_view_count": null,
            "_view_module": "@jupyter-widgets/base",
            "_view_module_version": "1.2.0",
            "_view_name": "LayoutView",
            "align_content": null,
            "align_items": null,
            "align_self": null,
            "border": null,
            "bottom": null,
            "display": null,
            "flex": null,
            "flex_flow": null,
            "grid_area": null,
            "grid_auto_columns": null,
            "grid_auto_flow": null,
            "grid_auto_rows": null,
            "grid_column": null,
            "grid_gap": null,
            "grid_row": null,
            "grid_template_areas": null,
            "grid_template_columns": null,
            "grid_template_rows": null,
            "height": null,
            "justify_content": null,
            "justify_items": null,
            "left": null,
            "margin": null,
            "max_height": null,
            "max_width": null,
            "min_height": null,
            "min_width": null,
            "object_fit": null,
            "object_position": null,
            "order": null,
            "overflow": null,
            "overflow_x": null,
            "overflow_y": null,
            "padding": null,
            "right": null,
            "top": null,
            "visibility": null,
            "width": null
          }
        },
        "9ff65c2041b04074a9a042f4cda147c9": {
          "model_module": "@jupyter-widgets/controls",
          "model_name": "DescriptionStyleModel",
          "model_module_version": "1.5.0",
          "state": {
            "_model_module": "@jupyter-widgets/controls",
            "_model_module_version": "1.5.0",
            "_model_name": "DescriptionStyleModel",
            "_view_count": null,
            "_view_module": "@jupyter-widgets/base",
            "_view_module_version": "1.2.0",
            "_view_name": "StyleView",
            "description_width": ""
          }
        },
        "77d8869a722e44a58202f40f02f879b6": {
          "model_module": "@jupyter-widgets/base",
          "model_name": "LayoutModel",
          "model_module_version": "1.2.0",
          "state": {
            "_model_module": "@jupyter-widgets/base",
            "_model_module_version": "1.2.0",
            "_model_name": "LayoutModel",
            "_view_count": null,
            "_view_module": "@jupyter-widgets/base",
            "_view_module_version": "1.2.0",
            "_view_name": "LayoutView",
            "align_content": null,
            "align_items": null,
            "align_self": null,
            "border": null,
            "bottom": null,
            "display": null,
            "flex": null,
            "flex_flow": null,
            "grid_area": null,
            "grid_auto_columns": null,
            "grid_auto_flow": null,
            "grid_auto_rows": null,
            "grid_column": null,
            "grid_gap": null,
            "grid_row": null,
            "grid_template_areas": null,
            "grid_template_columns": null,
            "grid_template_rows": null,
            "height": null,
            "justify_content": null,
            "justify_items": null,
            "left": null,
            "margin": null,
            "max_height": null,
            "max_width": null,
            "min_height": null,
            "min_width": null,
            "object_fit": null,
            "object_position": null,
            "order": null,
            "overflow": null,
            "overflow_x": null,
            "overflow_y": null,
            "padding": null,
            "right": null,
            "top": null,
            "visibility": null,
            "width": null
          }
        },
        "feff86c0fd374ea28783a76e578f7fde": {
          "model_module": "@jupyter-widgets/controls",
          "model_name": "ProgressStyleModel",
          "model_module_version": "1.5.0",
          "state": {
            "_model_module": "@jupyter-widgets/controls",
            "_model_module_version": "1.5.0",
            "_model_name": "ProgressStyleModel",
            "_view_count": null,
            "_view_module": "@jupyter-widgets/base",
            "_view_module_version": "1.2.0",
            "_view_name": "StyleView",
            "bar_color": null,
            "description_width": ""
          }
        },
        "d0085ca6f27b41c789cf2f661a1e71a1": {
          "model_module": "@jupyter-widgets/base",
          "model_name": "LayoutModel",
          "model_module_version": "1.2.0",
          "state": {
            "_model_module": "@jupyter-widgets/base",
            "_model_module_version": "1.2.0",
            "_model_name": "LayoutModel",
            "_view_count": null,
            "_view_module": "@jupyter-widgets/base",
            "_view_module_version": "1.2.0",
            "_view_name": "LayoutView",
            "align_content": null,
            "align_items": null,
            "align_self": null,
            "border": null,
            "bottom": null,
            "display": null,
            "flex": null,
            "flex_flow": null,
            "grid_area": null,
            "grid_auto_columns": null,
            "grid_auto_flow": null,
            "grid_auto_rows": null,
            "grid_column": null,
            "grid_gap": null,
            "grid_row": null,
            "grid_template_areas": null,
            "grid_template_columns": null,
            "grid_template_rows": null,
            "height": null,
            "justify_content": null,
            "justify_items": null,
            "left": null,
            "margin": null,
            "max_height": null,
            "max_width": null,
            "min_height": null,
            "min_width": null,
            "object_fit": null,
            "object_position": null,
            "order": null,
            "overflow": null,
            "overflow_x": null,
            "overflow_y": null,
            "padding": null,
            "right": null,
            "top": null,
            "visibility": null,
            "width": null
          }
        },
        "8744bb0f7f1c40758d98c27ea017eb1b": {
          "model_module": "@jupyter-widgets/controls",
          "model_name": "DescriptionStyleModel",
          "model_module_version": "1.5.0",
          "state": {
            "_model_module": "@jupyter-widgets/controls",
            "_model_module_version": "1.5.0",
            "_model_name": "DescriptionStyleModel",
            "_view_count": null,
            "_view_module": "@jupyter-widgets/base",
            "_view_module_version": "1.2.0",
            "_view_name": "StyleView",
            "description_width": ""
          }
        },
        "7fa14b3acfc14a80a8c9c28fdc03ef7c": {
          "model_module": "@jupyter-widgets/controls",
          "model_name": "HBoxModel",
          "model_module_version": "1.5.0",
          "state": {
            "_dom_classes": [],
            "_model_module": "@jupyter-widgets/controls",
            "_model_module_version": "1.5.0",
            "_model_name": "HBoxModel",
            "_view_count": null,
            "_view_module": "@jupyter-widgets/controls",
            "_view_module_version": "1.5.0",
            "_view_name": "HBoxView",
            "box_style": "",
            "children": [
              "IPY_MODEL_3ccf301a70104f39b939a3aada2a8614",
              "IPY_MODEL_9c94dc0e7d764ed2af3e1e8f6aeda23e",
              "IPY_MODEL_5acdce56358447e7bf53a123de02a7d5"
            ],
            "layout": "IPY_MODEL_1112a927c70c410d82879db938416911"
          }
        },
        "3ccf301a70104f39b939a3aada2a8614": {
          "model_module": "@jupyter-widgets/controls",
          "model_name": "HTMLModel",
          "model_module_version": "1.5.0",
          "state": {
            "_dom_classes": [],
            "_model_module": "@jupyter-widgets/controls",
            "_model_module_version": "1.5.0",
            "_model_name": "HTMLModel",
            "_view_count": null,
            "_view_module": "@jupyter-widgets/controls",
            "_view_module_version": "1.5.0",
            "_view_name": "HTMLView",
            "description": "",
            "description_tooltip": null,
            "layout": "IPY_MODEL_d3098a065c9c4ed68372e115838e687a",
            "placeholder": "​",
            "style": "IPY_MODEL_af27fbc17f0b4f2c84cb5143ff800be1",
            "value": "sampling loop time step: 100%"
          }
        },
        "9c94dc0e7d764ed2af3e1e8f6aeda23e": {
          "model_module": "@jupyter-widgets/controls",
          "model_name": "FloatProgressModel",
          "model_module_version": "1.5.0",
          "state": {
            "_dom_classes": [],
            "_model_module": "@jupyter-widgets/controls",
            "_model_module_version": "1.5.0",
            "_model_name": "FloatProgressModel",
            "_view_count": null,
            "_view_module": "@jupyter-widgets/controls",
            "_view_module_version": "1.5.0",
            "_view_name": "ProgressView",
            "bar_style": "success",
            "description": "",
            "description_tooltip": null,
            "layout": "IPY_MODEL_735ccb0d548a47569c2a8ff9ed623b5a",
            "max": 1000,
            "min": 0,
            "orientation": "horizontal",
            "style": "IPY_MODEL_d035e64465af4d6cac797ace4fc2a743",
            "value": 1000
          }
        },
        "5acdce56358447e7bf53a123de02a7d5": {
          "model_module": "@jupyter-widgets/controls",
          "model_name": "HTMLModel",
          "model_module_version": "1.5.0",
          "state": {
            "_dom_classes": [],
            "_model_module": "@jupyter-widgets/controls",
            "_model_module_version": "1.5.0",
            "_model_name": "HTMLModel",
            "_view_count": null,
            "_view_module": "@jupyter-widgets/controls",
            "_view_module_version": "1.5.0",
            "_view_name": "HTMLView",
            "description": "",
            "description_tooltip": null,
            "layout": "IPY_MODEL_f9ee09c0f0f0444589cee9880c63a317",
            "placeholder": "​",
            "style": "IPY_MODEL_94fff22edf7045dca380106f0ccfd78b",
            "value": " 1000/1000 [00:36&lt;00:00, 31.97it/s]"
          }
        },
        "1112a927c70c410d82879db938416911": {
          "model_module": "@jupyter-widgets/base",
          "model_name": "LayoutModel",
          "model_module_version": "1.2.0",
          "state": {
            "_model_module": "@jupyter-widgets/base",
            "_model_module_version": "1.2.0",
            "_model_name": "LayoutModel",
            "_view_count": null,
            "_view_module": "@jupyter-widgets/base",
            "_view_module_version": "1.2.0",
            "_view_name": "LayoutView",
            "align_content": null,
            "align_items": null,
            "align_self": null,
            "border": null,
            "bottom": null,
            "display": null,
            "flex": null,
            "flex_flow": null,
            "grid_area": null,
            "grid_auto_columns": null,
            "grid_auto_flow": null,
            "grid_auto_rows": null,
            "grid_column": null,
            "grid_gap": null,
            "grid_row": null,
            "grid_template_areas": null,
            "grid_template_columns": null,
            "grid_template_rows": null,
            "height": null,
            "justify_content": null,
            "justify_items": null,
            "left": null,
            "margin": null,
            "max_height": null,
            "max_width": null,
            "min_height": null,
            "min_width": null,
            "object_fit": null,
            "object_position": null,
            "order": null,
            "overflow": null,
            "overflow_x": null,
            "overflow_y": null,
            "padding": null,
            "right": null,
            "top": null,
            "visibility": null,
            "width": null
          }
        },
        "d3098a065c9c4ed68372e115838e687a": {
          "model_module": "@jupyter-widgets/base",
          "model_name": "LayoutModel",
          "model_module_version": "1.2.0",
          "state": {
            "_model_module": "@jupyter-widgets/base",
            "_model_module_version": "1.2.0",
            "_model_name": "LayoutModel",
            "_view_count": null,
            "_view_module": "@jupyter-widgets/base",
            "_view_module_version": "1.2.0",
            "_view_name": "LayoutView",
            "align_content": null,
            "align_items": null,
            "align_self": null,
            "border": null,
            "bottom": null,
            "display": null,
            "flex": null,
            "flex_flow": null,
            "grid_area": null,
            "grid_auto_columns": null,
            "grid_auto_flow": null,
            "grid_auto_rows": null,
            "grid_column": null,
            "grid_gap": null,
            "grid_row": null,
            "grid_template_areas": null,
            "grid_template_columns": null,
            "grid_template_rows": null,
            "height": null,
            "justify_content": null,
            "justify_items": null,
            "left": null,
            "margin": null,
            "max_height": null,
            "max_width": null,
            "min_height": null,
            "min_width": null,
            "object_fit": null,
            "object_position": null,
            "order": null,
            "overflow": null,
            "overflow_x": null,
            "overflow_y": null,
            "padding": null,
            "right": null,
            "top": null,
            "visibility": null,
            "width": null
          }
        },
        "af27fbc17f0b4f2c84cb5143ff800be1": {
          "model_module": "@jupyter-widgets/controls",
          "model_name": "DescriptionStyleModel",
          "model_module_version": "1.5.0",
          "state": {
            "_model_module": "@jupyter-widgets/controls",
            "_model_module_version": "1.5.0",
            "_model_name": "DescriptionStyleModel",
            "_view_count": null,
            "_view_module": "@jupyter-widgets/base",
            "_view_module_version": "1.2.0",
            "_view_name": "StyleView",
            "description_width": ""
          }
        },
        "735ccb0d548a47569c2a8ff9ed623b5a": {
          "model_module": "@jupyter-widgets/base",
          "model_name": "LayoutModel",
          "model_module_version": "1.2.0",
          "state": {
            "_model_module": "@jupyter-widgets/base",
            "_model_module_version": "1.2.0",
            "_model_name": "LayoutModel",
            "_view_count": null,
            "_view_module": "@jupyter-widgets/base",
            "_view_module_version": "1.2.0",
            "_view_name": "LayoutView",
            "align_content": null,
            "align_items": null,
            "align_self": null,
            "border": null,
            "bottom": null,
            "display": null,
            "flex": null,
            "flex_flow": null,
            "grid_area": null,
            "grid_auto_columns": null,
            "grid_auto_flow": null,
            "grid_auto_rows": null,
            "grid_column": null,
            "grid_gap": null,
            "grid_row": null,
            "grid_template_areas": null,
            "grid_template_columns": null,
            "grid_template_rows": null,
            "height": null,
            "justify_content": null,
            "justify_items": null,
            "left": null,
            "margin": null,
            "max_height": null,
            "max_width": null,
            "min_height": null,
            "min_width": null,
            "object_fit": null,
            "object_position": null,
            "order": null,
            "overflow": null,
            "overflow_x": null,
            "overflow_y": null,
            "padding": null,
            "right": null,
            "top": null,
            "visibility": null,
            "width": null
          }
        },
        "d035e64465af4d6cac797ace4fc2a743": {
          "model_module": "@jupyter-widgets/controls",
          "model_name": "ProgressStyleModel",
          "model_module_version": "1.5.0",
          "state": {
            "_model_module": "@jupyter-widgets/controls",
            "_model_module_version": "1.5.0",
            "_model_name": "ProgressStyleModel",
            "_view_count": null,
            "_view_module": "@jupyter-widgets/base",
            "_view_module_version": "1.2.0",
            "_view_name": "StyleView",
            "bar_color": null,
            "description_width": ""
          }
        },
        "f9ee09c0f0f0444589cee9880c63a317": {
          "model_module": "@jupyter-widgets/base",
          "model_name": "LayoutModel",
          "model_module_version": "1.2.0",
          "state": {
            "_model_module": "@jupyter-widgets/base",
            "_model_module_version": "1.2.0",
            "_model_name": "LayoutModel",
            "_view_count": null,
            "_view_module": "@jupyter-widgets/base",
            "_view_module_version": "1.2.0",
            "_view_name": "LayoutView",
            "align_content": null,
            "align_items": null,
            "align_self": null,
            "border": null,
            "bottom": null,
            "display": null,
            "flex": null,
            "flex_flow": null,
            "grid_area": null,
            "grid_auto_columns": null,
            "grid_auto_flow": null,
            "grid_auto_rows": null,
            "grid_column": null,
            "grid_gap": null,
            "grid_row": null,
            "grid_template_areas": null,
            "grid_template_columns": null,
            "grid_template_rows": null,
            "height": null,
            "justify_content": null,
            "justify_items": null,
            "left": null,
            "margin": null,
            "max_height": null,
            "max_width": null,
            "min_height": null,
            "min_width": null,
            "object_fit": null,
            "object_position": null,
            "order": null,
            "overflow": null,
            "overflow_x": null,
            "overflow_y": null,
            "padding": null,
            "right": null,
            "top": null,
            "visibility": null,
            "width": null
          }
        },
        "94fff22edf7045dca380106f0ccfd78b": {
          "model_module": "@jupyter-widgets/controls",
          "model_name": "DescriptionStyleModel",
          "model_module_version": "1.5.0",
          "state": {
            "_model_module": "@jupyter-widgets/controls",
            "_model_module_version": "1.5.0",
            "_model_name": "DescriptionStyleModel",
            "_view_count": null,
            "_view_module": "@jupyter-widgets/base",
            "_view_module_version": "1.2.0",
            "_view_name": "StyleView",
            "description_width": ""
          }
        },
        "932a7d834bc74bba9e4ece67bfcdc125": {
          "model_module": "nglview-js-widgets",
          "model_name": "NGLModel",
          "model_module_version": "3.0.8",
          "state": {
            "_camera_orientation": [
              -1.6038866104543532,
              -54.807226379275335,
              21.761816671946303,
              0,
              -2.950654957303075,
              -21.668005952828715,
              -54.78843248226033,
              0,
              58.89569053483985,
              -2.5781068928230977,
              -2.15225040026238,
              0,
              1.557499885559082,
              -0.6630635261535645,
              0.44186830520629883,
              1
            ],
            "_camera_str": "orthographic",
            "_dom_classes": [],
            "_gui_theme": null,
            "_ibtn_fullscreen": "IPY_MODEL_de2da28277634e7e9cad4a30aaf78e47",
            "_igui": null,
            "_iplayer": "IPY_MODEL_16d7968bd594414f9c96fad917609043",
            "_model_module": "nglview-js-widgets",
            "_model_module_version": "3.0.8",
            "_model_name": "NGLModel",
            "_ngl_color_dict": {},
            "_ngl_coordinate_resource": {},
            "_ngl_full_stage_parameters": {
              "impostor": true,
              "quality": "medium",
              "workerDefault": true,
              "sampleLevel": 0,
              "backgroundColor": "white",
              "rotateSpeed": 2,
              "zoomSpeed": 1.2,
              "panSpeed": 1,
              "clipNear": 0,
              "clipFar": 100,
              "clipDist": 10,
              "clipMode": "scene",
              "clipScale": "relative",
              "fogNear": 50,
              "fogFar": 100,
              "cameraFov": 40,
              "cameraEyeSep": 0.3,
              "cameraType": "perspective",
              "lightColor": 14540253,
              "lightIntensity": 1,
              "ambientColor": 14540253,
              "ambientIntensity": 0.2,
              "hoverTimeout": 0,
              "tooltip": true,
              "mousePreset": "default"
            },
            "_ngl_msg_archive": [
              {
                "target": "Stage",
                "type": "call_method",
                "methodName": "loadFile",
                "reconstruc_color_scheme": false,
                "args": [
                  {
                    "type": "blob",
                    "data": "REMARK   1 CREATED WITH MDTraj 1.10.0, 2024-06-11\nCRYST1   46.599   46.599   46.599  90.00  90.00  90.00 P 1           1 \nMODEL        0\nATOM      1  CA  GLU A   1     -15.943   2.140  -7.729  1.00  0.00           C  \nATOM      2  CA  GLN A   2     -12.228   1.849  -8.937  1.00  0.00           C  \nATOM      3  CA  TYR A   3     -12.193  -1.907  -9.757  1.00  0.00           C  \nATOM      4  CA  THR A   4     -14.793  -4.688 -10.544  1.00  0.00           C  \nATOM      5  CA  ALA A   5     -14.755  -6.147  -7.023  1.00  0.00           C  \nATOM      6  CA  LYS A   6     -13.800  -3.217  -4.611  1.00  0.00           C  \nATOM      7  CA  TYR A   7     -11.377  -4.104  -1.770  1.00  0.00           C  \nATOM      8  CA  LYS A   8     -10.422  -1.719   1.010  1.00  0.00           C  \nATOM      9  CA  GLY A   9      -7.076  -3.132   1.736  1.00  0.00           C  \nATOM     10  CA  ARG A  10      -3.655  -3.472   0.166  1.00  0.00           C  \nATOM     11  CA  THR A  11      -2.344  -6.323  -2.084  1.00  0.00           C  \nATOM     12  CA  PHE A  12       1.188  -4.932  -2.603  1.00  0.00           C  \nATOM     13  CA  ARG A  13       3.908  -4.288   0.143  1.00  0.00           C  \nATOM     14  CA  ASN A  14       7.660  -4.715   0.127  1.00  0.00           C  \nATOM     15  CA  GLU A  15       8.610  -6.799   3.237  1.00  0.00           C  \nATOM     16  CA  LYS A  16      12.290  -6.181   2.656  1.00  0.00           C  \nATOM     17  CA  GLU A  17      12.028  -2.390   2.839  1.00  0.00           C  \nATOM     18  CA  LEU A  18      10.646  -0.099   5.578  1.00  0.00           C  \nATOM     19  CA  ARG A  19      10.087   2.868   3.099  1.00  0.00           C  \nATOM     20  CA  ASP A  20       6.523   2.586   1.924  1.00  0.00           C  \nATOM     21  CA  PHE A  21       4.836   4.174  -1.111  1.00  0.00           C  \nATOM     22  CA  ILE A  22       1.347   4.101   0.653  1.00  0.00           C  \nATOM     23  CA  GLU A  23       2.114   5.011   4.228  1.00  0.00           C  \nATOM     24  CA  LYS A  24       4.786   7.249   2.689  1.00  0.00           C  \nATOM     25  CA  PHE A  25       4.188   9.797   5.613  1.00  0.00           C  \nATOM     26  CA  LYS A  26       6.281   7.437   7.794  1.00  0.00           C  \nATOM     27  CA  GLY A  27       9.264   8.805   5.858  1.00  0.00           C  \nATOM     28  CA  ARG A  28      12.828   8.095   6.820  1.00  0.00           C  \nTER      29      ARG A  28\nENDMDL\nEND\n",
                    "binary": false
                  }
                ],
                "kwargs": {
                  "name": "nglview.adaptor.MDTrajTrajectory",
                  "defaultRepresentation": true,
                  "ext": "pdb"
                }
              },
              {
                "target": "Stage",
                "type": "call_method",
                "methodName": "loadFile",
                "reconstruc_color_scheme": false,
                "args": [
                  {
                    "type": "blob",
                    "data": "MODEL        0\nATOM      1  CA  GLU A   1      -8.344   0.029  -0.023  1.00  0.00           C  \nATOM      2  CA  GLN A   2     -10.125   1.195  -0.870  1.00  0.00           C  \nATOM      3  CA  TYR A   3      -8.181  -2.572  -0.327  1.00  0.00           C  \nATOM      4  CA  THR A   4      -9.992  -0.274  -0.222  1.00  0.00           C  \nATOM      5  CA  ALA A   5      -7.592  -1.397  -6.473  1.00  0.00           C  \nATOM      6  CA  LYS A   6      -4.902   0.273  -8.781  1.00  0.00           C  \nATOM      7  CA  TYR A   7      -7.328  -4.003  -6.902  1.00  0.00           C  \nATOM      8  CA  LYS A   8     -10.659  -5.863  -5.300  1.00  0.00           C  \nATOM      9  CA  GLY A   9      -8.151  -6.775  -8.101  1.00  0.00           C  \nATOM     10  CA  ARG A  10      -5.946  -6.563  -7.544  1.00  0.00           C  \nATOM     11  CA  THR A  11      -2.672  -7.986  -4.428  1.00  0.00           C  \nATOM     12  CA  PHE A  12      -0.231  -7.198  -2.956  1.00  0.00           C  \nATOM     13  CA  ARG A  13      -0.031  -9.669  -2.538  1.00  0.00           C  \nATOM     14  CA  ASN A  14       1.456 -11.962  -1.648  1.00  0.00           C  \nATOM     15  CA  GLU A  15       6.675  -9.115   2.523  1.00  0.00           C  \nATOM     16  CA  LYS A  16       7.208  -6.056   0.882  1.00  0.00           C  \nATOM     17  CA  GLU A  17       6.453  -2.719   2.189  1.00  0.00           C  \nATOM     18  CA  LEU A  18       6.123  -1.094   5.054  1.00  0.00           C  \nATOM     19  CA  ARG A  19       8.038   0.884   8.094  1.00  0.00           C  \nATOM     20  CA  ASP A  20       5.831   2.307   9.591  1.00  0.00           C  \nATOM     21  CA  PHE A  21       4.076   5.165   8.516  1.00  0.00           C  \nATOM     22  CA  ILE A  22       3.575   5.885   7.986  1.00  0.00           C  \nATOM     23  CA  GLU A  23       4.484   7.784   6.873  1.00  0.00           C  \nATOM     24  CA  LYS A  24       3.937  10.299   6.961  1.00  0.00           C  \nATOM     25  CA  PHE A  25       3.461  12.491   2.710  1.00  0.00           C  \nATOM     26  CA  LYS A  26       5.872  11.350   0.427  1.00  0.00           C  \nATOM     27  CA  GLY A  27       8.227  12.318  -0.983  1.00  0.00           C  \nATOM     28  CA  ARG A  28       8.737  13.268  -4.708  1.00  0.00           C  \nTER      29      ARG A  28\nENDMDL\nEND\n",
                    "binary": false
                  }
                ],
                "kwargs": {
                  "defaultRepresentation": true,
                  "ext": "pdb"
                }
              },
              {
                "component_index": 0,
                "target": "compList",
                "type": "call_method",
                "methodName": "removeAllRepresentations",
                "reconstruc_color_scheme": false,
                "args": [],
                "kwargs": {}
              },
              {
                "component_index": 0,
                "target": "compList",
                "type": "call_method",
                "methodName": "addRepresentation",
                "reconstruc_color_scheme": false,
                "args": [
                  "ball+stick"
                ],
                "kwargs": {
                  "sele": "all",
                  "color": "blue"
                }
              },
              {
                "component_index": 1,
                "target": "compList",
                "type": "call_method",
                "methodName": "removeAllRepresentations",
                "reconstruc_color_scheme": false,
                "args": [],
                "kwargs": {}
              },
              {
                "component_index": 1,
                "target": "compList",
                "type": "call_method",
                "methodName": "addRepresentation",
                "reconstruc_color_scheme": false,
                "args": [
                  "ball+stick"
                ],
                "kwargs": {
                  "sele": "all",
                  "color": "red"
                }
              }
            ],
            "_ngl_original_stage_parameters": {
              "impostor": true,
              "quality": "medium",
              "workerDefault": true,
              "sampleLevel": 0,
              "backgroundColor": "white",
              "rotateSpeed": 2,
              "zoomSpeed": 1.2,
              "panSpeed": 1,
              "clipNear": 0,
              "clipFar": 100,
              "clipDist": 10,
              "clipMode": "scene",
              "clipScale": "relative",
              "fogNear": 50,
              "fogFar": 100,
              "cameraFov": 40,
              "cameraEyeSep": 0.3,
              "cameraType": "perspective",
              "lightColor": 14540253,
              "lightIntensity": 1,
              "ambientColor": 14540253,
              "ambientIntensity": 0.2,
              "hoverTimeout": 0,
              "tooltip": true,
              "mousePreset": "default"
            },
            "_ngl_repr_dict": {
              "0": {
                "0": {
                  "type": "ball+stick",
                  "params": {
                    "lazy": false,
                    "visible": true,
                    "quality": "medium",
                    "sphereDetail": 1,
                    "radialSegments": 10,
                    "openEnded": true,
                    "disableImpostor": false,
                    "aspectRatio": 2,
                    "lineOnly": false,
                    "cylinderOnly": false,
                    "multipleBond": "off",
                    "bondScale": 0.4,
                    "bondSpacing": 1,
                    "linewidth": 2,
                    "radiusType": "size",
                    "radiusData": {},
                    "radiusSize": 0.15,
                    "radiusScale": 1,
                    "assembly": "default",
                    "defaultAssembly": "",
                    "clipNear": 0,
                    "clipRadius": 0,
                    "clipCenter": {
                      "x": 0,
                      "y": 0,
                      "z": 0
                    },
                    "flatShaded": false,
                    "opacity": 1,
                    "depthWrite": true,
                    "side": "double",
                    "wireframe": false,
                    "colorScheme": "uniform",
                    "colorScale": "",
                    "colorReverse": false,
                    "colorValue": 255,
                    "colorMode": "hcl",
                    "roughness": 0.4,
                    "metalness": 0,
                    "diffuse": 16777215,
                    "diffuseInterior": false,
                    "useInteriorColor": true,
                    "interiorColor": 2236962,
                    "interiorDarkening": 0,
                    "matrix": {
                      "elements": [
                        1,
                        0,
                        0,
                        0,
                        0,
                        1,
                        0,
                        0,
                        0,
                        0,
                        1,
                        0,
                        0,
                        0,
                        0,
                        1
                      ]
                    },
                    "disablePicking": false,
                    "sele": "all"
                  }
                },
                "1": {
                  "type": "ball+stick",
                  "params": {
                    "lazy": false,
                    "visible": true,
                    "quality": "medium",
                    "sphereDetail": 1,
                    "radialSegments": 10,
                    "openEnded": true,
                    "disableImpostor": false,
                    "aspectRatio": 2,
                    "lineOnly": false,
                    "cylinderOnly": false,
                    "multipleBond": "off",
                    "bondScale": 0.4,
                    "bondSpacing": 1,
                    "linewidth": 2,
                    "radiusType": "size",
                    "radiusData": {},
                    "radiusSize": 0.15,
                    "radiusScale": 1,
                    "assembly": "default",
                    "defaultAssembly": "",
                    "clipNear": 0,
                    "clipRadius": 0,
                    "clipCenter": {
                      "x": 0,
                      "y": 0,
                      "z": 0
                    },
                    "flatShaded": false,
                    "opacity": 1,
                    "depthWrite": true,
                    "side": "double",
                    "wireframe": false,
                    "colorScheme": "uniform",
                    "colorScale": "",
                    "colorReverse": false,
                    "colorValue": 255,
                    "colorMode": "hcl",
                    "roughness": 0.4,
                    "metalness": 0,
                    "diffuse": 16777215,
                    "diffuseInterior": false,
                    "useInteriorColor": true,
                    "interiorColor": 2236962,
                    "interiorDarkening": 0,
                    "matrix": {
                      "elements": [
                        1,
                        0,
                        0,
                        0,
                        0,
                        1,
                        0,
                        0,
                        0,
                        0,
                        1,
                        0,
                        0,
                        0,
                        0,
                        1
                      ]
                    },
                    "disablePicking": false,
                    "sele": "all"
                  }
                }
              },
              "1": {
                "0": {
                  "type": "ball+stick",
                  "params": {
                    "lazy": false,
                    "visible": true,
                    "quality": "medium",
                    "sphereDetail": 1,
                    "radialSegments": 10,
                    "openEnded": true,
                    "disableImpostor": false,
                    "aspectRatio": 2,
                    "lineOnly": false,
                    "cylinderOnly": false,
                    "multipleBond": "off",
                    "bondScale": 0.4,
                    "bondSpacing": 1,
                    "linewidth": 2,
                    "radiusType": "size",
                    "radiusData": {},
                    "radiusSize": 0.15,
                    "radiusScale": 1,
                    "assembly": "default",
                    "defaultAssembly": "",
                    "clipNear": 0,
                    "clipRadius": 0,
                    "clipCenter": {
                      "x": 0,
                      "y": 0,
                      "z": 0
                    },
                    "flatShaded": false,
                    "opacity": 1,
                    "depthWrite": true,
                    "side": "double",
                    "wireframe": false,
                    "colorScheme": "uniform",
                    "colorScale": "",
                    "colorReverse": false,
                    "colorValue": 16711680,
                    "colorMode": "hcl",
                    "roughness": 0.4,
                    "metalness": 0,
                    "diffuse": 16777215,
                    "diffuseInterior": false,
                    "useInteriorColor": true,
                    "interiorColor": 2236962,
                    "interiorDarkening": 0,
                    "matrix": {
                      "elements": [
                        1,
                        0,
                        0,
                        0,
                        0,
                        1,
                        0,
                        0,
                        0,
                        0,
                        1,
                        0,
                        0,
                        0,
                        0,
                        1
                      ]
                    },
                    "disablePicking": false,
                    "sele": "all"
                  }
                },
                "1": {
                  "type": "ball+stick",
                  "params": {
                    "lazy": false,
                    "visible": true,
                    "quality": "medium",
                    "sphereDetail": 1,
                    "radialSegments": 10,
                    "openEnded": true,
                    "disableImpostor": false,
                    "aspectRatio": 2,
                    "lineOnly": false,
                    "cylinderOnly": false,
                    "multipleBond": "off",
                    "bondScale": 0.4,
                    "bondSpacing": 1,
                    "linewidth": 2,
                    "radiusType": "size",
                    "radiusData": {},
                    "radiusSize": 0.15,
                    "radiusScale": 1,
                    "assembly": "default",
                    "defaultAssembly": "",
                    "clipNear": 0,
                    "clipRadius": 0,
                    "clipCenter": {
                      "x": 0,
                      "y": 0,
                      "z": 0
                    },
                    "flatShaded": false,
                    "opacity": 1,
                    "depthWrite": true,
                    "side": "double",
                    "wireframe": false,
                    "colorScheme": "uniform",
                    "colorScale": "",
                    "colorReverse": false,
                    "colorValue": 16711680,
                    "colorMode": "hcl",
                    "roughness": 0.4,
                    "metalness": 0,
                    "diffuse": 16777215,
                    "diffuseInterior": false,
                    "useInteriorColor": true,
                    "interiorColor": 2236962,
                    "interiorDarkening": 0,
                    "matrix": {
                      "elements": [
                        1,
                        0,
                        0,
                        0,
                        0,
                        1,
                        0,
                        0,
                        0,
                        0,
                        1,
                        0,
                        0,
                        0,
                        0,
                        1
                      ]
                    },
                    "disablePicking": false,
                    "sele": "all"
                  }
                }
              },
              "2": {
                "0": {
                  "type": "cartoon",
                  "params": {
                    "lazy": false,
                    "visible": true,
                    "quality": "high",
                    "aspectRatio": 5,
                    "subdiv": 6,
                    "radialSegments": 20,
                    "tension": null,
                    "capped": true,
                    "smoothSheet": false,
                    "radiusType": "sstruc",
                    "radiusData": {},
                    "radiusSize": 1,
                    "radiusScale": 0.7,
                    "assembly": "default",
                    "defaultAssembly": "",
                    "clipNear": 0,
                    "clipRadius": 0,
                    "clipCenter": {
                      "x": 0,
                      "y": 0,
                      "z": 0
                    },
                    "flatShaded": false,
                    "opacity": 1,
                    "depthWrite": true,
                    "side": "double",
                    "wireframe": false,
                    "colorScheme": "residueindex",
                    "colorScale": "spectral",
                    "colorReverse": true,
                    "colorValue": 9474192,
                    "colorMode": "hcl",
                    "roughness": 0.4,
                    "metalness": 0,
                    "diffuse": 16777215,
                    "diffuseInterior": false,
                    "useInteriorColor": true,
                    "interiorColor": 2236962,
                    "interiorDarkening": 0,
                    "matrix": {
                      "elements": [
                        1,
                        0,
                        0,
                        0,
                        0,
                        1,
                        0,
                        0,
                        0,
                        0,
                        1,
                        0,
                        0,
                        0,
                        0,
                        1
                      ]
                    },
                    "disablePicking": false,
                    "sele": ""
                  }
                },
                "1": {
                  "type": "base",
                  "params": {
                    "lazy": false,
                    "visible": true,
                    "quality": "high",
                    "sphereDetail": 2,
                    "radialSegments": 20,
                    "openEnded": true,
                    "disableImpostor": false,
                    "aspectRatio": 1,
                    "lineOnly": false,
                    "cylinderOnly": false,
                    "bondScale": 0.4,
                    "linewidth": 2,
                    "radiusType": "size",
                    "radiusData": {},
                    "radiusSize": 0.3,
                    "radiusScale": 1,
                    "assembly": "default",
                    "defaultAssembly": "",
                    "clipNear": 0,
                    "clipRadius": 0,
                    "clipCenter": {
                      "x": 0,
                      "y": 0,
                      "z": 0
                    },
                    "flatShaded": false,
                    "opacity": 1,
                    "depthWrite": true,
                    "side": "double",
                    "wireframe": false,
                    "colorScheme": "residueindex",
                    "colorScale": "spectral",
                    "colorReverse": true,
                    "colorValue": 9474192,
                    "colorMode": "hcl",
                    "roughness": 0.4,
                    "metalness": 0,
                    "diffuse": 16777215,
                    "diffuseInterior": false,
                    "useInteriorColor": true,
                    "interiorColor": 2236962,
                    "interiorDarkening": 0,
                    "matrix": {
                      "elements": [
                        1,
                        0,
                        0,
                        0,
                        0,
                        1,
                        0,
                        0,
                        0,
                        0,
                        1,
                        0,
                        0,
                        0,
                        0,
                        1
                      ]
                    },
                    "disablePicking": false,
                    "sele": ""
                  }
                },
                "2": {
                  "type": "ball+stick",
                  "params": {
                    "lazy": false,
                    "visible": true,
                    "quality": "high",
                    "sphereDetail": 2,
                    "radialSegments": 20,
                    "openEnded": true,
                    "disableImpostor": false,
                    "aspectRatio": 1.5,
                    "lineOnly": false,
                    "cylinderOnly": false,
                    "multipleBond": "off",
                    "bondScale": 0.3,
                    "bondSpacing": 0.75,
                    "linewidth": 2,
                    "radiusType": "size",
                    "radiusData": {},
                    "radiusSize": 0.15,
                    "radiusScale": 2,
                    "assembly": "default",
                    "defaultAssembly": "",
                    "clipNear": 0,
                    "clipRadius": 0,
                    "clipCenter": {
                      "x": 0,
                      "y": 0,
                      "z": 0
                    },
                    "flatShaded": false,
                    "opacity": 1,
                    "depthWrite": true,
                    "side": "double",
                    "wireframe": false,
                    "colorScheme": "element",
                    "colorScale": "",
                    "colorReverse": false,
                    "colorValue": 9474192,
                    "colorMode": "hcl",
                    "roughness": 0.4,
                    "metalness": 0,
                    "diffuse": 16777215,
                    "diffuseInterior": false,
                    "useInteriorColor": true,
                    "interiorColor": 2236962,
                    "interiorDarkening": 0,
                    "matrix": {
                      "elements": [
                        1,
                        0,
                        0,
                        0,
                        0,
                        1,
                        0,
                        0,
                        0,
                        0,
                        1,
                        0,
                        0,
                        0,
                        0,
                        1
                      ]
                    },
                    "disablePicking": false,
                    "sele": "ligand"
                  }
                }
              },
              "3": {
                "0": {
                  "type": "cartoon",
                  "params": {
                    "lazy": false,
                    "visible": true,
                    "quality": "high",
                    "aspectRatio": 5,
                    "subdiv": 6,
                    "radialSegments": 20,
                    "tension": null,
                    "capped": true,
                    "smoothSheet": false,
                    "radiusType": "sstruc",
                    "radiusData": {},
                    "radiusSize": 1,
                    "radiusScale": 0.7,
                    "assembly": "default",
                    "defaultAssembly": "",
                    "clipNear": 0,
                    "clipRadius": 0,
                    "clipCenter": {
                      "x": 0,
                      "y": 0,
                      "z": 0
                    },
                    "flatShaded": false,
                    "opacity": 1,
                    "depthWrite": true,
                    "side": "double",
                    "wireframe": false,
                    "colorScheme": "residueindex",
                    "colorScale": "spectral",
                    "colorReverse": true,
                    "colorValue": 9474192,
                    "colorMode": "hcl",
                    "roughness": 0.4,
                    "metalness": 0,
                    "diffuse": 16777215,
                    "diffuseInterior": false,
                    "useInteriorColor": true,
                    "interiorColor": 2236962,
                    "interiorDarkening": 0,
                    "matrix": {
                      "elements": [
                        1,
                        0,
                        0,
                        0,
                        0,
                        1,
                        0,
                        0,
                        0,
                        0,
                        1,
                        0,
                        0,
                        0,
                        0,
                        1
                      ]
                    },
                    "disablePicking": false,
                    "sele": ""
                  }
                },
                "1": {
                  "type": "base",
                  "params": {
                    "lazy": false,
                    "visible": true,
                    "quality": "high",
                    "sphereDetail": 2,
                    "radialSegments": 20,
                    "openEnded": true,
                    "disableImpostor": false,
                    "aspectRatio": 1,
                    "lineOnly": false,
                    "cylinderOnly": false,
                    "bondScale": 0.4,
                    "linewidth": 2,
                    "radiusType": "size",
                    "radiusData": {},
                    "radiusSize": 0.3,
                    "radiusScale": 1,
                    "assembly": "default",
                    "defaultAssembly": "",
                    "clipNear": 0,
                    "clipRadius": 0,
                    "clipCenter": {
                      "x": 0,
                      "y": 0,
                      "z": 0
                    },
                    "flatShaded": false,
                    "opacity": 1,
                    "depthWrite": true,
                    "side": "double",
                    "wireframe": false,
                    "colorScheme": "residueindex",
                    "colorScale": "spectral",
                    "colorReverse": true,
                    "colorValue": 9474192,
                    "colorMode": "hcl",
                    "roughness": 0.4,
                    "metalness": 0,
                    "diffuse": 16777215,
                    "diffuseInterior": false,
                    "useInteriorColor": true,
                    "interiorColor": 2236962,
                    "interiorDarkening": 0,
                    "matrix": {
                      "elements": [
                        1,
                        0,
                        0,
                        0,
                        0,
                        1,
                        0,
                        0,
                        0,
                        0,
                        1,
                        0,
                        0,
                        0,
                        0,
                        1
                      ]
                    },
                    "disablePicking": false,
                    "sele": ""
                  }
                },
                "2": {
                  "type": "ball+stick",
                  "params": {
                    "lazy": false,
                    "visible": true,
                    "quality": "high",
                    "sphereDetail": 2,
                    "radialSegments": 20,
                    "openEnded": true,
                    "disableImpostor": false,
                    "aspectRatio": 1.5,
                    "lineOnly": false,
                    "cylinderOnly": false,
                    "multipleBond": "off",
                    "bondScale": 0.3,
                    "bondSpacing": 0.75,
                    "linewidth": 2,
                    "radiusType": "size",
                    "radiusData": {},
                    "radiusSize": 0.15,
                    "radiusScale": 2,
                    "assembly": "default",
                    "defaultAssembly": "",
                    "clipNear": 0,
                    "clipRadius": 0,
                    "clipCenter": {
                      "x": 0,
                      "y": 0,
                      "z": 0
                    },
                    "flatShaded": false,
                    "opacity": 1,
                    "depthWrite": true,
                    "side": "double",
                    "wireframe": false,
                    "colorScheme": "element",
                    "colorScale": "",
                    "colorReverse": false,
                    "colorValue": 9474192,
                    "colorMode": "hcl",
                    "roughness": 0.4,
                    "metalness": 0,
                    "diffuse": 16777215,
                    "diffuseInterior": false,
                    "useInteriorColor": true,
                    "interiorColor": 2236962,
                    "interiorDarkening": 0,
                    "matrix": {
                      "elements": [
                        1,
                        0,
                        0,
                        0,
                        0,
                        1,
                        0,
                        0,
                        0,
                        0,
                        1,
                        0,
                        0,
                        0,
                        0,
                        1
                      ]
                    },
                    "disablePicking": false,
                    "sele": "ligand"
                  }
                }
              }
            },
            "_ngl_serialize": false,
            "_ngl_version": "2.0.0-dev.39",
            "_ngl_view_id": [
              "749A1E79-9096-4D40-AE60-20DB11E0B0F8"
            ],
            "_player_dict": {},
            "_scene_position": {},
            "_scene_rotation": {},
            "_synced_model_ids": [],
            "_synced_repr_model_ids": [],
            "_view_count": null,
            "_view_height": "",
            "_view_module": "nglview-js-widgets",
            "_view_module_version": "3.0.8",
            "_view_name": "NGLView",
            "_view_width": "",
            "background": "white",
            "frame": 8,
            "gui_style": null,
            "layout": "IPY_MODEL_e7908a8f428a423e828749d0b98bc7a3",
            "max_frame": 9,
            "n_components": 4,
            "picked": {}
          }
        },
        "e7908a8f428a423e828749d0b98bc7a3": {
          "model_module": "@jupyter-widgets/base",
          "model_name": "LayoutModel",
          "model_module_version": "1.2.0",
          "state": {
            "_model_module": "@jupyter-widgets/base",
            "_model_module_version": "1.2.0",
            "_model_name": "LayoutModel",
            "_view_count": null,
            "_view_module": "@jupyter-widgets/base",
            "_view_module_version": "1.2.0",
            "_view_name": "LayoutView",
            "align_content": null,
            "align_items": null,
            "align_self": null,
            "border": null,
            "bottom": null,
            "display": null,
            "flex": null,
            "flex_flow": null,
            "grid_area": null,
            "grid_auto_columns": null,
            "grid_auto_flow": null,
            "grid_auto_rows": null,
            "grid_column": null,
            "grid_gap": null,
            "grid_row": null,
            "grid_template_areas": null,
            "grid_template_columns": null,
            "grid_template_rows": null,
            "height": null,
            "justify_content": null,
            "justify_items": null,
            "left": null,
            "margin": null,
            "max_height": null,
            "max_width": null,
            "min_height": null,
            "min_width": null,
            "object_fit": null,
            "object_position": null,
            "order": null,
            "overflow": null,
            "overflow_x": null,
            "overflow_y": null,
            "padding": null,
            "right": null,
            "top": null,
            "visibility": null,
            "width": null
          }
        },
        "de2da28277634e7e9cad4a30aaf78e47": {
          "model_module": "@jupyter-widgets/controls",
          "model_name": "ButtonModel",
          "model_module_version": "1.5.0",
          "state": {
            "_dom_classes": [],
            "_model_module": "@jupyter-widgets/controls",
            "_model_module_version": "1.5.0",
            "_model_name": "ButtonModel",
            "_view_count": null,
            "_view_module": "@jupyter-widgets/controls",
            "_view_module_version": "1.5.0",
            "_view_name": "ButtonView",
            "button_style": "",
            "description": "",
            "disabled": false,
            "icon": "compress",
            "layout": "IPY_MODEL_a0cf6b3f822c46268c3eb120618dcdce",
            "style": "IPY_MODEL_73e5abf2bc9d4434a450f60a8b749b30",
            "tooltip": ""
          }
        },
        "16d7968bd594414f9c96fad917609043": {
          "model_module": "@jupyter-widgets/controls",
          "model_name": "HBoxModel",
          "model_module_version": "1.5.0",
          "state": {
            "_dom_classes": [],
            "_model_module": "@jupyter-widgets/controls",
            "_model_module_version": "1.5.0",
            "_model_name": "HBoxModel",
            "_view_count": null,
            "_view_module": "@jupyter-widgets/controls",
            "_view_module_version": "1.5.0",
            "_view_name": "HBoxView",
            "box_style": "",
            "children": [
              "IPY_MODEL_8a98c95c177c444d8479073cea338d1a",
              "IPY_MODEL_5f78dcda1cff40efbb655e5c74a2e08d"
            ],
            "layout": "IPY_MODEL_b633cc93c97143e2bc3681f14482df8c"
          }
        },
        "b1e60d94fe6e40f2b3e4b1f7760e36ec": {
          "model_module": "@jupyter-widgets/base",
          "model_name": "LayoutModel",
          "model_module_version": "1.2.0",
          "state": {
            "_model_module": "@jupyter-widgets/base",
            "_model_module_version": "1.2.0",
            "_model_name": "LayoutModel",
            "_view_count": null,
            "_view_module": "@jupyter-widgets/base",
            "_view_module_version": "1.2.0",
            "_view_name": "LayoutView",
            "align_content": null,
            "align_items": null,
            "align_self": null,
            "border": null,
            "bottom": null,
            "display": null,
            "flex": null,
            "flex_flow": null,
            "grid_area": null,
            "grid_auto_columns": null,
            "grid_auto_flow": null,
            "grid_auto_rows": null,
            "grid_column": null,
            "grid_gap": null,
            "grid_row": null,
            "grid_template_areas": null,
            "grid_template_columns": null,
            "grid_template_rows": null,
            "height": null,
            "justify_content": null,
            "justify_items": null,
            "left": null,
            "margin": null,
            "max_height": null,
            "max_width": null,
            "min_height": null,
            "min_width": null,
            "object_fit": null,
            "object_position": null,
            "order": null,
            "overflow": null,
            "overflow_x": null,
            "overflow_y": null,
            "padding": null,
            "right": null,
            "top": null,
            "visibility": null,
            "width": null
          }
        },
        "8937091690994f00a9ef06eb205310fc": {
          "model_module": "@jupyter-widgets/controls",
          "model_name": "DescriptionStyleModel",
          "model_module_version": "1.5.0",
          "state": {
            "_model_module": "@jupyter-widgets/controls",
            "_model_module_version": "1.5.0",
            "_model_name": "DescriptionStyleModel",
            "_view_count": null,
            "_view_module": "@jupyter-widgets/base",
            "_view_module_version": "1.2.0",
            "_view_name": "StyleView",
            "description_width": ""
          }
        },
        "091ace719fff427c9426dcd0fc154f6c": {
          "model_module": "@jupyter-widgets/base",
          "model_name": "LayoutModel",
          "model_module_version": "1.2.0",
          "state": {
            "_model_module": "@jupyter-widgets/base",
            "_model_module_version": "1.2.0",
            "_model_name": "LayoutModel",
            "_view_count": null,
            "_view_module": "@jupyter-widgets/base",
            "_view_module_version": "1.2.0",
            "_view_name": "LayoutView",
            "align_content": null,
            "align_items": null,
            "align_self": null,
            "border": null,
            "bottom": null,
            "display": null,
            "flex": null,
            "flex_flow": null,
            "grid_area": null,
            "grid_auto_columns": null,
            "grid_auto_flow": null,
            "grid_auto_rows": null,
            "grid_column": null,
            "grid_gap": null,
            "grid_row": null,
            "grid_template_areas": null,
            "grid_template_columns": null,
            "grid_template_rows": null,
            "height": null,
            "justify_content": null,
            "justify_items": null,
            "left": null,
            "margin": null,
            "max_height": null,
            "max_width": null,
            "min_height": null,
            "min_width": null,
            "object_fit": null,
            "object_position": null,
            "order": null,
            "overflow": null,
            "overflow_x": null,
            "overflow_y": null,
            "padding": null,
            "right": null,
            "top": null,
            "visibility": null,
            "width": null
          }
        },
        "bf5e77f431424098b2d7f66c49993257": {
          "model_module": "@jupyter-widgets/controls",
          "model_name": "SliderStyleModel",
          "model_module_version": "1.5.0",
          "state": {
            "_model_module": "@jupyter-widgets/controls",
            "_model_module_version": "1.5.0",
            "_model_name": "SliderStyleModel",
            "_view_count": null,
            "_view_module": "@jupyter-widgets/base",
            "_view_module_version": "1.2.0",
            "_view_name": "StyleView",
            "description_width": "",
            "handle_color": null
          }
        },
        "8a98c95c177c444d8479073cea338d1a": {
          "model_module": "@jupyter-widgets/controls",
          "model_name": "PlayModel",
          "model_module_version": "1.5.0",
          "state": {
            "_dom_classes": [],
            "_model_module": "@jupyter-widgets/controls",
            "_model_module_version": "1.5.0",
            "_model_name": "PlayModel",
            "_playing": false,
            "_repeat": false,
            "_view_count": null,
            "_view_module": "@jupyter-widgets/controls",
            "_view_module_version": "1.5.0",
            "_view_name": "PlayView",
            "description": "",
            "description_tooltip": null,
            "disabled": false,
            "interval": 100,
            "layout": "IPY_MODEL_b1e60d94fe6e40f2b3e4b1f7760e36ec",
            "max": 9,
            "min": 0,
            "show_repeat": true,
            "step": 1,
            "style": "IPY_MODEL_8937091690994f00a9ef06eb205310fc",
            "value": 8,
            "playing": false
          }
        },
        "5f78dcda1cff40efbb655e5c74a2e08d": {
          "model_module": "@jupyter-widgets/controls",
          "model_name": "IntSliderModel",
          "model_module_version": "1.5.0",
          "state": {
            "_dom_classes": [],
            "_model_module": "@jupyter-widgets/controls",
            "_model_module_version": "1.5.0",
            "_model_name": "IntSliderModel",
            "_view_count": null,
            "_view_module": "@jupyter-widgets/controls",
            "_view_module_version": "1.5.0",
            "_view_name": "IntSliderView",
            "continuous_update": true,
            "description": "",
            "description_tooltip": null,
            "disabled": false,
            "layout": "IPY_MODEL_091ace719fff427c9426dcd0fc154f6c",
            "max": 9,
            "min": 0,
            "orientation": "horizontal",
            "readout": true,
            "readout_format": "d",
            "step": 1,
            "style": "IPY_MODEL_bf5e77f431424098b2d7f66c49993257",
            "value": 8
          }
        },
        "a0cf6b3f822c46268c3eb120618dcdce": {
          "model_module": "@jupyter-widgets/base",
          "model_name": "LayoutModel",
          "model_module_version": "1.2.0",
          "state": {
            "_model_module": "@jupyter-widgets/base",
            "_model_module_version": "1.2.0",
            "_model_name": "LayoutModel",
            "_view_count": null,
            "_view_module": "@jupyter-widgets/base",
            "_view_module_version": "1.2.0",
            "_view_name": "LayoutView",
            "align_content": null,
            "align_items": null,
            "align_self": null,
            "border": null,
            "bottom": null,
            "display": null,
            "flex": null,
            "flex_flow": null,
            "grid_area": null,
            "grid_auto_columns": null,
            "grid_auto_flow": null,
            "grid_auto_rows": null,
            "grid_column": null,
            "grid_gap": null,
            "grid_row": null,
            "grid_template_areas": null,
            "grid_template_columns": null,
            "grid_template_rows": null,
            "height": null,
            "justify_content": null,
            "justify_items": null,
            "left": null,
            "margin": null,
            "max_height": null,
            "max_width": null,
            "min_height": null,
            "min_width": null,
            "object_fit": null,
            "object_position": null,
            "order": null,
            "overflow": null,
            "overflow_x": null,
            "overflow_y": null,
            "padding": null,
            "right": null,
            "top": null,
            "visibility": null,
            "width": "34px"
          }
        },
        "73e5abf2bc9d4434a450f60a8b749b30": {
          "model_module": "@jupyter-widgets/controls",
          "model_name": "ButtonStyleModel",
          "model_module_version": "1.5.0",
          "state": {
            "_model_module": "@jupyter-widgets/controls",
            "_model_module_version": "1.5.0",
            "_model_name": "ButtonStyleModel",
            "_view_count": null,
            "_view_module": "@jupyter-widgets/base",
            "_view_module_version": "1.2.0",
            "_view_name": "StyleView",
            "button_color": null,
            "font_weight": ""
          }
        },
        "b633cc93c97143e2bc3681f14482df8c": {
          "model_module": "@jupyter-widgets/base",
          "model_name": "LayoutModel",
          "model_module_version": "1.2.0",
          "state": {
            "_model_module": "@jupyter-widgets/base",
            "_model_module_version": "1.2.0",
            "_model_name": "LayoutModel",
            "_view_count": null,
            "_view_module": "@jupyter-widgets/base",
            "_view_module_version": "1.2.0",
            "_view_name": "LayoutView",
            "align_content": null,
            "align_items": null,
            "align_self": null,
            "border": null,
            "bottom": null,
            "display": null,
            "flex": null,
            "flex_flow": null,
            "grid_area": null,
            "grid_auto_columns": null,
            "grid_auto_flow": null,
            "grid_auto_rows": null,
            "grid_column": null,
            "grid_gap": null,
            "grid_row": null,
            "grid_template_areas": null,
            "grid_template_columns": null,
            "grid_template_rows": null,
            "height": null,
            "justify_content": null,
            "justify_items": null,
            "left": null,
            "margin": null,
            "max_height": null,
            "max_width": null,
            "min_height": null,
            "min_width": null,
            "object_fit": null,
            "object_position": null,
            "order": null,
            "overflow": null,
            "overflow_x": null,
            "overflow_y": null,
            "padding": null,
            "right": null,
            "top": null,
            "visibility": null,
            "width": null
          }
        },
        "0503677712f245a1858dbaea23fb5cf1": {
          "model_module": "@jupyter-widgets/controls",
          "model_name": "HBoxModel",
          "model_module_version": "1.5.0",
          "state": {
            "_dom_classes": [],
            "_model_module": "@jupyter-widgets/controls",
            "_model_module_version": "1.5.0",
            "_model_name": "HBoxModel",
            "_view_count": null,
            "_view_module": "@jupyter-widgets/controls",
            "_view_module_version": "1.5.0",
            "_view_name": "HBoxView",
            "box_style": "",
            "children": [
              "IPY_MODEL_7c3966bc9342469fa672e095c07b15d1",
              "IPY_MODEL_f35bbe4ab75c49d19f172d41e65fe58a",
              "IPY_MODEL_3bb569f5430f4419bf36e622e0beb4d4"
            ],
            "layout": "IPY_MODEL_5c39d56279674d56990384b19f829280"
          }
        },
        "7c3966bc9342469fa672e095c07b15d1": {
          "model_module": "@jupyter-widgets/controls",
          "model_name": "HTMLModel",
          "model_module_version": "1.5.0",
          "state": {
            "_dom_classes": [],
            "_model_module": "@jupyter-widgets/controls",
            "_model_module_version": "1.5.0",
            "_model_name": "HTMLModel",
            "_view_count": null,
            "_view_module": "@jupyter-widgets/controls",
            "_view_module_version": "1.5.0",
            "_view_name": "HTMLView",
            "description": "",
            "description_tooltip": null,
            "layout": "IPY_MODEL_439c208e22984fb9ac4d17dcf87be530",
            "placeholder": "​",
            "style": "IPY_MODEL_ac8fd5dc72cd4a2383c4f7ec750da935",
            "value": "sampling loop time step: 100%"
          }
        },
        "f35bbe4ab75c49d19f172d41e65fe58a": {
          "model_module": "@jupyter-widgets/controls",
          "model_name": "FloatProgressModel",
          "model_module_version": "1.5.0",
          "state": {
            "_dom_classes": [],
            "_model_module": "@jupyter-widgets/controls",
            "_model_module_version": "1.5.0",
            "_model_name": "FloatProgressModel",
            "_view_count": null,
            "_view_module": "@jupyter-widgets/controls",
            "_view_module_version": "1.5.0",
            "_view_name": "ProgressView",
            "bar_style": "success",
            "description": "",
            "description_tooltip": null,
            "layout": "IPY_MODEL_e090d681494843808ff145bd2be197f0",
            "max": 1000,
            "min": 0,
            "orientation": "horizontal",
            "style": "IPY_MODEL_8e9f4f69016b45b79416b79eae1f02b6",
            "value": 1000
          }
        },
        "3bb569f5430f4419bf36e622e0beb4d4": {
          "model_module": "@jupyter-widgets/controls",
          "model_name": "HTMLModel",
          "model_module_version": "1.5.0",
          "state": {
            "_dom_classes": [],
            "_model_module": "@jupyter-widgets/controls",
            "_model_module_version": "1.5.0",
            "_model_name": "HTMLModel",
            "_view_count": null,
            "_view_module": "@jupyter-widgets/controls",
            "_view_module_version": "1.5.0",
            "_view_name": "HTMLView",
            "description": "",
            "description_tooltip": null,
            "layout": "IPY_MODEL_5207a12379d2465e8ccfdab6ff0b6160",
            "placeholder": "​",
            "style": "IPY_MODEL_533845d9c5b64836b2a0f775cdb86b63",
            "value": " 1000/1000 [00:34&lt;00:00, 30.61it/s]"
          }
        },
        "5c39d56279674d56990384b19f829280": {
          "model_module": "@jupyter-widgets/base",
          "model_name": "LayoutModel",
          "model_module_version": "1.2.0",
          "state": {
            "_model_module": "@jupyter-widgets/base",
            "_model_module_version": "1.2.0",
            "_model_name": "LayoutModel",
            "_view_count": null,
            "_view_module": "@jupyter-widgets/base",
            "_view_module_version": "1.2.0",
            "_view_name": "LayoutView",
            "align_content": null,
            "align_items": null,
            "align_self": null,
            "border": null,
            "bottom": null,
            "display": null,
            "flex": null,
            "flex_flow": null,
            "grid_area": null,
            "grid_auto_columns": null,
            "grid_auto_flow": null,
            "grid_auto_rows": null,
            "grid_column": null,
            "grid_gap": null,
            "grid_row": null,
            "grid_template_areas": null,
            "grid_template_columns": null,
            "grid_template_rows": null,
            "height": null,
            "justify_content": null,
            "justify_items": null,
            "left": null,
            "margin": null,
            "max_height": null,
            "max_width": null,
            "min_height": null,
            "min_width": null,
            "object_fit": null,
            "object_position": null,
            "order": null,
            "overflow": null,
            "overflow_x": null,
            "overflow_y": null,
            "padding": null,
            "right": null,
            "top": null,
            "visibility": null,
            "width": null
          }
        },
        "439c208e22984fb9ac4d17dcf87be530": {
          "model_module": "@jupyter-widgets/base",
          "model_name": "LayoutModel",
          "model_module_version": "1.2.0",
          "state": {
            "_model_module": "@jupyter-widgets/base",
            "_model_module_version": "1.2.0",
            "_model_name": "LayoutModel",
            "_view_count": null,
            "_view_module": "@jupyter-widgets/base",
            "_view_module_version": "1.2.0",
            "_view_name": "LayoutView",
            "align_content": null,
            "align_items": null,
            "align_self": null,
            "border": null,
            "bottom": null,
            "display": null,
            "flex": null,
            "flex_flow": null,
            "grid_area": null,
            "grid_auto_columns": null,
            "grid_auto_flow": null,
            "grid_auto_rows": null,
            "grid_column": null,
            "grid_gap": null,
            "grid_row": null,
            "grid_template_areas": null,
            "grid_template_columns": null,
            "grid_template_rows": null,
            "height": null,
            "justify_content": null,
            "justify_items": null,
            "left": null,
            "margin": null,
            "max_height": null,
            "max_width": null,
            "min_height": null,
            "min_width": null,
            "object_fit": null,
            "object_position": null,
            "order": null,
            "overflow": null,
            "overflow_x": null,
            "overflow_y": null,
            "padding": null,
            "right": null,
            "top": null,
            "visibility": null,
            "width": null
          }
        },
        "ac8fd5dc72cd4a2383c4f7ec750da935": {
          "model_module": "@jupyter-widgets/controls",
          "model_name": "DescriptionStyleModel",
          "model_module_version": "1.5.0",
          "state": {
            "_model_module": "@jupyter-widgets/controls",
            "_model_module_version": "1.5.0",
            "_model_name": "DescriptionStyleModel",
            "_view_count": null,
            "_view_module": "@jupyter-widgets/base",
            "_view_module_version": "1.2.0",
            "_view_name": "StyleView",
            "description_width": ""
          }
        },
        "e090d681494843808ff145bd2be197f0": {
          "model_module": "@jupyter-widgets/base",
          "model_name": "LayoutModel",
          "model_module_version": "1.2.0",
          "state": {
            "_model_module": "@jupyter-widgets/base",
            "_model_module_version": "1.2.0",
            "_model_name": "LayoutModel",
            "_view_count": null,
            "_view_module": "@jupyter-widgets/base",
            "_view_module_version": "1.2.0",
            "_view_name": "LayoutView",
            "align_content": null,
            "align_items": null,
            "align_self": null,
            "border": null,
            "bottom": null,
            "display": null,
            "flex": null,
            "flex_flow": null,
            "grid_area": null,
            "grid_auto_columns": null,
            "grid_auto_flow": null,
            "grid_auto_rows": null,
            "grid_column": null,
            "grid_gap": null,
            "grid_row": null,
            "grid_template_areas": null,
            "grid_template_columns": null,
            "grid_template_rows": null,
            "height": null,
            "justify_content": null,
            "justify_items": null,
            "left": null,
            "margin": null,
            "max_height": null,
            "max_width": null,
            "min_height": null,
            "min_width": null,
            "object_fit": null,
            "object_position": null,
            "order": null,
            "overflow": null,
            "overflow_x": null,
            "overflow_y": null,
            "padding": null,
            "right": null,
            "top": null,
            "visibility": null,
            "width": null
          }
        },
        "8e9f4f69016b45b79416b79eae1f02b6": {
          "model_module": "@jupyter-widgets/controls",
          "model_name": "ProgressStyleModel",
          "model_module_version": "1.5.0",
          "state": {
            "_model_module": "@jupyter-widgets/controls",
            "_model_module_version": "1.5.0",
            "_model_name": "ProgressStyleModel",
            "_view_count": null,
            "_view_module": "@jupyter-widgets/base",
            "_view_module_version": "1.2.0",
            "_view_name": "StyleView",
            "bar_color": null,
            "description_width": ""
          }
        },
        "5207a12379d2465e8ccfdab6ff0b6160": {
          "model_module": "@jupyter-widgets/base",
          "model_name": "LayoutModel",
          "model_module_version": "1.2.0",
          "state": {
            "_model_module": "@jupyter-widgets/base",
            "_model_module_version": "1.2.0",
            "_model_name": "LayoutModel",
            "_view_count": null,
            "_view_module": "@jupyter-widgets/base",
            "_view_module_version": "1.2.0",
            "_view_name": "LayoutView",
            "align_content": null,
            "align_items": null,
            "align_self": null,
            "border": null,
            "bottom": null,
            "display": null,
            "flex": null,
            "flex_flow": null,
            "grid_area": null,
            "grid_auto_columns": null,
            "grid_auto_flow": null,
            "grid_auto_rows": null,
            "grid_column": null,
            "grid_gap": null,
            "grid_row": null,
            "grid_template_areas": null,
            "grid_template_columns": null,
            "grid_template_rows": null,
            "height": null,
            "justify_content": null,
            "justify_items": null,
            "left": null,
            "margin": null,
            "max_height": null,
            "max_width": null,
            "min_height": null,
            "min_width": null,
            "object_fit": null,
            "object_position": null,
            "order": null,
            "overflow": null,
            "overflow_x": null,
            "overflow_y": null,
            "padding": null,
            "right": null,
            "top": null,
            "visibility": null,
            "width": null
          }
        },
        "533845d9c5b64836b2a0f775cdb86b63": {
          "model_module": "@jupyter-widgets/controls",
          "model_name": "DescriptionStyleModel",
          "model_module_version": "1.5.0",
          "state": {
            "_model_module": "@jupyter-widgets/controls",
            "_model_module_version": "1.5.0",
            "_model_name": "DescriptionStyleModel",
            "_view_count": null,
            "_view_module": "@jupyter-widgets/base",
            "_view_module_version": "1.2.0",
            "_view_name": "StyleView",
            "description_width": ""
          }
        },
        "56e95dc83f684740992a498be4fe55df": {
          "model_module": "nglview-js-widgets",
          "model_name": "NGLModel",
          "model_module_version": "3.0.8",
          "state": {
            "_camera_orientation": [
              -19.778664148143314,
              -13.351726808025392,
              22.28599061520991,
              0,
              25.975434799047008,
              -10.658302908810489,
              16.667540551830506,
              0,
              0.45910070553629495,
              27.825555022143185,
              17.07797576395631,
              0,
              -0.35915517807006836,
              -3.9142065048217773,
              0.3998878002166748,
              1
            ],
            "_camera_str": "orthographic",
            "_dom_classes": [],
            "_gui_theme": null,
            "_ibtn_fullscreen": "IPY_MODEL_7cf4652293d44afeb352430f1b38427a",
            "_igui": null,
            "_iplayer": "IPY_MODEL_e6ac99dee2894b76b2b0c4c39d722ccd",
            "_model_module": "nglview-js-widgets",
            "_model_module_version": "3.0.8",
            "_model_name": "NGLModel",
            "_ngl_color_dict": {},
            "_ngl_coordinate_resource": {},
            "_ngl_full_stage_parameters": {
              "impostor": true,
              "quality": "medium",
              "workerDefault": true,
              "sampleLevel": 0,
              "backgroundColor": "white",
              "rotateSpeed": 2,
              "zoomSpeed": 1.2,
              "panSpeed": 1,
              "clipNear": 0,
              "clipFar": 100,
              "clipDist": 10,
              "clipMode": "scene",
              "clipScale": "relative",
              "fogNear": 50,
              "fogFar": 100,
              "cameraFov": 40,
              "cameraEyeSep": 0.3,
              "cameraType": "perspective",
              "lightColor": 14540253,
              "lightIntensity": 1,
              "ambientColor": 14540253,
              "ambientIntensity": 0.2,
              "hoverTimeout": 0,
              "tooltip": true,
              "mousePreset": "default"
            },
            "_ngl_msg_archive": [
              {
                "target": "Stage",
                "type": "call_method",
                "methodName": "loadFile",
                "reconstruc_color_scheme": false,
                "args": [
                  {
                    "type": "blob",
                    "data": "MODEL        0\nATOM      1  CA  GLU A   1       8.999 -13.148  -3.063  1.00  0.00           C  \nATOM      2  CA  GLN A   2       6.988 -12.035  -1.588  1.00  0.00           C  \nATOM      3  CA  TYR A   3       3.487  -8.980  -0.823  1.00  0.00           C  \nATOM      4  CA  THR A   4       4.419  -9.291   2.001  1.00  0.00           C  \nATOM      5  CA  ALA A   5       5.806  -2.888   0.886  1.00  0.00           C  \nATOM      6  CA  LYS A   6       5.639  -0.077  -0.602  1.00  0.00           C  \nATOM      7  CA  TYR A   7       2.234  -0.498  -3.490  1.00  0.00           C  \nATOM      8  CA  LYS A   8       3.855  -2.354  -3.903  1.00  0.00           C  \nATOM      9  CA  GLY A   9       3.966  -3.332  -5.955  1.00  0.00           C  \nATOM     10  CA  ARG A  10       2.875  -4.940  -1.981  1.00  0.00           C  \nATOM     11  CA  THR A  11       2.165  -8.454  -0.808  1.00  0.00           C  \nATOM     12  CA  PHE A  12       0.450  -9.067   2.014  1.00  0.00           C  \nATOM     13  CA  ARG A  13      -1.667  -7.981   4.924  1.00  0.00           C  \nATOM     14  CA  ASN A  14      -3.299  -3.795   4.568  1.00  0.00           C  \nATOM     15  CA  GLU A  15      -5.597  -3.027   3.742  1.00  0.00           C  \nATOM     16  CA  LYS A  16      -8.163  -2.571   3.442  1.00  0.00           C  \nATOM     17  CA  GLU A  17      -7.063  -2.718   1.303  1.00  0.00           C  \nATOM     18  CA  LEU A  18      -7.023  -1.401  -2.297  1.00  0.00           C  \nATOM     19  CA  ARG A  19      -7.174   0.965  -2.284  1.00  0.00           C  \nATOM     20  CA  ASP A  20      -4.870   1.728  -2.100  1.00  0.00           C  \nATOM     21  CA  PHE A  21      -4.024   3.409  -1.367  1.00  0.00           C  \nATOM     22  CA  ILE A  22      -3.109   3.483  -1.362  1.00  0.00           C  \nATOM     23  CA  GLU A  23      -2.309   7.615   0.531  1.00  0.00           C  \nATOM     24  CA  LYS A  24      -1.361   9.896   2.285  1.00  0.00           C  \nATOM     25  CA  PHE A  25       0.517  13.293   2.476  1.00  0.00           C  \nATOM     26  CA  LYS A  26       1.782  14.564   2.707  1.00  0.00           C  \nATOM     27  CA  GLY A  27       3.466  20.539   2.054  1.00  0.00           C  \nATOM     28  CA  ARG A  28       3.242  19.355   5.180  1.00  0.00           C  \nTER      29      ARG A  28\nENDMDL\nEND\n",
                    "binary": false
                  }
                ],
                "kwargs": {
                  "name": "nglview.adaptor.MDTrajTrajectory",
                  "defaultRepresentation": true,
                  "ext": "pdb"
                }
              },
              {
                "component_index": 0,
                "target": "compList",
                "type": "call_method",
                "methodName": "removeAllRepresentations",
                "reconstruc_color_scheme": false,
                "args": [],
                "kwargs": {}
              },
              {
                "component_index": 0,
                "target": "compList",
                "type": "call_method",
                "methodName": "addRepresentation",
                "reconstruc_color_scheme": false,
                "args": [
                  "ball+stick"
                ],
                "kwargs": {
                  "sele": "all"
                }
              }
            ],
            "_ngl_original_stage_parameters": {
              "impostor": true,
              "quality": "medium",
              "workerDefault": true,
              "sampleLevel": 0,
              "backgroundColor": "white",
              "rotateSpeed": 2,
              "zoomSpeed": 1.2,
              "panSpeed": 1,
              "clipNear": 0,
              "clipFar": 100,
              "clipDist": 10,
              "clipMode": "scene",
              "clipScale": "relative",
              "fogNear": 50,
              "fogFar": 100,
              "cameraFov": 40,
              "cameraEyeSep": 0.3,
              "cameraType": "perspective",
              "lightColor": 14540253,
              "lightIntensity": 1,
              "ambientColor": 14540253,
              "ambientIntensity": 0.2,
              "hoverTimeout": 0,
              "tooltip": true,
              "mousePreset": "default"
            },
            "_ngl_repr_dict": {
              "0": {
                "0": {
                  "type": "ball+stick",
                  "params": {
                    "lazy": false,
                    "visible": true,
                    "quality": "medium",
                    "sphereDetail": 1,
                    "radialSegments": 10,
                    "openEnded": true,
                    "disableImpostor": false,
                    "aspectRatio": 2,
                    "lineOnly": false,
                    "cylinderOnly": false,
                    "multipleBond": "off",
                    "bondScale": 0.4,
                    "bondSpacing": 1,
                    "linewidth": 2,
                    "radiusType": "size",
                    "radiusData": {},
                    "radiusSize": 0.15,
                    "radiusScale": 1,
                    "assembly": "default",
                    "defaultAssembly": "",
                    "clipNear": 0,
                    "clipRadius": 0,
                    "clipCenter": {
                      "x": 0,
                      "y": 0,
                      "z": 0
                    },
                    "flatShaded": false,
                    "opacity": 1,
                    "depthWrite": true,
                    "side": "double",
                    "wireframe": false,
                    "colorScheme": "element",
                    "colorScale": "",
                    "colorReverse": false,
                    "colorValue": 9474192,
                    "colorMode": "hcl",
                    "roughness": 0.4,
                    "metalness": 0,
                    "diffuse": 16777215,
                    "diffuseInterior": false,
                    "useInteriorColor": true,
                    "interiorColor": 2236962,
                    "interiorDarkening": 0,
                    "matrix": {
                      "elements": [
                        1,
                        0,
                        0,
                        0,
                        0,
                        1,
                        0,
                        0,
                        0,
                        0,
                        1,
                        0,
                        0,
                        0,
                        0,
                        1
                      ]
                    },
                    "disablePicking": false,
                    "sele": "all"
                  }
                },
                "1": {
                  "type": "ball+stick",
                  "params": {
                    "lazy": false,
                    "visible": true,
                    "quality": "medium",
                    "sphereDetail": 1,
                    "radialSegments": 10,
                    "openEnded": true,
                    "disableImpostor": false,
                    "aspectRatio": 2,
                    "lineOnly": false,
                    "cylinderOnly": false,
                    "multipleBond": "off",
                    "bondScale": 0.4,
                    "bondSpacing": 1,
                    "linewidth": 2,
                    "radiusType": "size",
                    "radiusData": {},
                    "radiusSize": 0.15,
                    "radiusScale": 1,
                    "assembly": "default",
                    "defaultAssembly": "",
                    "clipNear": 0,
                    "clipRadius": 0,
                    "clipCenter": {
                      "x": 0,
                      "y": 0,
                      "z": 0
                    },
                    "flatShaded": false,
                    "opacity": 1,
                    "depthWrite": true,
                    "side": "double",
                    "wireframe": false,
                    "colorScheme": "element",
                    "colorScale": "",
                    "colorReverse": false,
                    "colorValue": 9474192,
                    "colorMode": "hcl",
                    "roughness": 0.4,
                    "metalness": 0,
                    "diffuse": 16777215,
                    "diffuseInterior": false,
                    "useInteriorColor": true,
                    "interiorColor": 2236962,
                    "interiorDarkening": 0,
                    "matrix": {
                      "elements": [
                        1,
                        0,
                        0,
                        0,
                        0,
                        1,
                        0,
                        0,
                        0,
                        0,
                        1,
                        0,
                        0,
                        0,
                        0,
                        1
                      ]
                    },
                    "disablePicking": false,
                    "sele": "all"
                  }
                }
              },
              "1": {
                "0": {
                  "type": "cartoon",
                  "params": {
                    "lazy": false,
                    "visible": true,
                    "quality": "high",
                    "aspectRatio": 5,
                    "subdiv": 6,
                    "radialSegments": 20,
                    "tension": null,
                    "capped": true,
                    "smoothSheet": false,
                    "radiusType": "sstruc",
                    "radiusData": {},
                    "radiusSize": 1,
                    "radiusScale": 0.7,
                    "assembly": "default",
                    "defaultAssembly": "",
                    "clipNear": 0,
                    "clipRadius": 0,
                    "clipCenter": {
                      "x": 0,
                      "y": 0,
                      "z": 0
                    },
                    "flatShaded": false,
                    "opacity": 1,
                    "depthWrite": true,
                    "side": "double",
                    "wireframe": false,
                    "colorScheme": "residueindex",
                    "colorScale": "spectral",
                    "colorReverse": true,
                    "colorValue": 9474192,
                    "colorMode": "hcl",
                    "roughness": 0.4,
                    "metalness": 0,
                    "diffuse": 16777215,
                    "diffuseInterior": false,
                    "useInteriorColor": true,
                    "interiorColor": 2236962,
                    "interiorDarkening": 0,
                    "matrix": {
                      "elements": [
                        1,
                        0,
                        0,
                        0,
                        0,
                        1,
                        0,
                        0,
                        0,
                        0,
                        1,
                        0,
                        0,
                        0,
                        0,
                        1
                      ]
                    },
                    "disablePicking": false,
                    "sele": ""
                  }
                },
                "1": {
                  "type": "base",
                  "params": {
                    "lazy": false,
                    "visible": true,
                    "quality": "high",
                    "sphereDetail": 2,
                    "radialSegments": 20,
                    "openEnded": true,
                    "disableImpostor": false,
                    "aspectRatio": 1,
                    "lineOnly": false,
                    "cylinderOnly": false,
                    "bondScale": 0.4,
                    "linewidth": 2,
                    "radiusType": "size",
                    "radiusData": {},
                    "radiusSize": 0.3,
                    "radiusScale": 1,
                    "assembly": "default",
                    "defaultAssembly": "",
                    "clipNear": 0,
                    "clipRadius": 0,
                    "clipCenter": {
                      "x": 0,
                      "y": 0,
                      "z": 0
                    },
                    "flatShaded": false,
                    "opacity": 1,
                    "depthWrite": true,
                    "side": "double",
                    "wireframe": false,
                    "colorScheme": "residueindex",
                    "colorScale": "spectral",
                    "colorReverse": true,
                    "colorValue": 9474192,
                    "colorMode": "hcl",
                    "roughness": 0.4,
                    "metalness": 0,
                    "diffuse": 16777215,
                    "diffuseInterior": false,
                    "useInteriorColor": true,
                    "interiorColor": 2236962,
                    "interiorDarkening": 0,
                    "matrix": {
                      "elements": [
                        1,
                        0,
                        0,
                        0,
                        0,
                        1,
                        0,
                        0,
                        0,
                        0,
                        1,
                        0,
                        0,
                        0,
                        0,
                        1
                      ]
                    },
                    "disablePicking": false,
                    "sele": ""
                  }
                },
                "2": {
                  "type": "ball+stick",
                  "params": {
                    "lazy": false,
                    "visible": true,
                    "quality": "high",
                    "sphereDetail": 2,
                    "radialSegments": 20,
                    "openEnded": true,
                    "disableImpostor": false,
                    "aspectRatio": 1.5,
                    "lineOnly": false,
                    "cylinderOnly": false,
                    "multipleBond": "off",
                    "bondScale": 0.3,
                    "bondSpacing": 0.75,
                    "linewidth": 2,
                    "radiusType": "size",
                    "radiusData": {},
                    "radiusSize": 0.15,
                    "radiusScale": 2,
                    "assembly": "default",
                    "defaultAssembly": "",
                    "clipNear": 0,
                    "clipRadius": 0,
                    "clipCenter": {
                      "x": 0,
                      "y": 0,
                      "z": 0
                    },
                    "flatShaded": false,
                    "opacity": 1,
                    "depthWrite": true,
                    "side": "double",
                    "wireframe": false,
                    "colorScheme": "element",
                    "colorScale": "",
                    "colorReverse": false,
                    "colorValue": 9474192,
                    "colorMode": "hcl",
                    "roughness": 0.4,
                    "metalness": 0,
                    "diffuse": 16777215,
                    "diffuseInterior": false,
                    "useInteriorColor": true,
                    "interiorColor": 2236962,
                    "interiorDarkening": 0,
                    "matrix": {
                      "elements": [
                        1,
                        0,
                        0,
                        0,
                        0,
                        1,
                        0,
                        0,
                        0,
                        0,
                        1,
                        0,
                        0,
                        0,
                        0,
                        1
                      ]
                    },
                    "disablePicking": false,
                    "sele": "ligand"
                  }
                }
              }
            },
            "_ngl_serialize": false,
            "_ngl_version": "2.0.0-dev.39",
            "_ngl_view_id": [
              "E5EF9248-5730-488C-9277-8BFD9316291B"
            ],
            "_player_dict": {},
            "_scene_position": {},
            "_scene_rotation": {},
            "_synced_model_ids": [],
            "_synced_repr_model_ids": [],
            "_view_count": null,
            "_view_height": "",
            "_view_module": "nglview-js-widgets",
            "_view_module_version": "3.0.8",
            "_view_name": "NGLView",
            "_view_width": "",
            "background": "white",
            "frame": 0,
            "gui_style": null,
            "layout": "IPY_MODEL_5c5d0ad9de524cf68962ffe073977180",
            "max_frame": 19,
            "n_components": 2,
            "picked": {}
          }
        },
        "5c5d0ad9de524cf68962ffe073977180": {
          "model_module": "@jupyter-widgets/base",
          "model_name": "LayoutModel",
          "model_module_version": "1.2.0",
          "state": {
            "_model_module": "@jupyter-widgets/base",
            "_model_module_version": "1.2.0",
            "_model_name": "LayoutModel",
            "_view_count": null,
            "_view_module": "@jupyter-widgets/base",
            "_view_module_version": "1.2.0",
            "_view_name": "LayoutView",
            "align_content": null,
            "align_items": null,
            "align_self": null,
            "border": null,
            "bottom": null,
            "display": null,
            "flex": null,
            "flex_flow": null,
            "grid_area": null,
            "grid_auto_columns": null,
            "grid_auto_flow": null,
            "grid_auto_rows": null,
            "grid_column": null,
            "grid_gap": null,
            "grid_row": null,
            "grid_template_areas": null,
            "grid_template_columns": null,
            "grid_template_rows": null,
            "height": null,
            "justify_content": null,
            "justify_items": null,
            "left": null,
            "margin": null,
            "max_height": null,
            "max_width": null,
            "min_height": null,
            "min_width": null,
            "object_fit": null,
            "object_position": null,
            "order": null,
            "overflow": null,
            "overflow_x": null,
            "overflow_y": null,
            "padding": null,
            "right": null,
            "top": null,
            "visibility": null,
            "width": null
          }
        },
        "7cf4652293d44afeb352430f1b38427a": {
          "model_module": "@jupyter-widgets/controls",
          "model_name": "ButtonModel",
          "model_module_version": "1.5.0",
          "state": {
            "_dom_classes": [],
            "_model_module": "@jupyter-widgets/controls",
            "_model_module_version": "1.5.0",
            "_model_name": "ButtonModel",
            "_view_count": null,
            "_view_module": "@jupyter-widgets/controls",
            "_view_module_version": "1.5.0",
            "_view_name": "ButtonView",
            "button_style": "",
            "description": "",
            "disabled": false,
            "icon": "compress",
            "layout": "IPY_MODEL_f07d66a59b1a4a7fae81f7d17fa12194",
            "style": "IPY_MODEL_4f47c81218ee48fc90b73e4a09f47b0d",
            "tooltip": ""
          }
        },
        "e6ac99dee2894b76b2b0c4c39d722ccd": {
          "model_module": "@jupyter-widgets/controls",
          "model_name": "HBoxModel",
          "model_module_version": "1.5.0",
          "state": {
            "_dom_classes": [],
            "_model_module": "@jupyter-widgets/controls",
            "_model_module_version": "1.5.0",
            "_model_name": "HBoxModel",
            "_view_count": null,
            "_view_module": "@jupyter-widgets/controls",
            "_view_module_version": "1.5.0",
            "_view_name": "HBoxView",
            "box_style": "",
            "children": [
              "IPY_MODEL_42469695fb3648b4ac070934372a5e3e",
              "IPY_MODEL_0145ecec683a4a9b8c8ffc163cf3bd65"
            ],
            "layout": "IPY_MODEL_ece03433703641228b2ef0be0e36224c"
          }
        },
        "3456e529ed5c464f9d5f188309e7653d": {
          "model_module": "@jupyter-widgets/base",
          "model_name": "LayoutModel",
          "model_module_version": "1.2.0",
          "state": {
            "_model_module": "@jupyter-widgets/base",
            "_model_module_version": "1.2.0",
            "_model_name": "LayoutModel",
            "_view_count": null,
            "_view_module": "@jupyter-widgets/base",
            "_view_module_version": "1.2.0",
            "_view_name": "LayoutView",
            "align_content": null,
            "align_items": null,
            "align_self": null,
            "border": null,
            "bottom": null,
            "display": null,
            "flex": null,
            "flex_flow": null,
            "grid_area": null,
            "grid_auto_columns": null,
            "grid_auto_flow": null,
            "grid_auto_rows": null,
            "grid_column": null,
            "grid_gap": null,
            "grid_row": null,
            "grid_template_areas": null,
            "grid_template_columns": null,
            "grid_template_rows": null,
            "height": null,
            "justify_content": null,
            "justify_items": null,
            "left": null,
            "margin": null,
            "max_height": null,
            "max_width": null,
            "min_height": null,
            "min_width": null,
            "object_fit": null,
            "object_position": null,
            "order": null,
            "overflow": null,
            "overflow_x": null,
            "overflow_y": null,
            "padding": null,
            "right": null,
            "top": null,
            "visibility": null,
            "width": null
          }
        },
        "b5d52d9fac524c91b5272293933a5c19": {
          "model_module": "@jupyter-widgets/controls",
          "model_name": "DescriptionStyleModel",
          "model_module_version": "1.5.0",
          "state": {
            "_model_module": "@jupyter-widgets/controls",
            "_model_module_version": "1.5.0",
            "_model_name": "DescriptionStyleModel",
            "_view_count": null,
            "_view_module": "@jupyter-widgets/base",
            "_view_module_version": "1.2.0",
            "_view_name": "StyleView",
            "description_width": ""
          }
        },
        "7a0e5589b2634f8f9c3634226ac96148": {
          "model_module": "@jupyter-widgets/base",
          "model_name": "LayoutModel",
          "model_module_version": "1.2.0",
          "state": {
            "_model_module": "@jupyter-widgets/base",
            "_model_module_version": "1.2.0",
            "_model_name": "LayoutModel",
            "_view_count": null,
            "_view_module": "@jupyter-widgets/base",
            "_view_module_version": "1.2.0",
            "_view_name": "LayoutView",
            "align_content": null,
            "align_items": null,
            "align_self": null,
            "border": null,
            "bottom": null,
            "display": null,
            "flex": null,
            "flex_flow": null,
            "grid_area": null,
            "grid_auto_columns": null,
            "grid_auto_flow": null,
            "grid_auto_rows": null,
            "grid_column": null,
            "grid_gap": null,
            "grid_row": null,
            "grid_template_areas": null,
            "grid_template_columns": null,
            "grid_template_rows": null,
            "height": null,
            "justify_content": null,
            "justify_items": null,
            "left": null,
            "margin": null,
            "max_height": null,
            "max_width": null,
            "min_height": null,
            "min_width": null,
            "object_fit": null,
            "object_position": null,
            "order": null,
            "overflow": null,
            "overflow_x": null,
            "overflow_y": null,
            "padding": null,
            "right": null,
            "top": null,
            "visibility": null,
            "width": null
          }
        },
        "f70f324bd1ca4493a41ea0ed5e760e01": {
          "model_module": "@jupyter-widgets/controls",
          "model_name": "SliderStyleModel",
          "model_module_version": "1.5.0",
          "state": {
            "_model_module": "@jupyter-widgets/controls",
            "_model_module_version": "1.5.0",
            "_model_name": "SliderStyleModel",
            "_view_count": null,
            "_view_module": "@jupyter-widgets/base",
            "_view_module_version": "1.2.0",
            "_view_name": "StyleView",
            "description_width": "",
            "handle_color": null
          }
        },
        "42469695fb3648b4ac070934372a5e3e": {
          "model_module": "@jupyter-widgets/controls",
          "model_name": "PlayModel",
          "model_module_version": "1.5.0",
          "state": {
            "_dom_classes": [],
            "_model_module": "@jupyter-widgets/controls",
            "_model_module_version": "1.5.0",
            "_model_name": "PlayModel",
            "_playing": false,
            "_repeat": false,
            "_view_count": null,
            "_view_module": "@jupyter-widgets/controls",
            "_view_module_version": "1.5.0",
            "_view_name": "PlayView",
            "description": "",
            "description_tooltip": null,
            "disabled": false,
            "interval": 100,
            "layout": "IPY_MODEL_3456e529ed5c464f9d5f188309e7653d",
            "max": 19,
            "min": 0,
            "show_repeat": true,
            "step": 1,
            "style": "IPY_MODEL_b5d52d9fac524c91b5272293933a5c19",
            "value": 0,
            "playing": false
          }
        },
        "0145ecec683a4a9b8c8ffc163cf3bd65": {
          "model_module": "@jupyter-widgets/controls",
          "model_name": "IntSliderModel",
          "model_module_version": "1.5.0",
          "state": {
            "_dom_classes": [],
            "_model_module": "@jupyter-widgets/controls",
            "_model_module_version": "1.5.0",
            "_model_name": "IntSliderModel",
            "_view_count": null,
            "_view_module": "@jupyter-widgets/controls",
            "_view_module_version": "1.5.0",
            "_view_name": "IntSliderView",
            "continuous_update": true,
            "description": "",
            "description_tooltip": null,
            "disabled": false,
            "layout": "IPY_MODEL_7a0e5589b2634f8f9c3634226ac96148",
            "max": 19,
            "min": 0,
            "orientation": "horizontal",
            "readout": true,
            "readout_format": "d",
            "step": 1,
            "style": "IPY_MODEL_f70f324bd1ca4493a41ea0ed5e760e01",
            "value": 0
          }
        },
        "f07d66a59b1a4a7fae81f7d17fa12194": {
          "model_module": "@jupyter-widgets/base",
          "model_name": "LayoutModel",
          "model_module_version": "1.2.0",
          "state": {
            "_model_module": "@jupyter-widgets/base",
            "_model_module_version": "1.2.0",
            "_model_name": "LayoutModel",
            "_view_count": null,
            "_view_module": "@jupyter-widgets/base",
            "_view_module_version": "1.2.0",
            "_view_name": "LayoutView",
            "align_content": null,
            "align_items": null,
            "align_self": null,
            "border": null,
            "bottom": null,
            "display": null,
            "flex": null,
            "flex_flow": null,
            "grid_area": null,
            "grid_auto_columns": null,
            "grid_auto_flow": null,
            "grid_auto_rows": null,
            "grid_column": null,
            "grid_gap": null,
            "grid_row": null,
            "grid_template_areas": null,
            "grid_template_columns": null,
            "grid_template_rows": null,
            "height": null,
            "justify_content": null,
            "justify_items": null,
            "left": null,
            "margin": null,
            "max_height": null,
            "max_width": null,
            "min_height": null,
            "min_width": null,
            "object_fit": null,
            "object_position": null,
            "order": null,
            "overflow": null,
            "overflow_x": null,
            "overflow_y": null,
            "padding": null,
            "right": null,
            "top": null,
            "visibility": null,
            "width": "34px"
          }
        },
        "4f47c81218ee48fc90b73e4a09f47b0d": {
          "model_module": "@jupyter-widgets/controls",
          "model_name": "ButtonStyleModel",
          "model_module_version": "1.5.0",
          "state": {
            "_model_module": "@jupyter-widgets/controls",
            "_model_module_version": "1.5.0",
            "_model_name": "ButtonStyleModel",
            "_view_count": null,
            "_view_module": "@jupyter-widgets/base",
            "_view_module_version": "1.2.0",
            "_view_name": "StyleView",
            "button_color": null,
            "font_weight": ""
          }
        },
        "ece03433703641228b2ef0be0e36224c": {
          "model_module": "@jupyter-widgets/base",
          "model_name": "LayoutModel",
          "model_module_version": "1.2.0",
          "state": {
            "_model_module": "@jupyter-widgets/base",
            "_model_module_version": "1.2.0",
            "_model_name": "LayoutModel",
            "_view_count": null,
            "_view_module": "@jupyter-widgets/base",
            "_view_module_version": "1.2.0",
            "_view_name": "LayoutView",
            "align_content": null,
            "align_items": null,
            "align_self": null,
            "border": null,
            "bottom": null,
            "display": null,
            "flex": null,
            "flex_flow": null,
            "grid_area": null,
            "grid_auto_columns": null,
            "grid_auto_flow": null,
            "grid_auto_rows": null,
            "grid_column": null,
            "grid_gap": null,
            "grid_row": null,
            "grid_template_areas": null,
            "grid_template_columns": null,
            "grid_template_rows": null,
            "height": null,
            "justify_content": null,
            "justify_items": null,
            "left": null,
            "margin": null,
            "max_height": null,
            "max_width": null,
            "min_height": null,
            "min_width": null,
            "object_fit": null,
            "object_position": null,
            "order": null,
            "overflow": null,
            "overflow_x": null,
            "overflow_y": null,
            "padding": null,
            "right": null,
            "top": null,
            "visibility": null,
            "width": null
          }
        }
      }
    }
  },
  "nbformat": 4,
  "nbformat_minor": 0
}